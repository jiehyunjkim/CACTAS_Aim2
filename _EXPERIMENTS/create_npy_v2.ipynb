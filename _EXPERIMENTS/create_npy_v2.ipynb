{
 "cells": [
  {
   "cell_type": "code",
   "execution_count": 5,
   "id": "1770680c",
   "metadata": {},
   "outputs": [
    {
     "name": "stdout",
     "output_type": "stream",
     "text": [
      "Populating the interactive namespace from numpy and matplotlib\n"
     ]
    },
    {
     "name": "stderr",
     "output_type": "stream",
     "text": [
      "/home/jiehyun.kim001/miniconda3/envs/O/lib/python3.9/site-packages/IPython/core/magics/pylab.py:159: UserWarning: pylab import has clobbered these variables: ['f']\n",
      "`%matplotlib` prevents importing * from pylab and numpy\n",
      "  warn(\"pylab import has clobbered these variables: %s\"  % clobbered +\n"
     ]
    }
   ],
   "source": [
    "%pylab inline\n",
    "import os\n",
    "import nrrd\n",
    "import json"
   ]
  },
  {
   "cell_type": "code",
   "execution_count": 6,
   "id": "6fcc32f8",
   "metadata": {},
   "outputs": [],
   "source": [
    "DATAPATH = '/raid/mpsych/CACTAS/DATA/ESUS/'"
   ]
  },
  {
   "cell_type": "code",
   "execution_count": null,
   "id": "cc8a77e2",
   "metadata": {},
   "outputs": [],
   "source": []
  },
  {
   "cell_type": "code",
   "execution_count": 33,
   "id": "bbb316a6",
   "metadata": {},
   "outputs": [],
   "source": [
    "all_slices = []\n",
    "data = {}\n",
    "count = 0\n",
    "ids = []\n",
    "\n",
    "for f in os.listdir(DATAPATH):\n",
    "    if f.endswith('img.nrrd'):\n",
    "        current_id = f.split('.')[0]\n",
    "        ids += [int(current_id)]\n",
    "        ids = sorted(ids)\n",
    "#print(ids)\n",
    "        \n",
    "for i in range(64):\n",
    "    #print(DATAPATH + str(ids[i]) + '.img.nrrd')\n",
    "    im, h = nrrd.read(DATAPATH + str(ids[i]) + '.img.nrrd')\n",
    "\n",
    "    data[ids[i]] = count\n",
    "\n",
    "    for z in range(im.shape[2]):\n",
    "        all_slices.append(im[:, :, z])\n",
    "        count += 1\n"
   ]
  },
  {
   "cell_type": "code",
   "execution_count": null,
   "id": "d09f96e9",
   "metadata": {},
   "outputs": [],
   "source": [
    "'''\n",
    "for f in enumerate(os.listdir(DATAPATH)):\n",
    "    if f.endswith('img.nrrd'):\n",
    "        im, h = nrrd.read(DATAPATH + str(ids[i]) + '.img.nrrd')\n",
    "\n",
    "        data[ids[i]] = count\n",
    "\n",
    "        for z in range(im.shape[2]):\n",
    "            all_slices.append(im[:, :, z])\n",
    "            count += 1\n",
    "'''"
   ]
  },
  {
   "cell_type": "code",
   "execution_count": 34,
   "id": "eec4dd0a",
   "metadata": {},
   "outputs": [
    {
     "data": {
      "text/plain": [
       "{2: 0,\n",
       " 5: 242,\n",
       " 6: 443,\n",
       " 7: 722,\n",
       " 9: 932,\n",
       " 10: 1173,\n",
       " 12: 1407,\n",
       " 13: 1629,\n",
       " 14: 1879,\n",
       " 15: 2134,\n",
       " 16: 2303,\n",
       " 17: 2540,\n",
       " 18: 2833,\n",
       " 21: 3044,\n",
       " 22: 3276,\n",
       " 23: 3452,\n",
       " 24: 3667,\n",
       " 25: 3912,\n",
       " 26: 4149,\n",
       " 27: 4389,\n",
       " 29: 4605,\n",
       " 31: 4831,\n",
       " 32: 5011,\n",
       " 33: 5252,\n",
       " 35: 5510,\n",
       " 36: 5749,\n",
       " 39: 5970,\n",
       " 40: 6215,\n",
       " 41: 6436,\n",
       " 45: 6621,\n",
       " 46: 6860,\n",
       " 47: 7095,\n",
       " 48: 7288,\n",
       " 49: 7813,\n",
       " 50: 8067,\n",
       " 51: 8312,\n",
       " 52: 8702,\n",
       " 53: 8932,\n",
       " 57: 9171,\n",
       " 61: 9407,\n",
       " 62: 9479,\n",
       " 63: 9747,\n",
       " 64: 9926,\n",
       " 66: 10163,\n",
       " 69: 10404,\n",
       " 71: 10636,\n",
       " 72: 10845,\n",
       " 73: 11076,\n",
       " 75: 11331,\n",
       " 77: 11571,\n",
       " 79: 11765,\n",
       " 82: 12029,\n",
       " 83: 12265,\n",
       " 84: 12529,\n",
       " 86: 12699,\n",
       " 87: 12934,\n",
       " 88: 13195,\n",
       " 90: 13408,\n",
       " 91: 13624,\n",
       " 92: 13800,\n",
       " 93: 14028,\n",
       " 94: 14246,\n",
       " 96: 14446,\n",
       " 97: 14676}"
      ]
     },
     "execution_count": 34,
     "metadata": {},
     "output_type": "execute_result"
    }
   ],
   "source": [
    "data"
   ]
  },
  {
   "cell_type": "code",
   "execution_count": 35,
   "id": "ffd57924",
   "metadata": {},
   "outputs": [],
   "source": [
    "with open(\"images_data_v2.json\", \"w\") as fp:\n",
    "    json.dump(data, fp) "
   ]
  },
  {
   "cell_type": "code",
   "execution_count": 38,
   "id": "a45752e4",
   "metadata": {},
   "outputs": [],
   "source": [
    "with open(\"images_data_v2.json\", \"r\") as fp:\n",
    "    image_data = json.load(fp)"
   ]
  },
  {
   "cell_type": "code",
   "execution_count": 39,
   "id": "26b5a764",
   "metadata": {},
   "outputs": [
    {
     "data": {
      "text/plain": [
       "{'2': 0,\n",
       " '5': 242,\n",
       " '6': 443,\n",
       " '7': 722,\n",
       " '9': 932,\n",
       " '10': 1173,\n",
       " '12': 1407,\n",
       " '13': 1629,\n",
       " '14': 1879,\n",
       " '15': 2134,\n",
       " '16': 2303,\n",
       " '17': 2540,\n",
       " '18': 2833,\n",
       " '21': 3044,\n",
       " '22': 3276,\n",
       " '23': 3452,\n",
       " '24': 3667,\n",
       " '25': 3912,\n",
       " '26': 4149,\n",
       " '27': 4389,\n",
       " '29': 4605,\n",
       " '31': 4831,\n",
       " '32': 5011,\n",
       " '33': 5252,\n",
       " '35': 5510,\n",
       " '36': 5749,\n",
       " '39': 5970,\n",
       " '40': 6215,\n",
       " '41': 6436,\n",
       " '45': 6621,\n",
       " '46': 6860,\n",
       " '47': 7095,\n",
       " '48': 7288,\n",
       " '49': 7813,\n",
       " '50': 8067,\n",
       " '51': 8312,\n",
       " '52': 8702,\n",
       " '53': 8932,\n",
       " '57': 9171,\n",
       " '61': 9407,\n",
       " '62': 9479,\n",
       " '63': 9747,\n",
       " '64': 9926,\n",
       " '66': 10163,\n",
       " '69': 10404,\n",
       " '71': 10636,\n",
       " '72': 10845,\n",
       " '73': 11076,\n",
       " '75': 11331,\n",
       " '77': 11571,\n",
       " '79': 11765,\n",
       " '82': 12029,\n",
       " '83': 12265,\n",
       " '84': 12529,\n",
       " '86': 12699,\n",
       " '87': 12934,\n",
       " '88': 13195,\n",
       " '90': 13408,\n",
       " '91': 13624,\n",
       " '92': 13800,\n",
       " '93': 14028,\n",
       " '94': 14246,\n",
       " '96': 14446,\n",
       " '97': 14676}"
      ]
     },
     "execution_count": 39,
     "metadata": {},
     "output_type": "execute_result"
    }
   ],
   "source": [
    "image_data"
   ]
  },
  {
   "cell_type": "code",
   "execution_count": 5,
   "id": "401edb27",
   "metadata": {},
   "outputs": [],
   "source": [
    "a = np.zeros((len(all_slices), all_slices[0].shape[0], all_slices[0].shape[1]), dtype=all_slices[0].dtype)"
   ]
  },
  {
   "cell_type": "code",
   "execution_count": 6,
   "id": "cf88dac9",
   "metadata": {},
   "outputs": [
    {
     "data": {
      "text/plain": [
       "14893"
      ]
     },
     "execution_count": 6,
     "metadata": {},
     "output_type": "execute_result"
    }
   ],
   "source": [
    "len(all_slices)"
   ]
  },
  {
   "cell_type": "code",
   "execution_count": 7,
   "id": "d829c1ec",
   "metadata": {},
   "outputs": [
    {
     "data": {
      "text/plain": [
       "(14893, 512, 512)"
      ]
     },
     "execution_count": 7,
     "metadata": {},
     "output_type": "execute_result"
    }
   ],
   "source": [
    "a.shape"
   ]
  },
  {
   "cell_type": "code",
   "execution_count": 8,
   "id": "3bf4c1ff",
   "metadata": {},
   "outputs": [],
   "source": [
    "for i, s in enumerate(all_slices):\n",
    "    a[i] = s"
   ]
  },
  {
   "cell_type": "code",
   "execution_count": 9,
   "id": "4dee1a04",
   "metadata": {},
   "outputs": [],
   "source": [
    "#np.save(DATAPATH + 'image.npy', a)"
   ]
  },
  {
   "cell_type": "code",
   "execution_count": 10,
   "id": "25323bb0",
   "metadata": {},
   "outputs": [],
   "source": [
    "images_file = os.path.join(DATAPATH, 'image.npy')\n",
    "images = np.load(images_file)"
   ]
  },
  {
   "cell_type": "code",
   "execution_count": 11,
   "id": "d4539334",
   "metadata": {},
   "outputs": [
    {
     "data": {
      "text/plain": [
       "(14893, 512, 512)"
      ]
     },
     "execution_count": 11,
     "metadata": {},
     "output_type": "execute_result"
    }
   ],
   "source": [
    "images.shape"
   ]
  },
  {
   "cell_type": "code",
   "execution_count": 12,
   "id": "21e41b9c",
   "metadata": {},
   "outputs": [
    {
     "data": {
      "text/plain": [
       "3"
      ]
     },
     "execution_count": 12,
     "metadata": {},
     "output_type": "execute_result"
    }
   ],
   "source": [
    "images.ndim"
   ]
  },
  {
   "cell_type": "code",
   "execution_count": null,
   "id": "45a118b1",
   "metadata": {},
   "outputs": [],
   "source": []
  },
  {
   "cell_type": "code",
   "execution_count": 50,
   "id": "cc681f55",
   "metadata": {},
   "outputs": [],
   "source": [
    "all_slice = []\n",
    "datas = {}\n",
    "counts = 0\n",
    "id_s=[]\n",
    "\n",
    "for f in os.listdir(DATAPATH):\n",
    "    if f.endswith('seg.nrrd'):\n",
    "        current_id = f.split('.')[0]\n",
    "        id_s += [int(current_id)]\n",
    "        id_s = sorted(ids)\n",
    "#print(id_s)\n",
    "for i in range(64):\n",
    "    #print(DATAPATH + str(id_s[i]) + 'seg.nrrd')\n",
    "    if os.path.isfile(DATAPATH + str(id_s[i]) + '.seg.nrrd'):\n",
    "        im, h = nrrd.read(DATAPATH + str(id_s[i]) + '.seg.nrrd')\n",
    "    elif os.path.isfile(DATAPATH + str(id_s[i]) + '.a.seg.nrrd'):\n",
    "        im, h = nrrd.read(DATAPATH + str(id_s[i]) + '.a.seg.nrrd')\n",
    "    \n",
    "    datas[id_s[i]] = counts\n",
    "\n",
    "    for z in range(im.shape[2]):\n",
    "        all_slice.append(im[:, :, z])\n",
    "        counts += 1"
   ]
  },
  {
   "cell_type": "code",
   "execution_count": 51,
   "id": "b982b186",
   "metadata": {},
   "outputs": [
    {
     "data": {
      "text/plain": [
       "{2: 0,\n",
       " 5: 242,\n",
       " 6: 443,\n",
       " 7: 722,\n",
       " 9: 932,\n",
       " 10: 1173,\n",
       " 12: 1407,\n",
       " 13: 1629,\n",
       " 14: 1879,\n",
       " 15: 2134,\n",
       " 16: 2303,\n",
       " 17: 2540,\n",
       " 18: 2833,\n",
       " 21: 3044,\n",
       " 22: 3276,\n",
       " 23: 3452,\n",
       " 24: 3667,\n",
       " 25: 3912,\n",
       " 26: 4149,\n",
       " 27: 4389,\n",
       " 29: 4605,\n",
       " 31: 4831,\n",
       " 32: 5011,\n",
       " 33: 5252,\n",
       " 35: 5510,\n",
       " 36: 5749,\n",
       " 39: 5970,\n",
       " 40: 6215,\n",
       " 41: 6436,\n",
       " 45: 6621,\n",
       " 46: 6860,\n",
       " 47: 7095,\n",
       " 48: 7288,\n",
       " 49: 7813,\n",
       " 50: 8067,\n",
       " 51: 8312,\n",
       " 52: 8702,\n",
       " 53: 8932,\n",
       " 57: 9171,\n",
       " 61: 9407,\n",
       " 62: 9479,\n",
       " 63: 9747,\n",
       " 64: 9926,\n",
       " 66: 10163,\n",
       " 69: 10404,\n",
       " 71: 10636,\n",
       " 72: 10845,\n",
       " 73: 11076,\n",
       " 75: 11331,\n",
       " 77: 11571,\n",
       " 79: 11765,\n",
       " 82: 12029,\n",
       " 83: 12265,\n",
       " 84: 12529,\n",
       " 86: 12699,\n",
       " 87: 12934,\n",
       " 88: 13195,\n",
       " 90: 13408,\n",
       " 91: 13624,\n",
       " 92: 13800,\n",
       " 93: 14028,\n",
       " 94: 14246,\n",
       " 96: 14446,\n",
       " 97: 14676}"
      ]
     },
     "execution_count": 51,
     "metadata": {},
     "output_type": "execute_result"
    }
   ],
   "source": [
    "datas"
   ]
  },
  {
   "cell_type": "code",
   "execution_count": 52,
   "id": "9c423dc2",
   "metadata": {},
   "outputs": [],
   "source": [
    "with open(\"labels_data_v2.json\", \"w\") as fp:\n",
    "    json.dump(datas, fp) "
   ]
  },
  {
   "cell_type": "code",
   "execution_count": 53,
   "id": "783a80a8",
   "metadata": {},
   "outputs": [],
   "source": [
    "with open(\"labels_data_v2.json\", \"r\") as fp:\n",
    "    label_data = json.load(fp)"
   ]
  },
  {
   "cell_type": "code",
   "execution_count": 54,
   "id": "81a27687",
   "metadata": {},
   "outputs": [
    {
     "data": {
      "text/plain": [
       "{'2': 0,\n",
       " '5': 242,\n",
       " '6': 443,\n",
       " '7': 722,\n",
       " '9': 932,\n",
       " '10': 1173,\n",
       " '12': 1407,\n",
       " '13': 1629,\n",
       " '14': 1879,\n",
       " '15': 2134,\n",
       " '16': 2303,\n",
       " '17': 2540,\n",
       " '18': 2833,\n",
       " '21': 3044,\n",
       " '22': 3276,\n",
       " '23': 3452,\n",
       " '24': 3667,\n",
       " '25': 3912,\n",
       " '26': 4149,\n",
       " '27': 4389,\n",
       " '29': 4605,\n",
       " '31': 4831,\n",
       " '32': 5011,\n",
       " '33': 5252,\n",
       " '35': 5510,\n",
       " '36': 5749,\n",
       " '39': 5970,\n",
       " '40': 6215,\n",
       " '41': 6436,\n",
       " '45': 6621,\n",
       " '46': 6860,\n",
       " '47': 7095,\n",
       " '48': 7288,\n",
       " '49': 7813,\n",
       " '50': 8067,\n",
       " '51': 8312,\n",
       " '52': 8702,\n",
       " '53': 8932,\n",
       " '57': 9171,\n",
       " '61': 9407,\n",
       " '62': 9479,\n",
       " '63': 9747,\n",
       " '64': 9926,\n",
       " '66': 10163,\n",
       " '69': 10404,\n",
       " '71': 10636,\n",
       " '72': 10845,\n",
       " '73': 11076,\n",
       " '75': 11331,\n",
       " '77': 11571,\n",
       " '79': 11765,\n",
       " '82': 12029,\n",
       " '83': 12265,\n",
       " '84': 12529,\n",
       " '86': 12699,\n",
       " '87': 12934,\n",
       " '88': 13195,\n",
       " '90': 13408,\n",
       " '91': 13624,\n",
       " '92': 13800,\n",
       " '93': 14028,\n",
       " '94': 14246,\n",
       " '96': 14446,\n",
       " '97': 14676}"
      ]
     },
     "execution_count": 54,
     "metadata": {},
     "output_type": "execute_result"
    }
   ],
   "source": [
    "label_data"
   ]
  },
  {
   "cell_type": "code",
   "execution_count": 15,
   "id": "f016b6df",
   "metadata": {},
   "outputs": [],
   "source": [
    "b = np.zeros((len(all_slice), all_slice[0].shape[0], all_slice[0].shape[1]), dtype=all_slice[0].dtype)"
   ]
  },
  {
   "cell_type": "code",
   "execution_count": 16,
   "id": "a6e0be88",
   "metadata": {},
   "outputs": [],
   "source": [
    "for i, s in enumerate(all_slice):\n",
    "    b[i] = s"
   ]
  },
  {
   "cell_type": "code",
   "execution_count": 17,
   "id": "b1136ff3",
   "metadata": {},
   "outputs": [],
   "source": [
    "#np.save(DATAPATH + 'label.npy', b)"
   ]
  },
  {
   "cell_type": "code",
   "execution_count": 18,
   "id": "20a30865",
   "metadata": {},
   "outputs": [],
   "source": [
    "labels_file = os.path.join(DATAPATH, 'label.npy')\n",
    "labels = np.load(labels_file)"
   ]
  },
  {
   "cell_type": "code",
   "execution_count": 19,
   "id": "38776c12",
   "metadata": {},
   "outputs": [
    {
     "data": {
      "text/plain": [
       "(14893, 512, 512)"
      ]
     },
     "execution_count": 19,
     "metadata": {},
     "output_type": "execute_result"
    }
   ],
   "source": [
    "labels.shape"
   ]
  },
  {
   "cell_type": "code",
   "execution_count": 20,
   "id": "a485b418",
   "metadata": {},
   "outputs": [
    {
     "data": {
      "text/plain": [
       "3"
      ]
     },
     "execution_count": 20,
     "metadata": {},
     "output_type": "execute_result"
    }
   ],
   "source": [
    "labels.ndim"
   ]
  },
  {
   "cell_type": "code",
   "execution_count": null,
   "id": "519d7f21",
   "metadata": {},
   "outputs": [],
   "source": []
  },
  {
   "cell_type": "code",
   "execution_count": null,
   "id": "bbe96d0d",
   "metadata": {},
   "outputs": [],
   "source": []
  }
 ],
 "metadata": {
  "kernelspec": {
   "display_name": "Python 3 (ipykernel)",
   "language": "python",
   "name": "python3"
  },
  "language_info": {
   "codemirror_mode": {
    "name": "ipython",
    "version": 3
   },
   "file_extension": ".py",
   "mimetype": "text/x-python",
   "name": "python",
   "nbconvert_exporter": "python",
   "pygments_lexer": "ipython3",
   "version": "3.9.7"
  }
 },
 "nbformat": 4,
 "nbformat_minor": 5
}
