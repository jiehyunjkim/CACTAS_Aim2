{
 "cells": [
  {
   "cell_type": "code",
   "execution_count": 6,
   "metadata": {},
   "outputs": [],
   "source": [
    "import numpy as np\n",
    "import nrrd\n",
    "import sys\n",
    "import mahotas as mh"
   ]
  },
  {
   "cell_type": "code",
   "execution_count": 2,
   "metadata": {},
   "outputs": [],
   "source": [
    "image = '10.img.nrrd'\n",
    "label = '10.a.seg.nrrd'"
   ]
  },
  {
   "cell_type": "code",
   "execution_count": 3,
   "metadata": {},
   "outputs": [],
   "source": [
    "img = nrrd.read(image)\n",
    "labl = nrrd.read(label)"
   ]
  },
  {
   "cell_type": "code",
   "execution_count": 4,
   "metadata": {},
   "outputs": [
    {
     "name": "stdout",
     "output_type": "stream",
     "text": [
      "(array([[[ -101,   -98,   -92, ..., -1004,  -997,  -996],\n",
      "        [ -110,  -102,  -101, ..., -1005,  -998,  -995],\n",
      "        [ -114,  -104,  -111, ..., -1003,  -998,  -995],\n",
      "        ...,\n",
      "        [  107,   108,   104, ..., -1006, -1004, -1005],\n",
      "        [  118,   120,   128, ..., -1006, -1006, -1005],\n",
      "        [  121,   122,   130, ..., -1006, -1005, -1003]],\n",
      "\n",
      "       [[ -102,  -101,   -93, ..., -1004,  -997,  -994],\n",
      "        [ -113,  -112,   -97, ..., -1003,  -999,  -994],\n",
      "        [ -114,  -115,  -107, ..., -1001,  -999,  -994],\n",
      "        ...,\n",
      "        [   91,    98,    99, ..., -1005, -1004, -1004],\n",
      "        [  105,   107,   125, ..., -1005, -1006, -1005],\n",
      "        [  121,   121,   131, ..., -1005, -1006, -1004]],\n",
      "\n",
      "       [[ -100,   -98,   -97, ..., -1002,  -998,  -994],\n",
      "        [ -111,  -113,   -99, ..., -1000, -1000,  -994],\n",
      "        [ -113,  -121,  -107, ...,  -997,  -999,  -993],\n",
      "        ...,\n",
      "        [   83,    84,    88, ..., -1005, -1003, -1001],\n",
      "        [  102,    96,   112, ..., -1004, -1004, -1003],\n",
      "        [  119,   113,   118, ..., -1004, -1005, -1004]],\n",
      "\n",
      "       ...,\n",
      "\n",
      "       [[  -48,   -65,   -66, ..., -1001, -1000,  -999],\n",
      "        [  -55,   -58,   -60, ..., -1001,  -998,  -995],\n",
      "        [  -64,   -52,   -58, ..., -1002,  -996,  -991],\n",
      "        ...,\n",
      "        [ -939,  -940,  -940, ...,  -993,  -992,  -996],\n",
      "        [ -939,  -948,  -942, ...,  -994,  -992,  -997],\n",
      "        [ -938,  -944,  -938, ...,  -994,  -992,  -996]],\n",
      "\n",
      "       [[  -56,   -68,   -64, ..., -1001,  -999,  -999],\n",
      "        [  -60,   -49,   -58, ..., -1000,  -999,  -997],\n",
      "        [  -66,   -35,   -52, ..., -1002,  -999,  -995],\n",
      "        ...,\n",
      "        [ -938,  -937,  -943, ...,  -993,  -993,  -997],\n",
      "        [ -950,  -948,  -943, ...,  -993,  -992,  -997],\n",
      "        [ -947,  -947,  -939, ...,  -992,  -992,  -997]],\n",
      "\n",
      "       [[  -64,   -72,   -60, ..., -1000,  -997,  -997],\n",
      "        [  -70,   -50,   -56, ...,  -999,  -999,  -998],\n",
      "        [  -74,   -30,   -49, ..., -1001, -1000,  -997],\n",
      "        ...,\n",
      "        [ -940,  -931,  -942, ...,  -993,  -996,  -998],\n",
      "        [ -957,  -946,  -940, ...,  -993,  -995,  -997],\n",
      "        [ -954,  -950,  -937, ...,  -993,  -996,  -998]]], dtype=int16), OrderedDict([('type', 'short'), ('dimension', 3), ('space', 'left-posterior-superior'), ('sizes', array([512, 512, 234])), ('space directions', array([[0.46875, 0.     , 0.     ],\n",
      "       [0.     , 0.46875, 0.     ],\n",
      "       [0.     , 0.     , 1.5    ]])), ('kinds', ['domain', 'domain', 'domain']), ('endian', 'little'), ('encoding', 'gzip'), ('space origin', array([-102.765625, -288.765625,  863.      ]))]))\n"
     ]
    }
   ],
   "source": [
    "print(img)"
   ]
  },
  {
   "cell_type": "code",
   "execution_count": 31,
   "metadata": {},
   "outputs": [
    {
     "data": {
      "text/plain": [
       "OrderedDict([('type', 'short'),\n",
       "             ('dimension', 3),\n",
       "             ('space', 'left-posterior-superior'),\n",
       "             ('sizes', array([512, 512, 234])),\n",
       "             ('space directions',\n",
       "              array([[0.46875, 0.     , 0.     ],\n",
       "                     [0.     , 0.46875, 0.     ],\n",
       "                     [0.     , 0.     , 1.5    ]])),\n",
       "             ('kinds', ['domain', 'domain', 'domain']),\n",
       "             ('endian', 'little'),\n",
       "             ('encoding', 'gzip'),\n",
       "             ('space origin', array([-102.765625, -288.765625,  863.      ]))])"
      ]
     },
     "execution_count": 31,
     "metadata": {},
     "output_type": "execute_result"
    }
   ],
   "source": [
    "img[1]"
   ]
  },
  {
   "cell_type": "code",
   "execution_count": 5,
   "metadata": {},
   "outputs": [
    {
     "name": "stdout",
     "output_type": "stream",
     "text": [
      "(array([[[0, 0, 0, ..., 0, 0, 0],\n",
      "        [0, 0, 0, ..., 0, 0, 0],\n",
      "        [0, 0, 0, ..., 0, 0, 0],\n",
      "        ...,\n",
      "        [0, 0, 0, ..., 0, 0, 0],\n",
      "        [0, 0, 0, ..., 0, 0, 0],\n",
      "        [0, 0, 0, ..., 0, 0, 0]],\n",
      "\n",
      "       [[0, 0, 0, ..., 0, 0, 0],\n",
      "        [0, 0, 0, ..., 0, 0, 0],\n",
      "        [0, 0, 0, ..., 0, 0, 0],\n",
      "        ...,\n",
      "        [0, 0, 0, ..., 0, 0, 0],\n",
      "        [0, 0, 0, ..., 0, 0, 0],\n",
      "        [0, 0, 0, ..., 0, 0, 0]],\n",
      "\n",
      "       [[0, 0, 0, ..., 0, 0, 0],\n",
      "        [0, 0, 0, ..., 0, 0, 0],\n",
      "        [0, 0, 0, ..., 0, 0, 0],\n",
      "        ...,\n",
      "        [0, 0, 0, ..., 0, 0, 0],\n",
      "        [0, 0, 0, ..., 0, 0, 0],\n",
      "        [0, 0, 0, ..., 0, 0, 0]],\n",
      "\n",
      "       ...,\n",
      "\n",
      "       [[0, 0, 0, ..., 0, 0, 0],\n",
      "        [0, 0, 0, ..., 0, 0, 0],\n",
      "        [0, 0, 0, ..., 0, 0, 0],\n",
      "        ...,\n",
      "        [0, 0, 0, ..., 0, 0, 0],\n",
      "        [0, 0, 0, ..., 0, 0, 0],\n",
      "        [0, 0, 0, ..., 0, 0, 0]],\n",
      "\n",
      "       [[0, 0, 0, ..., 0, 0, 0],\n",
      "        [0, 0, 0, ..., 0, 0, 0],\n",
      "        [0, 0, 0, ..., 0, 0, 0],\n",
      "        ...,\n",
      "        [0, 0, 0, ..., 0, 0, 0],\n",
      "        [0, 0, 0, ..., 0, 0, 0],\n",
      "        [0, 0, 0, ..., 0, 0, 0]],\n",
      "\n",
      "       [[0, 0, 0, ..., 0, 0, 0],\n",
      "        [0, 0, 0, ..., 0, 0, 0],\n",
      "        [0, 0, 0, ..., 0, 0, 0],\n",
      "        ...,\n",
      "        [0, 0, 0, ..., 0, 0, 0],\n",
      "        [0, 0, 0, ..., 0, 0, 0],\n",
      "        [0, 0, 0, ..., 0, 0, 0]]], dtype=uint8), OrderedDict([('type', 'unsigned char'), ('dimension', 3), ('space', 'left-posterior-superior'), ('sizes', array([512, 512, 234])), ('space directions', array([[0.46875, 0.     , 0.     ],\n",
      "       [0.     , 0.46875, 0.     ],\n",
      "       [0.     , 0.     , 1.5    ]])), ('kinds', ['domain', 'domain', 'domain']), ('encoding', 'gzip'), ('space origin', array([-102.765625, -288.765625,  863.      ])), ('Segment0_Color', '0.666667 0 0'), ('Segment0_ColorAutoGenerated', '0'), ('Segment0_Extent', '327 341 271 285 99 112'), ('Segment0_ID', 'Segment_1'), ('Segment0_LabelValue', '1'), ('Segment0_Layer', '0'), ('Segment0_Name', 'L calc 1'), ('Segment0_NameAutoGenerated', '0'), ('Segment0_Tags', 'Segmentation.Status:inprogress|TerminologyEntry:Segmentation category and type - 3D Slicer General Anatomy list~SCT^85756007^Tissue~SCT^85756007^Tissue~^^~Anatomic codes - DICOM master list~^^~^^|'), ('Segment1_Color', '1 0.666667 0'), ('Segment1_ColorAutoGenerated', '0'), ('Segment1_Extent', '327 341 271 285 99 112'), ('Segment1_ID', 'Segment_2'), ('Segment1_LabelValue', '2'), ('Segment1_Layer', '0'), ('Segment1_Name', 'L calc 2'), ('Segment1_NameAutoGenerated', '0'), ('Segment1_Tags', 'Segmentation.Status:inprogress|TerminologyEntry:Segmentation category and type - 3D Slicer General Anatomy list~SCT^85756007^Tissue~SCT^85756007^Tissue~^^~Anatomic codes - DICOM master list~^^~^^|'), ('Segmentation_ContainedRepresentationNames', 'Binary labelmap|'), ('Segmentation_ConversionParameters', 'Decimation factor|0.0|Desired reduction in the total number of polygons. Range: 0.0 (no decimation) to 1.0 (as much simplification as possible). Value of 0.8 typically reduces data set size by 80% without losing too much details.&Smoothing factor|0.5|Smoothing factor. Range: 0.0 (no smoothing) to 1.0 (strong smoothing).&Compute surface normals|1|Compute surface normals. 1 (default) = surface normals are computed. 0 = surface normals are not computed (slightly faster but produces less smooth surface display).&Joint smoothing|0|Perform joint smoothing.&Reference image geometry|-0.46875000000000006;0;0;102.765625;0;-0.46875000000000006;0;288.76562500000006;0;0;1.5000000000000002;863.0000000000001;0;0;0;1;0;511;0;511;0;233;|Image geometry description string determining the geometry of the labelmap that is created in course of conversion. Can be copied from a volume, using the button.&Oversampling factor|1|Determines the oversampling of the reference image geometry. If it\\'s a number, then all segments are oversampled with the same value (value of 1 means no oversampling). If it has the value \"A\", then automatic oversampling is calculated.&Crop to reference image geometry|0|Crop the model to the extent of reference geometry. 0 (default) = created labelmap will contain the entire model. 1 = created labelmap extent will be within reference image extent.&Collapse labelmaps|1|Merge the labelmaps into as few shared labelmaps as possible 1 = created labelmaps will be shared if possible without overwriting each other.&Fractional labelmap oversampling factor|1|Determines the oversampling of the reference image geometry. All segments are oversampled with the same value (value of 1 means no oversampling).&Threshold fraction|0.5|Determines the threshold that the closed surface is created at as a fractional value between 0 and 1.&'), ('Segmentation_MasterRepresentation', 'Binary labelmap'), ('Segmentation_ReferenceImageExtentOffset', '0 0 0')]))\n"
     ]
    }
   ],
   "source": [
    "print(labl)"
   ]
  },
  {
   "cell_type": "code",
   "execution_count": 30,
   "metadata": {},
   "outputs": [
    {
     "data": {
      "text/plain": [
       "OrderedDict([('type', 'unsigned char'),\n",
       "             ('dimension', 3),\n",
       "             ('space', 'left-posterior-superior'),\n",
       "             ('sizes', array([512, 512, 234])),\n",
       "             ('space directions',\n",
       "              array([[0.46875, 0.     , 0.     ],\n",
       "                     [0.     , 0.46875, 0.     ],\n",
       "                     [0.     , 0.     , 1.5    ]])),\n",
       "             ('kinds', ['domain', 'domain', 'domain']),\n",
       "             ('encoding', 'gzip'),\n",
       "             ('space origin', array([-102.765625, -288.765625,  863.      ])),\n",
       "             ('Segment0_Color', '0.666667 0 0'),\n",
       "             ('Segment0_ColorAutoGenerated', '0'),\n",
       "             ('Segment0_Extent', '327 341 271 285 99 112'),\n",
       "             ('Segment0_ID', 'Segment_1'),\n",
       "             ('Segment0_LabelValue', '1'),\n",
       "             ('Segment0_Layer', '0'),\n",
       "             ('Segment0_Name', 'L calc 1'),\n",
       "             ('Segment0_NameAutoGenerated', '0'),\n",
       "             ('Segment0_Tags',\n",
       "              'Segmentation.Status:inprogress|TerminologyEntry:Segmentation category and type - 3D Slicer General Anatomy list~SCT^85756007^Tissue~SCT^85756007^Tissue~^^~Anatomic codes - DICOM master list~^^~^^|'),\n",
       "             ('Segment1_Color', '1 0.666667 0'),\n",
       "             ('Segment1_ColorAutoGenerated', '0'),\n",
       "             ('Segment1_Extent', '327 341 271 285 99 112'),\n",
       "             ('Segment1_ID', 'Segment_2'),\n",
       "             ('Segment1_LabelValue', '2'),\n",
       "             ('Segment1_Layer', '0'),\n",
       "             ('Segment1_Name', 'L calc 2'),\n",
       "             ('Segment1_NameAutoGenerated', '0'),\n",
       "             ('Segment1_Tags',\n",
       "              'Segmentation.Status:inprogress|TerminologyEntry:Segmentation category and type - 3D Slicer General Anatomy list~SCT^85756007^Tissue~SCT^85756007^Tissue~^^~Anatomic codes - DICOM master list~^^~^^|'),\n",
       "             ('Segmentation_ContainedRepresentationNames', 'Binary labelmap|'),\n",
       "             ('Segmentation_ConversionParameters',\n",
       "              'Decimation factor|0.0|Desired reduction in the total number of polygons. Range: 0.0 (no decimation) to 1.0 (as much simplification as possible). Value of 0.8 typically reduces data set size by 80% without losing too much details.&Smoothing factor|0.5|Smoothing factor. Range: 0.0 (no smoothing) to 1.0 (strong smoothing).&Compute surface normals|1|Compute surface normals. 1 (default) = surface normals are computed. 0 = surface normals are not computed (slightly faster but produces less smooth surface display).&Joint smoothing|0|Perform joint smoothing.&Reference image geometry|-0.46875000000000006;0;0;102.765625;0;-0.46875000000000006;0;288.76562500000006;0;0;1.5000000000000002;863.0000000000001;0;0;0;1;0;511;0;511;0;233;|Image geometry description string determining the geometry of the labelmap that is created in course of conversion. Can be copied from a volume, using the button.&Oversampling factor|1|Determines the oversampling of the reference image geometry. If it\\'s a number, then all segments are oversampled with the same value (value of 1 means no oversampling). If it has the value \"A\", then automatic oversampling is calculated.&Crop to reference image geometry|0|Crop the model to the extent of reference geometry. 0 (default) = created labelmap will contain the entire model. 1 = created labelmap extent will be within reference image extent.&Collapse labelmaps|1|Merge the labelmaps into as few shared labelmaps as possible 1 = created labelmaps will be shared if possible without overwriting each other.&Fractional labelmap oversampling factor|1|Determines the oversampling of the reference image geometry. All segments are oversampled with the same value (value of 1 means no oversampling).&Threshold fraction|0.5|Determines the threshold that the closed surface is created at as a fractional value between 0 and 1.&'),\n",
       "             ('Segmentation_MasterRepresentation', 'Binary labelmap'),\n",
       "             ('Segmentation_ReferenceImageExtentOffset', '0 0 0')])"
      ]
     },
     "execution_count": 30,
     "metadata": {},
     "output_type": "execute_result"
    }
   ],
   "source": [
    "labl[1]"
   ]
  },
  {
   "cell_type": "code",
   "execution_count": 32,
   "metadata": {},
   "outputs": [],
   "source": [
    "header = nrrd.read_header('10.img.nrrd')"
   ]
  },
  {
   "cell_type": "code",
   "execution_count": 33,
   "metadata": {},
   "outputs": [
    {
     "name": "stdout",
     "output_type": "stream",
     "text": [
      "OrderedDict([('type', 'short'), ('dimension', 3), ('space', 'left-posterior-superior'), ('sizes', array([512, 512, 234])), ('space directions', array([[0.46875, 0.     , 0.     ],\n",
      "       [0.     , 0.46875, 0.     ],\n",
      "       [0.     , 0.     , 1.5    ]])), ('kinds', ['domain', 'domain', 'domain']), ('endian', 'little'), ('encoding', 'gzip'), ('space origin', array([-102.765625, -288.765625,  863.      ]))])\n"
     ]
    }
   ],
   "source": [
    "print(header)"
   ]
  },
  {
   "cell_type": "code",
   "execution_count": 34,
   "metadata": {},
   "outputs": [],
   "source": [
    "header_l = nrrd.read_header('10.a.seg.nrrd')"
   ]
  },
  {
   "cell_type": "code",
   "execution_count": 35,
   "metadata": {},
   "outputs": [
    {
     "name": "stdout",
     "output_type": "stream",
     "text": [
      "OrderedDict([('type', 'unsigned char'), ('dimension', 3), ('space', 'left-posterior-superior'), ('sizes', array([512, 512, 234])), ('space directions', array([[0.46875, 0.     , 0.     ],\n",
      "       [0.     , 0.46875, 0.     ],\n",
      "       [0.     , 0.     , 1.5    ]])), ('kinds', ['domain', 'domain', 'domain']), ('encoding', 'gzip'), ('space origin', array([-102.765625, -288.765625,  863.      ])), ('Segment0_Color', '0.666667 0 0'), ('Segment0_ColorAutoGenerated', '0'), ('Segment0_Extent', '327 341 271 285 99 112'), ('Segment0_ID', 'Segment_1'), ('Segment0_LabelValue', '1'), ('Segment0_Layer', '0'), ('Segment0_Name', 'L calc 1'), ('Segment0_NameAutoGenerated', '0'), ('Segment0_Tags', 'Segmentation.Status:inprogress|TerminologyEntry:Segmentation category and type - 3D Slicer General Anatomy list~SCT^85756007^Tissue~SCT^85756007^Tissue~^^~Anatomic codes - DICOM master list~^^~^^|'), ('Segment1_Color', '1 0.666667 0'), ('Segment1_ColorAutoGenerated', '0'), ('Segment1_Extent', '327 341 271 285 99 112'), ('Segment1_ID', 'Segment_2'), ('Segment1_LabelValue', '2'), ('Segment1_Layer', '0'), ('Segment1_Name', 'L calc 2'), ('Segment1_NameAutoGenerated', '0'), ('Segment1_Tags', 'Segmentation.Status:inprogress|TerminologyEntry:Segmentation category and type - 3D Slicer General Anatomy list~SCT^85756007^Tissue~SCT^85756007^Tissue~^^~Anatomic codes - DICOM master list~^^~^^|'), ('Segmentation_ContainedRepresentationNames', 'Binary labelmap|'), ('Segmentation_ConversionParameters', 'Decimation factor|0.0|Desired reduction in the total number of polygons. Range: 0.0 (no decimation) to 1.0 (as much simplification as possible). Value of 0.8 typically reduces data set size by 80% without losing too much details.&Smoothing factor|0.5|Smoothing factor. Range: 0.0 (no smoothing) to 1.0 (strong smoothing).&Compute surface normals|1|Compute surface normals. 1 (default) = surface normals are computed. 0 = surface normals are not computed (slightly faster but produces less smooth surface display).&Joint smoothing|0|Perform joint smoothing.&Reference image geometry|-0.46875000000000006;0;0;102.765625;0;-0.46875000000000006;0;288.76562500000006;0;0;1.5000000000000002;863.0000000000001;0;0;0;1;0;511;0;511;0;233;|Image geometry description string determining the geometry of the labelmap that is created in course of conversion. Can be copied from a volume, using the button.&Oversampling factor|1|Determines the oversampling of the reference image geometry. If it\\'s a number, then all segments are oversampled with the same value (value of 1 means no oversampling). If it has the value \"A\", then automatic oversampling is calculated.&Crop to reference image geometry|0|Crop the model to the extent of reference geometry. 0 (default) = created labelmap will contain the entire model. 1 = created labelmap extent will be within reference image extent.&Collapse labelmaps|1|Merge the labelmaps into as few shared labelmaps as possible 1 = created labelmaps will be shared if possible without overwriting each other.&Fractional labelmap oversampling factor|1|Determines the oversampling of the reference image geometry. All segments are oversampled with the same value (value of 1 means no oversampling).&Threshold fraction|0.5|Determines the threshold that the closed surface is created at as a fractional value between 0 and 1.&'), ('Segmentation_MasterRepresentation', 'Binary labelmap'), ('Segmentation_ReferenceImageExtentOffset', '0 0 0')])\n"
     ]
    }
   ],
   "source": [
    "print(header_l)"
   ]
  },
  {
   "cell_type": "code",
   "execution_count": 11,
   "metadata": {},
   "outputs": [
    {
     "name": "stdout",
     "output_type": "stream",
     "text": [
      "None\n"
     ]
    }
   ],
   "source": [
    "np.set_printoptions(threshold = sys.maxsize)"
   ]
  },
  {
   "cell_type": "code",
   "execution_count": 19,
   "metadata": {},
   "outputs": [],
   "source": [
    "img_data = nrrd.read('10.img.nrrd', index_order='C')"
   ]
  },
  {
   "cell_type": "code",
   "execution_count": 20,
   "metadata": {},
   "outputs": [
    {
     "name": "stderr",
     "output_type": "stream",
     "text": [
      "/var/folders/w2/kjqd2k2x70z1qwx2jy2y7j580000gn/T/ipykernel_2384/3868205268.py:1: VisibleDeprecationWarning: Creating an ndarray from ragged nested sequences (which is a list-or-tuple of lists-or-tuples-or ndarrays with different lengths or shapes) is deprecated. If you meant to do this, you must specify 'dtype=object' when creating the ndarray.\n",
      "  img_data = np.array(img_data)\n"
     ]
    }
   ],
   "source": [
    "img_data = np.array(img_data)"
   ]
  },
  {
   "cell_type": "markdown",
   "metadata": {},
   "source": [
    "data.shape"
   ]
  },
  {
   "cell_type": "code",
   "execution_count": 21,
   "metadata": {},
   "outputs": [
    {
     "name": "stdout",
     "output_type": "stream",
     "text": [
      "(2,)\n"
     ]
    }
   ],
   "source": [
    "print(img_data.shape)"
   ]
  },
  {
   "cell_type": "code",
   "execution_count": 22,
   "metadata": {},
   "outputs": [],
   "source": [
    "labl_data = nrrd.read('10.a.seg.nrrd', index_order='C')"
   ]
  },
  {
   "cell_type": "code",
   "execution_count": 23,
   "metadata": {},
   "outputs": [
    {
     "name": "stderr",
     "output_type": "stream",
     "text": [
      "/var/folders/w2/kjqd2k2x70z1qwx2jy2y7j580000gn/T/ipykernel_2384/619140618.py:1: VisibleDeprecationWarning: Creating an ndarray from ragged nested sequences (which is a list-or-tuple of lists-or-tuples-or ndarrays with different lengths or shapes) is deprecated. If you meant to do this, you must specify 'dtype=object' when creating the ndarray.\n",
      "  labl_data = np.array(labl_data)\n"
     ]
    }
   ],
   "source": [
    "labl_data = np.array(labl_data)"
   ]
  },
  {
   "cell_type": "code",
   "execution_count": 24,
   "metadata": {},
   "outputs": [
    {
     "name": "stdout",
     "output_type": "stream",
     "text": [
      "(2,)\n"
     ]
    }
   ],
   "source": [
    "print(labl_data.shape)"
   ]
  },
  {
   "cell_type": "code",
   "execution_count": 55,
   "metadata": {},
   "outputs": [],
   "source": [
    "import slicerio\n",
    "import nrrd\n",
    "import json"
   ]
  },
  {
   "cell_type": "code",
   "execution_count": 52,
   "metadata": {},
   "outputs": [],
   "source": [
    "segmentation_info = slicerio.read_segmentation_info(\"10.a.seg.nrrd\")"
   ]
  },
  {
   "cell_type": "code",
   "execution_count": 53,
   "metadata": {},
   "outputs": [
    {
     "name": "stdout",
     "output_type": "stream",
     "text": [
      "{'segments': [{'index': 0, 'color': [0.666667, 0.0, 0.0], 'colorAutoGenerated': False, 'extent': [327, 341, 271, 285, 99, 112], 'id': 'Segment_1', 'labelValue': 1, 'layer': 0, 'name': 'L calc 1', 'nameAutoGenerated': False, 'status': 'inprogress', 'terminology': {'contextName': 'Segmentation category and type - 3D Slicer General Anatomy list', 'category': ['SCT', '85756007', 'Tissue'], 'type': ['SCT', '85756007', 'Tissue']}, 'tags': {}}, {'index': 1, 'color': [1.0, 0.666667, 0.0], 'colorAutoGenerated': False, 'extent': [327, 341, 271, 285, 99, 112], 'id': 'Segment_2', 'labelValue': 2, 'layer': 0, 'name': 'L calc 2', 'nameAutoGenerated': False, 'status': 'inprogress', 'terminology': {'contextName': 'Segmentation category and type - 3D Slicer General Anatomy list', 'category': ['SCT', '85756007', 'Tissue'], 'type': ['SCT', '85756007', 'Tissue']}, 'tags': {}}]}\n"
     ]
    }
   ],
   "source": [
    "print(segmentation_info)"
   ]
  },
  {
   "cell_type": "code",
   "execution_count": 60,
   "metadata": {},
   "outputs": [
    {
     "name": "stdout",
     "output_type": "stream",
     "text": [
      "Number of segments: 2\n",
      "Segment names: L calc 1, L calc 2\n",
      "First segment info:\n",
      "{\n",
      "    \"index\": 0,\n",
      "    \"color\": [\n",
      "        0.666667,\n",
      "        0.0,\n",
      "        0.0\n",
      "    ],\n",
      "    \"colorAutoGenerated\": false,\n",
      "    \"extent\": [\n",
      "        327,\n",
      "        341,\n",
      "        271,\n",
      "        285,\n",
      "        99,\n",
      "        112\n",
      "    ],\n",
      "    \"id\": \"Segment_1\",\n",
      "    \"labelValue\": 1,\n",
      "    \"layer\": 0,\n",
      "    \"name\": \"L calc 1\",\n",
      "    \"nameAutoGenerated\": false,\n",
      "    \"status\": \"inprogress\",\n",
      "    \"terminology\": {\n",
      "        \"contextName\": \"Segmentation category and type - 3D Slicer General Anatomy list\",\n",
      "        \"category\": [\n",
      "            \"SCT\",\n",
      "            \"85756007\",\n",
      "            \"Tissue\"\n",
      "        ],\n",
      "        \"type\": [\n",
      "            \"SCT\",\n",
      "            \"85756007\",\n",
      "            \"Tissue\"\n",
      "        ]\n",
      "    },\n",
      "    \"tags\": {}\n",
      "}\n",
      "Second segment info:\n",
      "{\n",
      "    \"index\": 1,\n",
      "    \"color\": [\n",
      "        1.0,\n",
      "        0.666667,\n",
      "        0.0\n",
      "    ],\n",
      "    \"colorAutoGenerated\": false,\n",
      "    \"extent\": [\n",
      "        327,\n",
      "        341,\n",
      "        271,\n",
      "        285,\n",
      "        99,\n",
      "        112\n",
      "    ],\n",
      "    \"id\": \"Segment_2\",\n",
      "    \"labelValue\": 2,\n",
      "    \"layer\": 0,\n",
      "    \"name\": \"L calc 2\",\n",
      "    \"nameAutoGenerated\": false,\n",
      "    \"status\": \"inprogress\",\n",
      "    \"terminology\": {\n",
      "        \"contextName\": \"Segmentation category and type - 3D Slicer General Anatomy list\",\n",
      "        \"category\": [\n",
      "            \"SCT\",\n",
      "            \"85756007\",\n",
      "            \"Tissue\"\n",
      "        ],\n",
      "        \"type\": [\n",
      "            \"SCT\",\n",
      "            \"85756007\",\n",
      "            \"Tissue\"\n",
      "        ]\n",
      "    },\n",
      "    \"tags\": {}\n",
      "}\n"
     ]
    }
   ],
   "source": [
    "number_of_segments = len(segmentation_info[\"segments\"])\n",
    "print(f\"Number of segments: {number_of_segments}\")\n",
    "\n",
    "segment_names = slicerio.segment_names(segmentation_info)\n",
    "print(f\"Segment names: {', '.join(segment_names)}\")\n",
    "\n",
    "segment0 = slicerio.segment_from_name(segmentation_info, segment_names[0])\n",
    "print(\"First segment info:\\n\" + json.dumps(segment0, sort_keys=False, indent=4))\n",
    "\n",
    "segment1 = slicerio.segment_from_name(segmentation_info, segment_names[1])\n",
    "print(\"Second segment info:\\n\" + json.dumps(segment1, sort_keys=False, indent=4))"
   ]
  },
  {
   "cell_type": "code",
   "execution_count": 64,
   "metadata": {},
   "outputs": [],
   "source": [
    "input_filename = \"10.a.seg.nrrd\"\n",
    "#output_filename = \"path/to/SegmentationExtracted.seg.nrrd\"\n",
    "segment_names_to_labels = [(segment_names[0], 1), (segment_names[1], 2)]\n",
    "# Read voxels and metadata from a .seg.nrrd file\n",
    "voxels, header = nrrd.read(input_filename)\n",
    "# Get selected segments in a 3D numpy array and updated segment metadata\n",
    "extracted_voxels, extracted_header = slicerio.extract_segments(voxels, header, segmentation_info, segment_names_to_labels)"
   ]
  },
  {
   "cell_type": "code",
   "execution_count": 65,
   "metadata": {},
   "outputs": [
    {
     "name": "stdout",
     "output_type": "stream",
     "text": [
      "[[[0. 0. 0. ... 0. 0. 0.]\n",
      "  [0. 0. 0. ... 0. 0. 0.]\n",
      "  [0. 0. 0. ... 0. 0. 0.]\n",
      "  ...\n",
      "  [0. 0. 0. ... 0. 0. 0.]\n",
      "  [0. 0. 0. ... 0. 0. 0.]\n",
      "  [0. 0. 0. ... 0. 0. 0.]]\n",
      "\n",
      " [[0. 0. 0. ... 0. 0. 0.]\n",
      "  [0. 0. 0. ... 0. 0. 0.]\n",
      "  [0. 0. 0. ... 0. 0. 0.]\n",
      "  ...\n",
      "  [0. 0. 0. ... 0. 0. 0.]\n",
      "  [0. 0. 0. ... 0. 0. 0.]\n",
      "  [0. 0. 0. ... 0. 0. 0.]]\n",
      "\n",
      " [[0. 0. 0. ... 0. 0. 0.]\n",
      "  [0. 0. 0. ... 0. 0. 0.]\n",
      "  [0. 0. 0. ... 0. 0. 0.]\n",
      "  ...\n",
      "  [0. 0. 0. ... 0. 0. 0.]\n",
      "  [0. 0. 0. ... 0. 0. 0.]\n",
      "  [0. 0. 0. ... 0. 0. 0.]]\n",
      "\n",
      " ...\n",
      "\n",
      " [[0. 0. 0. ... 0. 0. 0.]\n",
      "  [0. 0. 0. ... 0. 0. 0.]\n",
      "  [0. 0. 0. ... 0. 0. 0.]\n",
      "  ...\n",
      "  [0. 0. 0. ... 0. 0. 0.]\n",
      "  [0. 0. 0. ... 0. 0. 0.]\n",
      "  [0. 0. 0. ... 0. 0. 0.]]\n",
      "\n",
      " [[0. 0. 0. ... 0. 0. 0.]\n",
      "  [0. 0. 0. ... 0. 0. 0.]\n",
      "  [0. 0. 0. ... 0. 0. 0.]\n",
      "  ...\n",
      "  [0. 0. 0. ... 0. 0. 0.]\n",
      "  [0. 0. 0. ... 0. 0. 0.]\n",
      "  [0. 0. 0. ... 0. 0. 0.]]\n",
      "\n",
      " [[0. 0. 0. ... 0. 0. 0.]\n",
      "  [0. 0. 0. ... 0. 0. 0.]\n",
      "  [0. 0. 0. ... 0. 0. 0.]\n",
      "  ...\n",
      "  [0. 0. 0. ... 0. 0. 0.]\n",
      "  [0. 0. 0. ... 0. 0. 0.]\n",
      "  [0. 0. 0. ... 0. 0. 0.]]]\n"
     ]
    }
   ],
   "source": [
    "print(extracted_voxels)"
   ]
  },
  {
   "cell_type": "code",
   "execution_count": 66,
   "metadata": {},
   "outputs": [
    {
     "name": "stdout",
     "output_type": "stream",
     "text": [
      "{'type': 'unsigned char', 'dimension': 3, 'space': 'left-posterior-superior', 'sizes': array([512, 512, 234]), 'space directions': array([[0.46875, 0.     , 0.     ],\n",
      "       [0.     , 0.46875, 0.     ],\n",
      "       [0.     , 0.     , 1.5    ]]), 'kinds': ['domain', 'domain', 'domain'], 'encoding': 'gzip', 'space origin': array([-102.765625, -288.765625,  863.      ]), 'Segmentation_ContainedRepresentationNames': 'Binary labelmap|', 'Segmentation_ConversionParameters': 'Decimation factor|0.0|Desired reduction in the total number of polygons. Range: 0.0 (no decimation) to 1.0 (as much simplification as possible). Value of 0.8 typically reduces data set size by 80% without losing too much details.&Smoothing factor|0.5|Smoothing factor. Range: 0.0 (no smoothing) to 1.0 (strong smoothing).&Compute surface normals|1|Compute surface normals. 1 (default) = surface normals are computed. 0 = surface normals are not computed (slightly faster but produces less smooth surface display).&Joint smoothing|0|Perform joint smoothing.&Reference image geometry|-0.46875000000000006;0;0;102.765625;0;-0.46875000000000006;0;288.76562500000006;0;0;1.5000000000000002;863.0000000000001;0;0;0;1;0;511;0;511;0;233;|Image geometry description string determining the geometry of the labelmap that is created in course of conversion. Can be copied from a volume, using the button.&Oversampling factor|1|Determines the oversampling of the reference image geometry. If it\\'s a number, then all segments are oversampled with the same value (value of 1 means no oversampling). If it has the value \"A\", then automatic oversampling is calculated.&Crop to reference image geometry|0|Crop the model to the extent of reference geometry. 0 (default) = created labelmap will contain the entire model. 1 = created labelmap extent will be within reference image extent.&Collapse labelmaps|1|Merge the labelmaps into as few shared labelmaps as possible 1 = created labelmaps will be shared if possible without overwriting each other.&Fractional labelmap oversampling factor|1|Determines the oversampling of the reference image geometry. All segments are oversampled with the same value (value of 1 means no oversampling).&Threshold fraction|0.5|Determines the threshold that the closed surface is created at as a fractional value between 0 and 1.&', 'Segmentation_MasterRepresentation': 'Binary labelmap', 'Segmentation_ReferenceImageExtentOffset': '0 0 0', 'Segment0_Color': '0.666667 0 0', 'Segment0_ColorAutoGenerated': '0', 'Segment0_Extent': '327 341 271 285 99 112', 'Segment0_ID': 'Segment_1', 'Segment0_LabelValue': 1, 'Segment0_Layer': 0, 'Segment0_Name': 'L calc 1', 'Segment0_NameAutoGenerated': '0', 'Segment0_Tags': 'Segmentation.Status:inprogress|TerminologyEntry:Segmentation category and type - 3D Slicer General Anatomy list~SCT^85756007^Tissue~SCT^85756007^Tissue~^^~Anatomic codes - DICOM master list~^^~^^|', 'Segment1_Color': '1 0.666667 0', 'Segment1_ColorAutoGenerated': '0', 'Segment1_Extent': '327 341 271 285 99 112', 'Segment1_ID': 'Segment_2', 'Segment1_LabelValue': 2, 'Segment1_Layer': 0, 'Segment1_Name': 'L calc 2', 'Segment1_NameAutoGenerated': '0', 'Segment1_Tags': 'Segmentation.Status:inprogress|TerminologyEntry:Segmentation category and type - 3D Slicer General Anatomy list~SCT^85756007^Tissue~SCT^85756007^Tissue~^^~Anatomic codes - DICOM master list~^^~^^|'}\n"
     ]
    }
   ],
   "source": [
    "print(extracted_header)"
   ]
  },
  {
   "cell_type": "code",
   "execution_count": 70,
   "metadata": {},
   "outputs": [
    {
     "name": "stdout",
     "output_type": "stream",
     "text": [
      "{'segments': [{'index': 0, 'color': [0.666667, 0.0, 0.0], 'colorAutoGenerated': False, 'extent': [294, 305, 254, 257, 71, 76], 'id': 'Segment_1', 'labelValue': 1, 'layer': 0, 'name': 'L calc 1', 'nameAutoGenerated': False, 'status': 'inprogress', 'terminology': {'contextName': 'Segmentation category and type - 3D Slicer General Anatomy list', 'category': ['SCT', '85756007', 'Tissue'], 'type': ['SCT', '85756007', 'Tissue']}, 'tags': {}}]}\n"
     ]
    }
   ],
   "source": [
    "segmentation_info = slicerio.read_segmentation_info(\"94.a.seg.nrrd\")\n",
    "print(segmentation_info)"
   ]
  },
  {
   "cell_type": "code",
   "execution_count": 71,
   "metadata": {},
   "outputs": [
    {
     "name": "stdout",
     "output_type": "stream",
     "text": [
      "Number of segments: 1\n",
      "Segment names: L calc 1\n",
      "First segment info:\n",
      "{\n",
      "    \"index\": 0,\n",
      "    \"color\": [\n",
      "        0.666667,\n",
      "        0.0,\n",
      "        0.0\n",
      "    ],\n",
      "    \"colorAutoGenerated\": false,\n",
      "    \"extent\": [\n",
      "        294,\n",
      "        305,\n",
      "        254,\n",
      "        257,\n",
      "        71,\n",
      "        76\n",
      "    ],\n",
      "    \"id\": \"Segment_1\",\n",
      "    \"labelValue\": 1,\n",
      "    \"layer\": 0,\n",
      "    \"name\": \"L calc 1\",\n",
      "    \"nameAutoGenerated\": false,\n",
      "    \"status\": \"inprogress\",\n",
      "    \"terminology\": {\n",
      "        \"contextName\": \"Segmentation category and type - 3D Slicer General Anatomy list\",\n",
      "        \"category\": [\n",
      "            \"SCT\",\n",
      "            \"85756007\",\n",
      "            \"Tissue\"\n",
      "        ],\n",
      "        \"type\": [\n",
      "            \"SCT\",\n",
      "            \"85756007\",\n",
      "            \"Tissue\"\n",
      "        ]\n",
      "    },\n",
      "    \"tags\": {}\n",
      "}\n"
     ]
    }
   ],
   "source": [
    "number_of_segments = len(segmentation_info[\"segments\"])\n",
    "print(f\"Number of segments: {number_of_segments}\")\n",
    "\n",
    "segment_names = slicerio.segment_names(segmentation_info)\n",
    "print(f\"Segment names: {', '.join(segment_names)}\")\n",
    "\n",
    "segment0 = slicerio.segment_from_name(segmentation_info, segment_names[0])\n",
    "print(\"First segment info:\\n\" + json.dumps(segment0, sort_keys=False, indent=4))"
   ]
  },
  {
   "cell_type": "code",
   "execution_count": 78,
   "metadata": {},
   "outputs": [
    {
     "ename": "NameError",
     "evalue": "name 'getNode' is not defined",
     "output_type": "error",
     "traceback": [
      "\u001b[0;31m---------------------------------------------------------------------------\u001b[0m",
      "\u001b[0;31mNameError\u001b[0m                                 Traceback (most recent call last)",
      "Cell \u001b[0;32mIn [78], line 1\u001b[0m\n\u001b[0;32m----> 1\u001b[0m segmentationNode \u001b[39m=\u001b[39m getNode(\u001b[39m\"\u001b[39m\u001b[39mSegmentation\u001b[39m\u001b[39m\"\u001b[39m)\n\u001b[1;32m      2\u001b[0m sourceSegmentName \u001b[39m=\u001b[39m \u001b[39m\"\u001b[39m\u001b[39mSegment_1\u001b[39m\u001b[39m\"\u001b[39m\n\u001b[1;32m      4\u001b[0m segmentation \u001b[39m=\u001b[39m segmentationNode\u001b[39m.\u001b[39mGetSegmentation()\n",
      "\u001b[0;31mNameError\u001b[0m: name 'getNode' is not defined"
     ]
    }
   ],
   "source": [
    "segmentationNode = slicer.util.getNode(\"Segmentation\")\n",
    "sourceSegmentName = \"Segment_1\"\n",
    "\n",
    "segmentation = segmentationNode.GetSegmentation()\n",
    "sourceSegmentId = segmentation.GetSegmentIdBySegmentName(sourceSegmentName)\n",
    "segmentation.CopySegmentFromSegmentation(segmentation, sourceSegmentId)"
   ]
  },
  {
   "cell_type": "code",
   "execution_count": null,
   "metadata": {},
   "outputs": [],
   "source": [
    "segmentationNode = getNode(\"Segmentation\")\n",
    "\n",
    "# Compute segment statistics\n",
    "import SegmentStatistics\n",
    "segStatLogic = SegmentStatistics.SegmentStatisticsLogic()\n",
    "segStatLogic.getParameterNode().SetParameter(\"Segmentation\", segmentationNode.GetID())\n",
    "segStatLogic.computeStatistics()\n",
    "stats = segStatLogic.getStatistics()\n",
    "\n",
    "# Display volume of each segment\n",
    "for segmentId in stats[\"SegmentIDs\"]:\n",
    "    volume_cm3 = stats[segmentId,\"LabelmapSegmentStatisticsPlugin.volume_cm3\"]\n",
    "    segmentName = segmentationNode.GetSegmentation().GetSegment(segmentId).GetName()\n",
    "    print(f\"{segmentName} volume = {volume_cm3} cm3\")"
   ]
  }
 ],
 "metadata": {
  "kernelspec": {
   "display_name": "Python 3",
   "language": "python",
   "name": "python3"
  },
  "language_info": {
   "codemirror_mode": {
    "name": "ipython",
    "version": 3
   },
   "file_extension": ".py",
   "mimetype": "text/x-python",
   "name": "python",
   "nbconvert_exporter": "python",
   "pygments_lexer": "ipython3",
   "version": "3.10.6 (main, Aug 30 2022, 04:58:14) [Clang 13.1.6 (clang-1316.0.21.2.5)]"
  },
  "orig_nbformat": 4,
  "vscode": {
   "interpreter": {
    "hash": "b0fa6594d8f4cbf19f97940f81e996739fb7646882a419484c72d19e05852a7e"
   }
  }
 },
 "nbformat": 4,
 "nbformat_minor": 2
}
