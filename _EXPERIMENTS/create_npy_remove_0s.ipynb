{
 "cells": [
  {
   "cell_type": "code",
   "execution_count": 1,
   "id": "2fba759a",
   "metadata": {},
   "outputs": [
    {
     "name": "stdout",
     "output_type": "stream",
     "text": [
      "Populating the interactive namespace from numpy and matplotlib\n"
     ]
    }
   ],
   "source": [
    "%pylab inline\n",
    "import os\n",
    "import nrrd"
   ]
  },
  {
   "cell_type": "code",
   "execution_count": 2,
   "id": "7afbefdc",
   "metadata": {},
   "outputs": [],
   "source": [
    "DATAPATH = '/raid/mpsych/CACTAS/DATA/ESUS/'"
   ]
  },
  {
   "cell_type": "code",
   "execution_count": null,
   "id": "cac695ae",
   "metadata": {},
   "outputs": [],
   "source": []
  },
  {
   "cell_type": "code",
   "execution_count": 3,
   "id": "4bd14640",
   "metadata": {},
   "outputs": [
    {
     "name": "stdout",
     "output_type": "stream",
     "text": [
      "5\n",
      "18\n",
      "24\n",
      "9\n",
      "23\n",
      "97\n",
      "69\n",
      "45\n",
      "35\n",
      "21\n",
      "51\n",
      "66\n",
      "91\n",
      "63\n",
      "15\n",
      "52\n",
      "26\n",
      "86\n",
      "33\n",
      "6\n",
      "46\n",
      "53\n",
      "12\n",
      "50\n",
      "83\n",
      "92\n",
      "64\n",
      "96\n",
      "62\n",
      "13\n",
      "10\n",
      "2\n",
      "31\n",
      "79\n",
      "29\n",
      "49\n",
      "84\n",
      "71\n",
      "61\n",
      "94\n",
      "27\n",
      "72\n",
      "14\n",
      "75\n",
      "16\n",
      "88\n",
      "41\n",
      "7\n",
      "22\n",
      "57\n",
      "36\n",
      "32\n",
      "73\n",
      "40\n",
      "90\n",
      "48\n",
      "17\n",
      "93\n",
      "82\n",
      "77\n",
      "25\n",
      "47\n",
      "87\n",
      "39\n"
     ]
    }
   ],
   "source": [
    "all_slices = []\n",
    "data = {}\n",
    "count = 0\n",
    "\n",
    "for f in os.listdir(DATAPATH):\n",
    "    if f.endswith('img.nrrd'):\n",
    "        current_id = f.split('.')[0]\n",
    "        im, h = nrrd.read(DATAPATH + current_id + '.img.nrrd')\n",
    "        \n",
    "        data[current_id] = count\n",
    "        \n",
    "        for z in range(im.shape[2]):\n",
    "            if z \n",
    "            all_slices.append(im[:, :, z])\n",
    "            count += 1"
   ]
  },
  {
   "cell_type": "code",
   "execution_count": null,
   "id": "d874fa90",
   "metadata": {},
   "outputs": [],
   "source": []
  },
  {
   "cell_type": "code",
   "execution_count": null,
   "id": "c716db3d",
   "metadata": {},
   "outputs": [],
   "source": []
  }
 ],
 "metadata": {
  "kernelspec": {
   "display_name": "Python 3 (ipykernel)",
   "language": "python",
   "name": "python3"
  },
  "language_info": {
   "codemirror_mode": {
    "name": "ipython",
    "version": 3
   },
   "file_extension": ".py",
   "mimetype": "text/x-python",
   "name": "python",
   "nbconvert_exporter": "python",
   "pygments_lexer": "ipython3",
   "version": "3.9.7"
  }
 },
 "nbformat": 4,
 "nbformat_minor": 5
}
