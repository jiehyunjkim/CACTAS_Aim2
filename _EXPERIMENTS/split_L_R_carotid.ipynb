{
 "cells": [
  {
   "cell_type": "code",
   "execution_count": 1,
   "id": "e0b035e5",
   "metadata": {},
   "outputs": [
    {
     "name": "stdout",
     "output_type": "stream",
     "text": [
      "Populating the interactive namespace from numpy and matplotlib\n"
     ]
    }
   ],
   "source": [
    "%pylab inline\n",
    "%load_ext autoreload\n",
    "%autoreload 2"
   ]
  },
  {
   "cell_type": "code",
   "execution_count": 2,
   "id": "ad9b227c",
   "metadata": {},
   "outputs": [],
   "source": [
    "import os\n",
    "import mahotas as mh\n",
    "import json"
   ]
  },
  {
   "cell_type": "code",
   "execution_count": 3,
   "id": "c604fc52",
   "metadata": {},
   "outputs": [
    {
     "name": "stderr",
     "output_type": "stream",
     "text": [
      "/home/jiehyun.kim001/miniconda3/envs/O/lib/python3.9/site-packages/scipy/__init__.py:146: UserWarning: A NumPy version >=1.16.5 and <1.23.0 is required for this version of SciPy (detected version 1.23.4\n",
      "  warnings.warn(f\"A NumPy version >={np_minversion} and <{np_maxversion}\"\n"
     ]
    }
   ],
   "source": [
    "import cactas as C"
   ]
  },
  {
   "cell_type": "code",
   "execution_count": 4,
   "id": "fac26642",
   "metadata": {},
   "outputs": [],
   "source": [
    "DATAPATH = '/raid/mpsych/CACTAS/DATA/ESUS/'"
   ]
  },
  {
   "cell_type": "code",
   "execution_count": 5,
   "id": "47b09059",
   "metadata": {},
   "outputs": [],
   "source": [
    "with open(\"image_data_v3.json\", \"r\") as fp:\n",
    "    image_data = json.load(fp)\n",
    "with open(\"label_data_v3.json\", \"r\") as fp:\n",
    "    label_data = json.load(fp)"
   ]
  },
  {
   "cell_type": "code",
   "execution_count": 6,
   "id": "c782cf7e",
   "metadata": {},
   "outputs": [],
   "source": [
    "with open(DATAPATH+'../ESUS_stroke_side.csv', 'r') as f:\n",
    "    stroke_sides = f.read().replace('ESUS ','').split('\\n')\n",
    "\n",
    "STROKE_SIDES = {}\n",
    "    \n",
    "for l in stroke_sides[1:]:\n",
    "    l_s = l.split(',')\n",
    "    \n",
    "    if len(l_s) != 5:\n",
    "        continue\n",
    "    \n",
    "    id_ = l_s[0]\n",
    "    age = l_s[1]\n",
    "    sex = l_s[2]\n",
    "    race = l_s[3]\n",
    "    side = l_s[4]\n",
    "    STROKE_SIDES[id_] = side"
   ]
  },
  {
   "cell_type": "code",
   "execution_count": 7,
   "id": "b8598157",
   "metadata": {},
   "outputs": [],
   "source": [
    "images, labels = C.Util.load(DATAPATH)"
   ]
  },
  {
   "cell_type": "code",
   "execution_count": 8,
   "id": "a17d6da1",
   "metadata": {},
   "outputs": [
    {
     "name": "stdout",
     "output_type": "stream",
     "text": [
      "file name 2\n",
      "Stroke side R\n",
      "file name 5\n",
      "Stroke side R\n",
      "file name 6\n",
      "Stroke side L\n",
      "file name 7\n",
      "Stroke side L\n",
      "file name 9\n",
      "Stroke side R\n",
      "file name 10\n",
      "Stroke side L\n",
      "file name 12\n",
      "Stroke side L\n",
      "file name 13\n",
      "Stroke side L\n",
      "file name 14\n",
      "Stroke side L\n",
      "file name 15\n",
      "Stroke side L\n",
      "file name 16\n",
      "Stroke side L\n",
      "file name 17\n",
      "Stroke side R\n",
      "file name 18\n",
      "Stroke side L\n",
      "file name 21\n",
      "Stroke side R\n",
      "file name 22\n",
      "Stroke side L\n",
      "file name 23\n",
      "Stroke side L\n",
      "file name 24\n",
      "Stroke side R\n",
      "file name 25\n",
      "Stroke side L\n",
      "file name 26\n",
      "Stroke side R\n",
      "file name 27\n",
      "Stroke side R\n",
      "file name 29\n",
      "Stroke side R\n",
      "file name 31\n",
      "Stroke side L\n",
      "file name 32\n",
      "Stroke side R\n",
      "file name 33\n",
      "Stroke side R\n",
      "file name 35\n",
      "Stroke side L\n",
      "file name 36\n",
      "Stroke side R\n",
      "file name 39\n",
      "Stroke side L\n",
      "file name 40\n",
      "Stroke side R\n",
      "file name 41\n",
      "Stroke side R\n",
      "file name 45\n",
      "Stroke side L\n",
      "file name 46\n",
      "Stroke side R\n",
      "file name 47\n",
      "Stroke side L\n",
      "file name 48\n",
      "Stroke side L\n",
      "file name 49\n",
      "Stroke side R\n",
      "file name 50\n",
      "Stroke side R\n",
      "file name 51\n",
      "Stroke side L\n",
      "file name 52\n",
      "Stroke side R\n",
      "file name 53\n",
      "Stroke side L\n",
      "file name 57\n",
      "Stroke side L\n",
      "file name 61\n",
      "Stroke side L\n",
      "file name 62\n",
      "Stroke side R\n",
      "file name 63\n",
      "Stroke side R\n",
      "file name 64\n",
      "Stroke side L\n",
      "file name 66\n",
      "Stroke side R\n",
      "file name 69\n",
      "Stroke side L\n",
      "file name 71\n",
      "Stroke side L\n",
      "file name 72\n",
      "Stroke side R\n",
      "file name 73\n",
      "Stroke side R\n",
      "file name 75\n",
      "Stroke side R\n",
      "file name 77\n",
      "Stroke side L\n",
      "file name 79\n",
      "Stroke side R\n",
      "file name 82\n",
      "Stroke side R\n",
      "file name 83\n",
      "Stroke side L\n",
      "file name 84\n",
      "Stroke side R\n",
      "file name 86\n",
      "Stroke side L\n",
      "file name 87\n",
      "Stroke side L\n",
      "file name 88\n",
      "Stroke side L\n",
      "file name 90\n",
      "Stroke side L\n",
      "file name 91\n",
      "Stroke side R\n",
      "file name 92\n",
      "Stroke side L\n",
      "file name 93\n",
      "Stroke side L\n",
      "file name 94\n",
      "Stroke side L\n",
      "file name 96\n",
      "Stroke side R\n",
      "file name 97\n",
      "Stroke side L\n"
     ]
    }
   ],
   "source": [
    "for key, val in image_data.items():\n",
    "    stroke_side = STROKE_SIDES[key]\n",
    "    print('file name', key)\n",
    "    print('Stroke side', stroke_side)"
   ]
  },
  {
   "cell_type": "code",
   "execution_count": 9,
   "id": "d4af0073",
   "metadata": {},
   "outputs": [],
   "source": [
    "# normalize grayscale to 0..1\n",
    "images, labels = C.Util.normalize(images, labels)\n",
    "\n",
    "# for each scan\n",
    "symp_i_patches = []\n",
    "symp_l_patches = []\n",
    "asymp_i_patches = []\n",
    "asymp_l_patches = []\n",
    "\n",
    "P=64"
   ]
  },
  {
   "cell_type": "code",
   "execution_count": 10,
   "id": "5db40693",
   "metadata": {},
   "outputs": [
    {
     "data": {
      "text/plain": [
       "(766, 512, 512, 1)"
      ]
     },
     "execution_count": 10,
     "metadata": {},
     "output_type": "execute_result"
    }
   ],
   "source": [
    "images.shape"
   ]
  },
  {
   "cell_type": "code",
   "execution_count": 11,
   "id": "345dbe61",
   "metadata": {},
   "outputs": [
    {
     "data": {
      "text/plain": [
       "(766, 512, 512, 1)"
      ]
     },
     "execution_count": 11,
     "metadata": {},
     "output_type": "execute_result"
    }
   ],
   "source": [
    "labels.shape"
   ]
  },
  {
   "cell_type": "code",
   "execution_count": null,
   "id": "cd94dfb0",
   "metadata": {},
   "outputs": [],
   "source": []
  },
  {
   "cell_type": "code",
   "execution_count": 12,
   "id": "c21ae1d3",
   "metadata": {},
   "outputs": [],
   "source": [
    "# Crop"
   ]
  },
  {
   "cell_type": "code",
   "execution_count": 13,
   "id": "a136faa6",
   "metadata": {},
   "outputs": [],
   "source": [
    "cropped_label = []\n",
    "cropped_image = []"
   ]
  },
  {
   "cell_type": "code",
   "execution_count": 14,
   "id": "90782b95",
   "metadata": {},
   "outputs": [],
   "source": [
    "for i in range(labels.shape[0]):\n",
    "    bbox = mh.bbox(labels[i])\n",
    "    \n",
    "    label_cropped = labels[i][bbox[0]:bbox[1],bbox[2]:bbox[3]]\n",
    "    image_cropped = images[i][bbox[0]:bbox[1],bbox[2]:bbox[3]]\n",
    "    \n",
    "    cropped_label.append(label_cropped)\n",
    "    cropped_image.append(image_cropped)"
   ]
  },
  {
   "cell_type": "code",
   "execution_count": 15,
   "id": "1dd5ca02",
   "metadata": {},
   "outputs": [
    {
     "data": {
      "image/png": "[encoded data removed]",
      "text/plain": [
       "<Figure size 432x288 with 1 Axes>"
      ]
     },
     "metadata": {
      "needs_background": "light"
     },
     "output_type": "display_data"
    },
    {
     "data": {
      "image/png": "[encoded data removed]",
      "text/plain": [
       "<Figure size 432x288 with 1 Axes>"
      ]
     },
     "metadata": {
      "needs_background": "light"
     },
     "output_type": "display_data"
    },
    {
     "data": {
      "image/png": "[encoded data removed]",
      "text/plain": [
       "<Figure size 432x288 with 1 Axes>"
      ]
     },
     "metadata": {
      "needs_background": "light"
     },
     "output_type": "display_data"
    },
    {
     "data": {
      "image/png": "[encoded data removed]",
      "text/plain": [
       "<Figure size 432x288 with 1 Axes>"
      ]
     },
     "metadata": {
      "needs_background": "light"
     },
     "output_type": "display_data"
    }
   ],
   "source": [
    "for i in range(4):\n",
    "    plt.imshow(cropped_label[i])\n",
    "    plt.show()"
   ]
  },
  {
   "cell_type": "code",
   "execution_count": 16,
   "id": "05ac5c38",
   "metadata": {},
   "outputs": [
    {
     "data": {
      "image/png": "[encoded data removed]",
      "text/plain": [
       "<Figure size 432x288 with 1 Axes>"
      ]
     },
     "metadata": {
      "needs_background": "light"
     },
     "output_type": "display_data"
    },
    {
     "data": {
      "image/png": "[encoded data removed]",
      "text/plain": [
       "<Figure size 432x288 with 1 Axes>"
      ]
     },
     "metadata": {
      "needs_background": "light"
     },
     "output_type": "display_data"
    },
    {
     "data": {
      "image/png": "[encoded data removed]",
      "text/plain": [
       "<Figure size 432x288 with 1 Axes>"
      ]
     },
     "metadata": {
      "needs_background": "light"
     },
     "output_type": "display_data"
    },
    {
     "data": {
      "image/png": "[encoded data removed]",
      "text/plain": [
       "<Figure size 432x288 with 1 Axes>"
      ]
     },
     "metadata": {
      "needs_background": "light"
     },
     "output_type": "display_data"
    }
   ],
   "source": [
    "for i in range(4):\n",
    "    plt.imshow(cropped_image[i])\n",
    "    plt.show()"
   ]
  },
  {
   "cell_type": "code",
   "execution_count": null,
   "id": "77eb7f6a",
   "metadata": {},
   "outputs": [],
   "source": []
  },
  {
   "cell_type": "code",
   "execution_count": null,
   "id": "c93f8e4b",
   "metadata": {},
   "outputs": [],
   "source": []
  },
  {
   "cell_type": "code",
   "execution_count": 17,
   "id": "ef87eab3",
   "metadata": {},
   "outputs": [],
   "source": [
    "# Pad"
   ]
  },
  {
   "cell_type": "code",
   "execution_count": 18,
   "id": "5022a96f",
   "metadata": {},
   "outputs": [],
   "source": [
    "force_square=True\n",
    "center=True"
   ]
  },
  {
   "cell_type": "code",
   "execution_count": 19,
   "id": "fe0828cb",
   "metadata": {},
   "outputs": [],
   "source": [
    "maxX = 0\n",
    "maxY = 0\n",
    "slicecount = labels.shape[0]\n",
    "\n",
    "for i in cropped_image:\n",
    "    maxY = max(maxY, i.shape[0])\n",
    "    maxX = max(maxX, i.shape[1])\n",
    "\n",
    "if force_square:\n",
    "    maxY = max(maxY, maxX)\n",
    "    maxX = max(maxY, maxX)\n",
    "\n",
    "startY = 0\n",
    "startX = 0\n",
    "\n",
    "padded_images = np.zeros((slicecount, maxY, maxX, 1), dtype=cropped_image[0].dtype)\n",
    "padded_labels = np.zeros((slicecount, maxY, maxX, 1), dtype=cropped_label[0].dtype)\n",
    "\n",
    "currentslice = 0\n",
    "for i, img in enumerate(cropped_image):\n",
    "    if center:\n",
    "        startY = (maxY - img.shape[0]) // 2\n",
    "        startX = (maxX - img.shape[1]) // 2\n",
    "  \n",
    "    padded_images[currentslice, startY:startY+img.shape[0], startX:startX+img.shape[1]] = cropped_image[i] \n",
    "    padded_labels[currentslice, startY:startY+img.shape[0], startX:startX+img.shape[1]] = cropped_label[i]\n",
    "\n",
    "    currentslice += 1"
   ]
  },
  {
   "cell_type": "code",
   "execution_count": 20,
   "id": "b3e001f1",
   "metadata": {},
   "outputs": [
    {
     "data": {
      "text/plain": [
       "(766, 190, 190, 1)"
      ]
     },
     "execution_count": 20,
     "metadata": {},
     "output_type": "execute_result"
    }
   ],
   "source": [
    "padded_images.shape"
   ]
  },
  {
   "cell_type": "code",
   "execution_count": 21,
   "id": "2c04d6ed",
   "metadata": {},
   "outputs": [
    {
     "data": {
      "text/plain": [
       "(766, 190, 190, 1)"
      ]
     },
     "execution_count": 21,
     "metadata": {},
     "output_type": "execute_result"
    }
   ],
   "source": [
    "padded_labels.shape"
   ]
  },
  {
   "cell_type": "code",
   "execution_count": null,
   "id": "3b080a5b",
   "metadata": {},
   "outputs": [],
   "source": []
  },
  {
   "cell_type": "code",
   "execution_count": 22,
   "id": "b274b342",
   "metadata": {},
   "outputs": [
    {
     "data": {
      "image/png": "[encoded data removed]",
      "text/plain": [
       "<Figure size 432x288 with 1 Axes>"
      ]
     },
     "metadata": {
      "needs_background": "light"
     },
     "output_type": "display_data"
    },
    {
     "data": {
      "image/png": "[encoded data removed]",
      "text/plain": [
       "<Figure size 432x288 with 1 Axes>"
      ]
     },
     "metadata": {
      "needs_background": "light"
     },
     "output_type": "display_data"
    },
    {
     "data": {
      "image/png": "[encoded data removed]",
      "text/plain": [
       "<Figure size 432x288 with 1 Axes>"
      ]
     },
     "metadata": {
      "needs_background": "light"
     },
     "output_type": "display_data"
    },
    {
     "data": {
      "image/png": "[encoded data removed]",
      "text/plain": [
       "<Figure size 432x288 with 1 Axes>"
      ]
     },
     "metadata": {
      "needs_background": "light"
     },
     "output_type": "display_data"
    }
   ],
   "source": [
    "for i in range(4):\n",
    "    plt.imshow(padded_labels[i])\n",
    "    plt.show()"
   ]
  },
  {
   "cell_type": "code",
   "execution_count": 23,
   "id": "8cb665ba",
   "metadata": {},
   "outputs": [
    {
     "data": {
      "image/png": "[encoded data removed]",
      "text/plain": [
       "<Figure size 432x288 with 1 Axes>"
      ]
     },
     "metadata": {
      "needs_background": "light"
     },
     "output_type": "display_data"
    },
    {
     "data": {
      "image/png": "[encoded data removed]",
      "text/plain": [
       "<Figure size 432x288 with 1 Axes>"
      ]
     },
     "metadata": {
      "needs_background": "light"
     },
     "output_type": "display_data"
    },
    {
     "data": {
      "image/png": "[encoded data removed]",
      "text/plain": [
       "<Figure size 432x288 with 1 Axes>"
      ]
     },
     "metadata": {
      "needs_background": "light"
     },
     "output_type": "display_data"
    },
    {
     "data": {
      "image/png": "[encoded data removed]",
      "text/plain": [
       "<Figure size 432x288 with 1 Axes>"
      ]
     },
     "metadata": {
      "needs_background": "light"
     },
     "output_type": "display_data"
    }
   ],
   "source": [
    "for i in range(4):\n",
    "    plt.imshow(padded_images[i])\n",
    "    plt.show()"
   ]
  },
  {
   "cell_type": "code",
   "execution_count": null,
   "id": "f02a83eb",
   "metadata": {},
   "outputs": [],
   "source": []
  },
  {
   "cell_type": "code",
   "execution_count": null,
   "id": "23e2f7b9",
   "metadata": {},
   "outputs": [],
   "source": []
  }
 ],
 "metadata": {
  "kernelspec": {
   "display_name": "Python 3 (ipykernel)",
   "language": "python",
   "name": "python3"
  },
  "language_info": {
   "codemirror_mode": {
    "name": "ipython",
    "version": 3
   },
   "file_extension": ".py",
   "mimetype": "text/x-python",
   "name": "python",
   "nbconvert_exporter": "python",
   "pygments_lexer": "ipython3",
   "version": "3.9.7"
  }
 },
 "nbformat": 4,
 "nbformat_minor": 5
}
