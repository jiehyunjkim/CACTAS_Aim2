{
 "cells": [
  {
   "cell_type": "code",
   "execution_count": 1,
   "id": "47947e2d",
   "metadata": {},
   "outputs": [
    {
     "name": "stdout",
     "output_type": "stream",
     "text": [
      "Populating the interactive namespace from numpy and matplotlib\n"
     ]
    }
   ],
   "source": [
    "%pylab inline"
   ]
  },
  {
   "cell_type": "code",
   "execution_count": 2,
   "id": "cbc12529",
   "metadata": {},
   "outputs": [
    {
     "name": "stderr",
     "output_type": "stream",
     "text": [
      "2023-05-01 18:01:17.896641: I tensorflow/stream_executor/platform/default/dso_loader.cc:53] Successfully opened dynamic library libcudart.so.11.0\n",
      "/home/jiehyun.kim001/miniconda3/envs/O/lib/python3.9/site-packages/scipy/__init__.py:146: UserWarning: A NumPy version >=1.16.5 and <1.23.0 is required for this version of SciPy (detected version 1.23.4\n",
      "  warnings.warn(f\"A NumPy version >={np_minversion} and <{np_maxversion}\"\n"
     ]
    }
   ],
   "source": [
    "import tensorflow\n",
    "import keras\n",
    "from tensorflow.keras.applications import VGG19\n",
    "from tensorflow.keras.preprocessing.image import ImageDataGenerator\n",
    "import tensorflow.keras.layers as layers\n",
    "from sklearn.utils import shuffle\n",
    "from sklearn.model_selection import train_test_split\n",
    "from tensorflow.keras.layers import Input"
   ]
  },
  {
   "cell_type": "code",
   "execution_count": 3,
   "id": "46b14c3f",
   "metadata": {},
   "outputs": [],
   "source": [
    "import cactas as C"
   ]
  },
  {
   "cell_type": "code",
   "execution_count": 4,
   "id": "4f990e7e",
   "metadata": {},
   "outputs": [],
   "source": [
    "asymp_img = np.load('/raid/mpsych/CACTAS/DATA/ESUS/asymp_cropped_no_norm.npy')\n",
    "symp_img = np.load('/raid/mpsych/CACTAS/DATA/ESUS/symp_cropped_no_norm.npy')\n",
    "asymp_label = np.load('/raid/mpsych/CACTAS/DATA/ESUS/asymp_cropped_labels_no_norm.npy')\n",
    "symp_label = np.load('/raid/mpsych/CACTAS/DATA/ESUS/symp_cropped_labels_no_norm.npy')"
   ]
  },
  {
   "cell_type": "code",
   "execution_count": 5,
   "id": "00a2adce",
   "metadata": {},
   "outputs": [],
   "source": [
    "images = np.concatenate((asymp_img, symp_img, asymp_label, symp_label))\n",
    "#images = np.concatenate((asymp_img, asymp_label, symp_img, symp_label))\n",
    "labels = np.array([0]*len(asymp_img) + [0]*len(asymp_label) + [1]*len(symp_img) + [1]*len(symp_label))"
   ]
  },
  {
   "cell_type": "code",
   "execution_count": 6,
   "id": "aed8d1ef",
   "metadata": {},
   "outputs": [
    {
     "data": {
      "text/plain": [
       "(2834, 28, 28, 1)"
      ]
     },
     "execution_count": 6,
     "metadata": {},
     "output_type": "execute_result"
    }
   ],
   "source": [
    "images.shape"
   ]
  },
  {
   "cell_type": "code",
   "execution_count": 7,
   "id": "423c586b",
   "metadata": {},
   "outputs": [
    {
     "data": {
      "text/plain": [
       "(2834,)"
      ]
     },
     "execution_count": 7,
     "metadata": {},
     "output_type": "execute_result"
    }
   ],
   "source": [
    "labels.shape"
   ]
  },
  {
   "cell_type": "code",
   "execution_count": 8,
   "id": "e1c659e6",
   "metadata": {},
   "outputs": [],
   "source": [
    "X, y = shuffle(images, labels, random_state=0)"
   ]
  },
  {
   "cell_type": "code",
   "execution_count": 9,
   "id": "deff4152",
   "metadata": {},
   "outputs": [],
   "source": [
    "X_train, X_test, y_train, y_test = C.Util.split_3(X, y, val_size=0.15)"
   ]
  },
  {
   "cell_type": "code",
   "execution_count": 10,
   "id": "95e1b238",
   "metadata": {},
   "outputs": [
    {
     "data": {
      "text/plain": [
       "((2411, 28, 28, 1), (423, 28, 28, 1), (2411,), (423,))"
      ]
     },
     "execution_count": 10,
     "metadata": {},
     "output_type": "execute_result"
    }
   ],
   "source": [
    "X_train.shape, X_test.shape, y_train.shape, y_test.shape"
   ]
  },
  {
   "cell_type": "code",
   "execution_count": 11,
   "id": "d35c8ba6",
   "metadata": {},
   "outputs": [],
   "source": [
    "train_data_gen = ImageDataGenerator(\n",
    "        rotation_range=5.,\n",
    "        width_shift_range=0.05,\n",
    "        height_shift_range=0.05,\n",
    "        shear_range=40,\n",
    "        zoom_range=0.2,\n",
    "        horizontal_flip=True,\n",
    "        vertical_flip=True,\n",
    "        fill_mode='constant'\n",
    "    )"
   ]
  },
  {
   "cell_type": "code",
   "execution_count": 12,
   "id": "d959da08",
   "metadata": {},
   "outputs": [],
   "source": [
    "test_data_gen = ImageDataGenerator()"
   ]
  },
  {
   "cell_type": "code",
   "execution_count": 13,
   "id": "e7c70431",
   "metadata": {},
   "outputs": [],
   "source": [
    "train = train_data_gen.flow(X_train, y_train)"
   ]
  },
  {
   "cell_type": "code",
   "execution_count": 14,
   "id": "0175a7f4",
   "metadata": {},
   "outputs": [],
   "source": [
    "test = test_data_gen.flow(X_test, y_test)"
   ]
  },
  {
   "cell_type": "code",
   "execution_count": null,
   "id": "a56254b6",
   "metadata": {},
   "outputs": [],
   "source": []
  },
  {
   "cell_type": "code",
   "execution_count": 15,
   "id": "de3160a3",
   "metadata": {},
   "outputs": [
    {
     "data": {
      "text/plain": [
       "\"\\nmodel = tensorflow.keras.Sequential()\\nmodel.add(layers.Flatten(input_shape=(28, 28, 1)))\\nmodel.add(layers.Dense(units=256, activation='relu'))\\nmodel.add(layers.Dropout(0.5))\\nmodel.add(layers.Dense(units=128, activation='relu'))\\nmodel.add(layers.Dropout(0.3))\\nmodel.add(layers.Dense(units=1, activation='sigmoid'))\\n\""
      ]
     },
     "execution_count": 15,
     "metadata": {},
     "output_type": "execute_result"
    }
   ],
   "source": [
    "'''\n",
    "model = tensorflow.keras.Sequential()\n",
    "model.add(layers.Flatten(input_shape=(28, 28, 1)))\n",
    "model.add(layers.Dense(units=256, activation='relu'))\n",
    "model.add(layers.Dropout(0.5))\n",
    "model.add(layers.Dense(units=128, activation='relu'))\n",
    "model.add(layers.Dropout(0.3))\n",
    "model.add(layers.Dense(units=1, activation='sigmoid'))\n",
    "'''"
   ]
  },
  {
   "cell_type": "code",
   "execution_count": 16,
   "id": "0d67f772",
   "metadata": {},
   "outputs": [
    {
     "name": "stderr",
     "output_type": "stream",
     "text": [
      "2023-05-01 18:01:19.310511: I tensorflow/stream_executor/platform/default/dso_loader.cc:53] Successfully opened dynamic library libcuda.so.1\n",
      "2023-05-01 18:01:19.592342: I tensorflow/core/common_runtime/gpu/gpu_device.cc:1733] Found device 0 with properties: \n",
      "pciBusID: 0000:07:00.0 name: A100-SXM4-40GB computeCapability: 8.0\n",
      "coreClock: 1.41GHz coreCount: 108 deviceMemorySize: 39.59GiB deviceMemoryBandwidth: 1.41TiB/s\n",
      "2023-05-01 18:01:19.594951: I tensorflow/core/common_runtime/gpu/gpu_device.cc:1733] Found device 1 with properties: \n",
      "pciBusID: 0000:4e:00.0 name: A100-SXM4-40GB computeCapability: 8.0\n",
      "coreClock: 1.41GHz coreCount: 108 deviceMemorySize: 39.59GiB deviceMemoryBandwidth: 1.41TiB/s\n",
      "2023-05-01 18:01:19.594972: I tensorflow/stream_executor/platform/default/dso_loader.cc:53] Successfully opened dynamic library libcudart.so.11.0\n",
      "2023-05-01 18:01:19.598237: I tensorflow/stream_executor/platform/default/dso_loader.cc:53] Successfully opened dynamic library libcublas.so.11\n",
      "2023-05-01 18:01:19.598278: I tensorflow/stream_executor/platform/default/dso_loader.cc:53] Successfully opened dynamic library libcublasLt.so.11\n",
      "2023-05-01 18:01:19.599173: I tensorflow/stream_executor/platform/default/dso_loader.cc:53] Successfully opened dynamic library libcufft.so.10\n",
      "2023-05-01 18:01:19.599491: I tensorflow/stream_executor/platform/default/dso_loader.cc:53] Successfully opened dynamic library libcurand.so.10\n",
      "2023-05-01 18:01:19.600035: I tensorflow/stream_executor/platform/default/dso_loader.cc:53] Successfully opened dynamic library libcusolver.so.11\n",
      "2023-05-01 18:01:19.600780: I tensorflow/stream_executor/platform/default/dso_loader.cc:53] Successfully opened dynamic library libcusparse.so.11\n",
      "2023-05-01 18:01:19.601038: I tensorflow/stream_executor/platform/default/dso_loader.cc:53] Successfully opened dynamic library libcudnn.so.8\n",
      "2023-05-01 18:01:19.611694: I tensorflow/core/common_runtime/gpu/gpu_device.cc:1871] Adding visible gpu devices: 0, 1\n",
      "2023-05-01 18:01:19.612457: I tensorflow/core/platform/cpu_feature_guard.cc:142] This TensorFlow binary is optimized with oneAPI Deep Neural Network Library (oneDNN) to use the following CPU instructions in performance-critical operations:  AVX2 FMA\n",
      "To enable them in other operations, rebuild TensorFlow with the appropriate compiler flags.\n",
      "2023-05-01 18:01:19.852000: I tensorflow/core/common_runtime/gpu/gpu_device.cc:1733] Found device 0 with properties: \n",
      "pciBusID: 0000:07:00.0 name: A100-SXM4-40GB computeCapability: 8.0\n",
      "coreClock: 1.41GHz coreCount: 108 deviceMemorySize: 39.59GiB deviceMemoryBandwidth: 1.41TiB/s\n",
      "2023-05-01 18:01:19.854494: I tensorflow/core/common_runtime/gpu/gpu_device.cc:1733] Found device 1 with properties: \n",
      "pciBusID: 0000:4e:00.0 name: A100-SXM4-40GB computeCapability: 8.0\n",
      "coreClock: 1.41GHz coreCount: 108 deviceMemorySize: 39.59GiB deviceMemoryBandwidth: 1.41TiB/s\n",
      "2023-05-01 18:01:19.864089: I tensorflow/core/common_runtime/gpu/gpu_device.cc:1871] Adding visible gpu devices: 0, 1\n",
      "2023-05-01 18:01:19.864149: I tensorflow/stream_executor/platform/default/dso_loader.cc:53] Successfully opened dynamic library libcudart.so.11.0\n",
      "2023-05-01 18:01:20.680051: I tensorflow/core/common_runtime/gpu/gpu_device.cc:1258] Device interconnect StreamExecutor with strength 1 edge matrix:\n",
      "2023-05-01 18:01:20.680107: I tensorflow/core/common_runtime/gpu/gpu_device.cc:1264]      0 1 \n",
      "2023-05-01 18:01:20.680114: I tensorflow/core/common_runtime/gpu/gpu_device.cc:1277] 0:   N Y \n",
      "2023-05-01 18:01:20.680118: I tensorflow/core/common_runtime/gpu/gpu_device.cc:1277] 1:   Y N \n",
      "2023-05-01 18:01:20.700660: I tensorflow/core/common_runtime/gpu/gpu_device.cc:1418] Created TensorFlow device (/job:localhost/replica:0/task:0/device:GPU:0 with 38425 MB memory) -> physical GPU (device: 0, name: A100-SXM4-40GB, pci bus id: 0000:07:00.0, compute capability: 8.0)\n",
      "2023-05-01 18:01:20.705088: I tensorflow/core/common_runtime/gpu/gpu_device.cc:1418] Created TensorFlow device (/job:localhost/replica:0/task:0/device:GPU:1 with 38425 MB memory) -> physical GPU (device: 1, name: A100-SXM4-40GB, pci bus id: 0000:4e:00.0, compute capability: 8.0)\n"
     ]
    }
   ],
   "source": [
    "#CNN\n",
    "model = tensorflow.keras.Sequential()\n",
    "\n",
    "model.add(layers.Conv2D(filters=20, kernel_size=(5, 5), activation='relu', input_shape=(28,28,1)))\n",
    "model.add(layers.MaxPooling2D(pool_size=(2,2), strides=(2,2)))\n",
    "model.add(layers.Dropout(0.2))\n",
    "\n",
    "model.add(layers.Conv2D(filters=50, kernel_size=(5, 5), activation='relu'))\n",
    "model.add(layers.MaxPooling2D(pool_size=(2,2), strides=(2,2)))\n",
    "model.add(layers.Dropout(0.2))\n",
    "\n",
    "model.add(layers.Flatten())\n",
    "\n",
    "model.add(layers.Dense(units=256, activation='relu'))\n",
    "\n",
    "model.add(layers.Dropout(0.5))\n",
    "\n",
    "model.add(layers.Dense(units=1, activation = 'softmax'))  \n"
   ]
  },
  {
   "cell_type": "code",
   "execution_count": 17,
   "id": "85d03c1b",
   "metadata": {},
   "outputs": [
    {
     "name": "stdout",
     "output_type": "stream",
     "text": [
      "Model: \"sequential\"\n",
      "_________________________________________________________________\n",
      "Layer (type)                 Output Shape              Param #   \n",
      "=================================================================\n",
      "conv2d (Conv2D)              (None, 24, 24, 20)        520       \n",
      "_________________________________________________________________\n",
      "max_pooling2d (MaxPooling2D) (None, 12, 12, 20)        0         \n",
      "_________________________________________________________________\n",
      "dropout (Dropout)            (None, 12, 12, 20)        0         \n",
      "_________________________________________________________________\n",
      "conv2d_1 (Conv2D)            (None, 8, 8, 50)          25050     \n",
      "_________________________________________________________________\n",
      "max_pooling2d_1 (MaxPooling2 (None, 4, 4, 50)          0         \n",
      "_________________________________________________________________\n",
      "dropout_1 (Dropout)          (None, 4, 4, 50)          0         \n",
      "_________________________________________________________________\n",
      "flatten (Flatten)            (None, 800)               0         \n",
      "_________________________________________________________________\n",
      "dense (Dense)                (None, 256)               205056    \n",
      "_________________________________________________________________\n",
      "dropout_2 (Dropout)          (None, 256)               0         \n",
      "_________________________________________________________________\n",
      "dense_1 (Dense)              (None, 1)                 257       \n",
      "=================================================================\n",
      "Total params: 230,883\n",
      "Trainable params: 230,883\n",
      "Non-trainable params: 0\n",
      "_________________________________________________________________\n"
     ]
    }
   ],
   "source": [
    "model.summary()"
   ]
  },
  {
   "cell_type": "code",
   "execution_count": 18,
   "id": "53894190",
   "metadata": {},
   "outputs": [
    {
     "name": "stderr",
     "output_type": "stream",
     "text": [
      "/home/jiehyun.kim001/miniconda3/envs/O/lib/python3.9/site-packages/tensorflow/python/keras/optimizer_v2/optimizer_v2.py:374: UserWarning: The `lr` argument is deprecated, use `learning_rate` instead.\n",
      "  warnings.warn(\n"
     ]
    }
   ],
   "source": [
    "sgd = tensorflow.keras.optimizers.SGD(lr=0.001, decay=1e-6, momentum=0.9, nesterov=True)"
   ]
  },
  {
   "cell_type": "code",
   "execution_count": 19,
   "id": "516882b6",
   "metadata": {},
   "outputs": [],
   "source": [
    "model.compile(loss='sparse_categorical_crossentropy',\n",
    "              #tensorflow.keras.losses.binary_crossentropy,\n",
    "              optimizer=sgd,\n",
    "              metrics=['accuracy'])"
   ]
  },
  {
   "cell_type": "code",
   "execution_count": 20,
   "id": "1350f864",
   "metadata": {},
   "outputs": [],
   "source": [
    "batch_size = 32"
   ]
  },
  {
   "cell_type": "code",
   "execution_count": 21,
   "id": "dcb93c2e",
   "metadata": {},
   "outputs": [
    {
     "name": "stderr",
     "output_type": "stream",
     "text": [
      "2023-05-01 18:01:21.389968: I tensorflow/compiler/mlir/mlir_graph_optimization_pass.cc:176] None of the MLIR Optimization Passes are enabled (registered 2)\n",
      "2023-05-01 18:01:21.409181: I tensorflow/core/platform/profile_utils/cpu_utils.cc:114] CPU Frequency: 2245645000 Hz\n"
     ]
    },
    {
     "name": "stdout",
     "output_type": "stream",
     "text": [
      "Epoch 1/100\n"
     ]
    },
    {
     "name": "stderr",
     "output_type": "stream",
     "text": [
      "2023-05-01 18:01:21.757464: I tensorflow/stream_executor/platform/default/dso_loader.cc:53] Successfully opened dynamic library libcudnn.so.8\n",
      "2023-05-01 18:01:22.484323: I tensorflow/stream_executor/cuda/cuda_dnn.cc:359] Loaded cuDNN version 8201\n",
      "2023-05-01 18:01:23.174027: W tensorflow/stream_executor/gpu/asm_compiler.cc:191] Falling back to the CUDA driver for PTX compilation; ptxas does not support CC 8.0\n",
      "2023-05-01 18:01:23.174053: W tensorflow/stream_executor/gpu/asm_compiler.cc:194] Used ptxas at ptxas\n",
      "2023-05-01 18:01:23.174118: W tensorflow/stream_executor/gpu/redzone_allocator.cc:314] Unimplemented: ptxas ptxas too old. Falling back to the driver to compile.\n",
      "Relying on driver to perform ptx compilation. \n",
      "Modify $PATH to customize ptxas location.\n",
      "This message will be only logged once.\n",
      "2023-05-01 18:01:23.197006: I tensorflow/stream_executor/platform/default/dso_loader.cc:53] Successfully opened dynamic library libcublas.so.11\n",
      "2023-05-01 18:01:23.930405: I tensorflow/stream_executor/platform/default/dso_loader.cc:53] Successfully opened dynamic library libcublasLt.so.11\n",
      "2023-05-01 18:01:23.951883: I tensorflow/stream_executor/cuda/cuda_blas.cc:1838] TensorFloat-32 will be used for the matrix multiplication. This will only be logged once.\n"
     ]
    },
    {
     "name": "stdout",
     "output_type": "stream",
     "text": [
      "2/2 [==============================] - 3s 10ms/step - loss: nan - accuracy: 0.5312\n",
      "Epoch 2/100\n",
      "2/2 [==============================] - 0s 15ms/step - loss: nan - accuracy: 0.5781\n",
      "Epoch 3/100\n",
      "2/2 [==============================] - 0s 15ms/step - loss: nan - accuracy: 0.4375\n",
      "Epoch 4/100\n",
      "2/2 [==============================] - 0s 15ms/step - loss: nan - accuracy: 0.5156\n",
      "Epoch 5/100\n",
      "2/2 [==============================] - 0s 15ms/step - loss: nan - accuracy: 0.4219\n",
      "Epoch 6/100\n",
      "2/2 [==============================] - 0s 100ms/step - loss: nan - accuracy: 0.5116\n",
      "Epoch 7/100\n",
      "2/2 [==============================] - 0s 15ms/step - loss: nan - accuracy: 0.4375\n",
      "Epoch 8/100\n",
      "2/2 [==============================] - 0s 15ms/step - loss: nan - accuracy: 0.4844\n",
      "Epoch 9/100\n",
      "2/2 [==============================] - 0s 15ms/step - loss: nan - accuracy: 0.5469\n",
      "Epoch 10/100\n",
      "2/2 [==============================] - 0s 15ms/step - loss: nan - accuracy: 0.4844\n",
      "Epoch 11/100\n",
      "2/2 [==============================] - 0s 14ms/step - loss: nan - accuracy: 0.5000\n",
      "Epoch 12/100\n",
      "2/2 [==============================] - 0s 14ms/step - loss: nan - accuracy: 0.4062\n",
      "Epoch 13/100\n",
      "2/2 [==============================] - 0s 14ms/step - loss: nan - accuracy: 0.4688\n",
      "Epoch 14/100\n",
      "2/2 [==============================] - 0s 14ms/step - loss: nan - accuracy: 0.4531\n",
      "Epoch 15/100\n",
      "2/2 [==============================] - 0s 15ms/step - loss: nan - accuracy: 0.4375\n",
      "Epoch 16/100\n",
      "2/2 [==============================] - 0s 15ms/step - loss: nan - accuracy: 0.3906\n",
      "Epoch 17/100\n",
      "2/2 [==============================] - 0s 15ms/step - loss: nan - accuracy: 0.5625\n",
      "Epoch 18/100\n",
      "2/2 [==============================] - 0s 15ms/step - loss: nan - accuracy: 0.4219\n",
      "Epoch 19/100\n",
      "2/2 [==============================] - 0s 15ms/step - loss: nan - accuracy: 0.5469\n",
      "Epoch 20/100\n",
      "2/2 [==============================] - 0s 16ms/step - loss: nan - accuracy: 0.4375\n",
      "Epoch 21/100\n",
      "2/2 [==============================] - 0s 14ms/step - loss: nan - accuracy: 0.4688\n",
      "Epoch 22/100\n",
      "2/2 [==============================] - 0s 14ms/step - loss: nan - accuracy: 0.4688\n",
      "Epoch 23/100\n",
      "2/2 [==============================] - 0s 14ms/step - loss: nan - accuracy: 0.5938\n",
      "Epoch 24/100\n",
      "2/2 [==============================] - 0s 15ms/step - loss: nan - accuracy: 0.4688\n",
      "Epoch 25/100\n",
      "2/2 [==============================] - 0s 14ms/step - loss: nan - accuracy: 0.4375\n",
      "Epoch 26/100\n",
      "2/2 [==============================] - 0s 14ms/step - loss: nan - accuracy: 0.3750\n",
      "Epoch 27/100\n",
      "2/2 [==============================] - 0s 14ms/step - loss: nan - accuracy: 0.3906\n",
      "Epoch 28/100\n",
      "2/2 [==============================] - 0s 14ms/step - loss: nan - accuracy: 0.5156\n",
      "Epoch 29/100\n",
      "2/2 [==============================] - 0s 14ms/step - loss: nan - accuracy: 0.4844\n",
      "Epoch 30/100\n",
      "2/2 [==============================] - 0s 14ms/step - loss: nan - accuracy: 0.4844\n",
      "Epoch 31/100\n",
      "2/2 [==============================] - 0s 14ms/step - loss: nan - accuracy: 0.5156\n",
      "Epoch 32/100\n",
      "2/2 [==============================] - 0s 15ms/step - loss: nan - accuracy: 0.5156\n",
      "Epoch 33/100\n",
      "2/2 [==============================] - 0s 14ms/step - loss: nan - accuracy: 0.5000\n",
      "Epoch 34/100\n",
      "2/2 [==============================] - 0s 15ms/step - loss: nan - accuracy: 0.4844\n",
      "Epoch 35/100\n",
      "2/2 [==============================] - 0s 15ms/step - loss: nan - accuracy: 0.5625\n",
      "Epoch 36/100\n",
      "2/2 [==============================] - 0s 15ms/step - loss: nan - accuracy: 0.5938\n",
      "Epoch 37/100\n",
      "2/2 [==============================] - 0s 15ms/step - loss: nan - accuracy: 0.4219\n",
      "Epoch 38/100\n",
      "2/2 [==============================] - 0s 15ms/step - loss: nan - accuracy: 0.4844\n",
      "Epoch 39/100\n",
      "2/2 [==============================] - 0s 15ms/step - loss: nan - accuracy: 0.5000\n",
      "Epoch 40/100\n",
      "2/2 [==============================] - 0s 15ms/step - loss: nan - accuracy: 0.4688\n",
      "Epoch 41/100\n",
      "2/2 [==============================] - 0s 15ms/step - loss: nan - accuracy: 0.5938\n",
      "Epoch 42/100\n",
      "2/2 [==============================] - 0s 15ms/step - loss: nan - accuracy: 0.4375\n",
      "Epoch 43/100\n",
      "2/2 [==============================] - 0s 14ms/step - loss: nan - accuracy: 0.5000\n",
      "Epoch 44/100\n",
      "2/2 [==============================] - 0s 14ms/step - loss: nan - accuracy: 0.5625\n",
      "Epoch 45/100\n",
      "2/2 [==============================] - 0s 15ms/step - loss: nan - accuracy: 0.4531\n",
      "Epoch 46/100\n",
      "2/2 [==============================] - 0s 14ms/step - loss: nan - accuracy: 0.5625\n",
      "Epoch 47/100\n",
      "2/2 [==============================] - 0s 14ms/step - loss: nan - accuracy: 0.5156\n",
      "Epoch 48/100\n",
      "2/2 [==============================] - 0s 14ms/step - loss: nan - accuracy: 0.4219\n",
      "Epoch 49/100\n",
      "2/2 [==============================] - 0s 14ms/step - loss: nan - accuracy: 0.4844\n",
      "Epoch 50/100\n",
      "2/2 [==============================] - 0s 15ms/step - loss: nan - accuracy: 0.5781\n",
      "Epoch 51/100\n",
      "2/2 [==============================] - 0s 15ms/step - loss: nan - accuracy: 0.4844\n",
      "Epoch 52/100\n",
      "2/2 [==============================] - 0s 15ms/step - loss: nan - accuracy: 0.5312\n",
      "Epoch 53/100\n",
      "2/2 [==============================] - 0s 14ms/step - loss: nan - accuracy: 0.5625\n",
      "Epoch 54/100\n",
      "2/2 [==============================] - 0s 15ms/step - loss: nan - accuracy: 0.4844\n",
      "Epoch 55/100\n",
      "2/2 [==============================] - 0s 14ms/step - loss: nan - accuracy: 0.6250\n",
      "Epoch 56/100\n",
      "2/2 [==============================] - 0s 15ms/step - loss: nan - accuracy: 0.5625\n",
      "Epoch 57/100\n",
      "2/2 [==============================] - 0s 11ms/step - loss: nan - accuracy: 0.5156\n",
      "Epoch 58/100\n",
      "2/2 [==============================] - 0s 15ms/step - loss: nan - accuracy: 0.5312\n",
      "Epoch 59/100\n",
      "2/2 [==============================] - 0s 15ms/step - loss: nan - accuracy: 0.6094\n",
      "Epoch 60/100\n",
      "2/2 [==============================] - 0s 15ms/step - loss: nan - accuracy: 0.3750\n",
      "Epoch 61/100\n",
      "2/2 [==============================] - 0s 15ms/step - loss: nan - accuracy: 0.4531\n",
      "Epoch 62/100\n",
      "2/2 [==============================] - 0s 12ms/step - loss: nan - accuracy: 0.5312\n",
      "Epoch 63/100\n",
      "2/2 [==============================] - 0s 15ms/step - loss: nan - accuracy: 0.5000\n",
      "Epoch 64/100\n",
      "2/2 [==============================] - 0s 15ms/step - loss: nan - accuracy: 0.6250\n",
      "Epoch 65/100\n",
      "2/2 [==============================] - 0s 15ms/step - loss: nan - accuracy: 0.5156\n",
      "Epoch 66/100\n",
      "2/2 [==============================] - 0s 15ms/step - loss: nan - accuracy: 0.5000\n",
      "Epoch 67/100\n",
      "2/2 [==============================] - 0s 15ms/step - loss: nan - accuracy: 0.6719\n",
      "Epoch 68/100\n",
      "2/2 [==============================] - 0s 15ms/step - loss: nan - accuracy: 0.5156\n",
      "Epoch 69/100\n",
      "2/2 [==============================] - 0s 10ms/step - loss: nan - accuracy: 0.4884\n",
      "Epoch 70/100\n",
      "2/2 [==============================] - 0s 15ms/step - loss: nan - accuracy: 0.5156\n",
      "Epoch 71/100\n",
      "2/2 [==============================] - 0s 16ms/step - loss: nan - accuracy: 0.5625\n",
      "Epoch 72/100\n",
      "2/2 [==============================] - 0s 15ms/step - loss: nan - accuracy: 0.4375\n",
      "Epoch 73/100\n",
      "2/2 [==============================] - 0s 15ms/step - loss: nan - accuracy: 0.5312\n",
      "Epoch 74/100\n",
      "2/2 [==============================] - 0s 15ms/step - loss: nan - accuracy: 0.5156\n",
      "Epoch 75/100\n",
      "2/2 [==============================] - 0s 15ms/step - loss: nan - accuracy: 0.4688\n",
      "Epoch 76/100\n",
      "2/2 [==============================] - 0s 15ms/step - loss: nan - accuracy: 0.5625\n",
      "Epoch 77/100\n",
      "2/2 [==============================] - 0s 15ms/step - loss: nan - accuracy: 0.5156\n",
      "Epoch 78/100\n",
      "2/2 [==============================] - 0s 15ms/step - loss: nan - accuracy: 0.4844\n",
      "Epoch 79/100\n",
      "2/2 [==============================] - 0s 15ms/step - loss: nan - accuracy: 0.4531\n",
      "Epoch 80/100\n",
      "2/2 [==============================] - 0s 12ms/step - loss: nan - accuracy: 0.3438\n",
      "Epoch 81/100\n",
      "2/2 [==============================] - 0s 15ms/step - loss: nan - accuracy: 0.5000\n",
      "Epoch 82/100\n",
      "2/2 [==============================] - 0s 15ms/step - loss: nan - accuracy: 0.4219\n",
      "Epoch 83/100\n",
      "2/2 [==============================] - 0s 15ms/step - loss: nan - accuracy: 0.5625\n",
      "Epoch 84/100\n",
      "2/2 [==============================] - 0s 15ms/step - loss: nan - accuracy: 0.5312\n",
      "Epoch 85/100\n",
      "2/2 [==============================] - 0s 12ms/step - loss: nan - accuracy: 0.4219\n",
      "Epoch 86/100\n"
     ]
    },
    {
     "name": "stdout",
     "output_type": "stream",
     "text": [
      "2/2 [==============================] - 0s 15ms/step - loss: nan - accuracy: 0.5625\n",
      "Epoch 87/100\n",
      "2/2 [==============================] - 0s 15ms/step - loss: nan - accuracy: 0.5469\n",
      "Epoch 88/100\n",
      "2/2 [==============================] - 0s 15ms/step - loss: nan - accuracy: 0.5000\n",
      "Epoch 89/100\n",
      "2/2 [==============================] - 0s 15ms/step - loss: nan - accuracy: 0.4531\n",
      "Epoch 90/100\n",
      "2/2 [==============================] - 0s 15ms/step - loss: nan - accuracy: 0.5312\n",
      "Epoch 91/100\n",
      "2/2 [==============================] - 0s 15ms/step - loss: nan - accuracy: 0.4531\n",
      "Epoch 92/100\n",
      "2/2 [==============================] - 0s 15ms/step - loss: nan - accuracy: 0.5156\n",
      "Epoch 93/100\n",
      "2/2 [==============================] - 0s 15ms/step - loss: nan - accuracy: 0.4688\n",
      "Epoch 94/100\n",
      "2/2 [==============================] - 0s 15ms/step - loss: nan - accuracy: 0.5469\n",
      "Epoch 95/100\n",
      "2/2 [==============================] - 0s 15ms/step - loss: nan - accuracy: 0.5312\n",
      "Epoch 96/100\n",
      "2/2 [==============================] - 0s 15ms/step - loss: nan - accuracy: 0.4531\n",
      "Epoch 97/100\n",
      "2/2 [==============================] - 0s 15ms/step - loss: nan - accuracy: 0.5156\n",
      "Epoch 98/100\n",
      "2/2 [==============================] - 0s 15ms/step - loss: nan - accuracy: 0.5312\n",
      "Epoch 99/100\n",
      "2/2 [==============================] - 0s 15ms/step - loss: nan - accuracy: 0.4688\n",
      "Epoch 100/100\n",
      "2/2 [==============================] - 0s 15ms/step - loss: nan - accuracy: 0.6094\n"
     ]
    },
    {
     "data": {
      "text/plain": [
       "<tensorflow.python.keras.callbacks.History at 0x7f54ccaede20>"
      ]
     },
     "execution_count": 21,
     "metadata": {},
     "output_type": "execute_result"
    }
   ],
   "source": [
    "model.fit(train, steps_per_epoch=len(train) // batch_size, verbose=True, epochs=100)"
   ]
  },
  {
   "cell_type": "code",
   "execution_count": null,
   "id": "2b1b43e1",
   "metadata": {},
   "outputs": [],
   "source": []
  },
  {
   "cell_type": "code",
   "execution_count": null,
   "id": "fa1dfd74",
   "metadata": {},
   "outputs": [],
   "source": []
  }
 ],
 "metadata": {
  "kernelspec": {
   "display_name": "Python 3 (ipykernel)",
   "language": "python",
   "name": "python3"
  },
  "language_info": {
   "codemirror_mode": {
    "name": "ipython",
    "version": 3
   },
   "file_extension": ".py",
   "mimetype": "text/x-python",
   "name": "python",
   "nbconvert_exporter": "python",
   "pygments_lexer": "ipython3",
   "version": "3.9.7"
  }
 },
 "nbformat": 4,
 "nbformat_minor": 5
}
