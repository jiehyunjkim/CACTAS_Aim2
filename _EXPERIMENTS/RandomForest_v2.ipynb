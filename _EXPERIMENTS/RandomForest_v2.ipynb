{
 "cells": [
  {
   "cell_type": "code",
   "execution_count": 1,
   "id": "ab21c4e1",
   "metadata": {},
   "outputs": [
    {
     "name": "stdout",
     "output_type": "stream",
     "text": [
      "Populating the interactive namespace from numpy and matplotlib\n"
     ]
    }
   ],
   "source": [
    "%pylab inline"
   ]
  },
  {
   "cell_type": "code",
   "execution_count": 2,
   "id": "00e55144",
   "metadata": {},
   "outputs": [
    {
     "name": "stderr",
     "output_type": "stream",
     "text": [
      "2023-05-01 03:51:02.464245: I tensorflow/stream_executor/platform/default/dso_loader.cc:53] Successfully opened dynamic library libcudart.so.11.0\n",
      "/home/jiehyun.kim001/miniconda3/envs/O/lib/python3.9/site-packages/scipy/__init__.py:146: UserWarning: A NumPy version >=1.16.5 and <1.23.0 is required for this version of SciPy (detected version 1.23.4\n",
      "  warnings.warn(f\"A NumPy version >={np_minversion} and <{np_maxversion}\"\n"
     ]
    }
   ],
   "source": [
    "import tensorflow\n",
    "import keras\n",
    "from tensorflow.keras.applications import VGG19\n",
    "from tensorflow.keras.preprocessing.image import ImageDataGenerator\n",
    "import tensorflow.keras.layers as layers\n",
    "from sklearn.utils import shuffle\n",
    "from sklearn.model_selection import train_test_split\n",
    "from sklearn.ensemble import RandomForestClassifier\n",
    "import sklearn.metrics\n",
    "from scipy import stats\n",
    "import json"
   ]
  },
  {
   "cell_type": "code",
   "execution_count": 3,
   "id": "5259f6f4",
   "metadata": {},
   "outputs": [],
   "source": [
    "import cactas as C"
   ]
  },
  {
   "cell_type": "code",
   "execution_count": null,
   "id": "318ad02f",
   "metadata": {},
   "outputs": [],
   "source": []
  },
  {
   "cell_type": "code",
   "execution_count": 4,
   "id": "70bb7ff1",
   "metadata": {},
   "outputs": [],
   "source": [
    "asymp_img = np.load('/raid/mpsych/CACTAS/DATA/ESUS/asymp_cropped_no_norm.npy')\n",
    "symp_img = np.load('/raid/mpsych/CACTAS/DATA/ESUS/symp_cropped_no_norm.npy')\n",
    "asymp_label = np.load('/raid/mpsych/CACTAS/DATA/ESUS/asymp_cropped_labels_no_norm.npy')\n",
    "symp_label = np.load('/raid/mpsych/CACTAS/DATA/ESUS/symp_cropped_labels_no_norm.npy')"
   ]
  },
  {
   "cell_type": "code",
   "execution_count": 5,
   "id": "45b5fe91",
   "metadata": {},
   "outputs": [],
   "source": [
    "labels = np.concatenate((asymp_label, symp_label))\n",
    "images = np.concatenate((asymp_img, symp_img))"
   ]
  },
  {
   "cell_type": "code",
   "execution_count": null,
   "id": "5710a117",
   "metadata": {},
   "outputs": [],
   "source": []
  },
  {
   "cell_type": "code",
   "execution_count": null,
   "id": "7faa58ac",
   "metadata": {},
   "outputs": [],
   "source": []
  },
  {
   "cell_type": "code",
   "execution_count": 7,
   "id": "238565be",
   "metadata": {},
   "outputs": [
    {
     "name": "stdout",
     "output_type": "stream",
     "text": [
      "run 0 acc 0.11822660098522167 f1 0.6732673267326733\n",
      "test run 0 acc 0.09668313338038109 f1 0.7392358608034602\n",
      "run 1 acc 0.11330049261083744 f1 0.6762158560959362\n",
      "test run 1 acc 0.08821453775582216 f1 0.7404651567565214\n",
      "run 2 acc 0.11330049261083744 f1 0.6707114361702128\n",
      "test run 2 acc 0.09103740296400847 f1 0.7413127413127413\n",
      "run 3 acc 0.11330049261083744 f1 0.6743161220587014\n",
      "test run 3 acc 0.0839802399435427 f1 0.7422586024611159\n",
      "run 4 acc 0.12807881773399016 f1 0.677132652213639\n",
      "test run 4 acc 0.10374029640084687 f1 0.7413045614878073\n",
      "run 5 acc 0.12807881773399016 f1 0.6738750727771771\n",
      "test run 5 acc 0.09244883556810163 f1 0.7402802425720476\n",
      "run 6 acc 0.12807881773399016 f1 0.6749812920927912\n",
      "test run 6 acc 0.07621736062103035 f1 0.7436874183717893\n",
      "run 7 acc 0.12315270935960591 f1 0.673671920607122\n",
      "test run 7 acc 0.10021171489061398 f1 0.745625373377505\n",
      "run 8 acc 0.12315270935960591 f1 0.673421926910299\n",
      "test run 8 acc 0.08962597035991532 f1 0.7435246097396818\n",
      "run 9 acc 0.10837438423645321 f1 0.6696160267111853\n",
      "test run 9 acc 0.08468595624558928 f1 0.7426614481409002\n"
     ]
    }
   ],
   "source": [
    "train_f1 = []\n",
    "test_f1 = []\n",
    "for i in range(10):\n",
    "    X, y = shuffle(images, labels, random_state=0)\n",
    "    X_train, X_val, y_train, y_val = C.Util.split_3(X, y, val_size=0.15)\n",
    "\n",
    "    #X_train_raveled = X_train.reshape(X_train.shape[0], X_train.shape[1]*X_train.shape[2])\n",
    "    #X_val_raveled = X_val.reshape(X_val.shape[0], X_val.shape[1]*X_val.shape[2])\n",
    "    \n",
    "    X_train_raveled = np.concatenate((X_train.reshape(X_train.shape[0], X_train.shape[1]*X_train.shape[2]), y_train.reshape(y_train.shape[0], y_train.shape[1]*y_train.shape[2])), axis=1)\n",
    "    X_val_raveled = np.concatenate((X_val.reshape(X_val.shape[0], X_val.shape[1]*X_val.shape[2]), y_val.reshape(y_val.shape[0], y_val.shape[1]*y_val.shape[2])), axis=1)\n",
    "    y_train_raveled = y_train.reshape(y_train.shape[0], y_train.shape[1]*y_train.shape[2])\n",
    "    y_val_raveled = y_val.reshape(y_val.shape[0], y_val.shape[1]*y_val.shape[2])\n",
    "\n",
    "\n",
    "    \n",
    "    rf = RandomForestClassifier(n_estimators=100)\n",
    "    fitted = rf.fit(X_train_raveled, y_train_raveled)\n",
    "    y_pred = rf.predict(X_val_raveled)\n",
    "    \n",
    "    \n",
    "    f1 = sklearn.metrics.f1_score(y_val_raveled, y_pred, average='micro')\n",
    "    train_f1.append(f1)\n",
    "    print('run', i, 'acc', sklearn.metrics.accuracy_score(y_val_raveled, y_pred), 'f1', f1)\n",
    "    \n",
    "    asymp_img_test = np.load('/raid/mpsych/CACTAS/DATA/ESUS/asymp_cropped.npy')\n",
    "    symp_img_test = np.load('/raid/mpsych/CACTAS/DATA/ESUS/symp_cropped.npy')\n",
    "    asymp_label_test = np.load('/raid/mpsych/CACTAS/DATA/ESUS/asymp_labels_cropped.npy')\n",
    "    symp_label_test = np.load('/raid/mpsych/CACTAS/DATA/ESUS/symp_labels_cropped.npy')\n",
    "\n",
    "    labels_test = np.concatenate((asymp_label_test, symp_label_test))\n",
    "    images_test = np.concatenate((asymp_img_test, symp_img_test))\n",
    "    \n",
    "    X_test, y_test = shuffle(images_test, labels_test, random_state=0)\n",
    "    \n",
    "    #X_test_raveled = X_test.reshape(X_test.shape[0], X_test.shape[1]*X_test.shape[2])\n",
    "    X_test_raveled = np.concatenate((X_test.reshape(X_test.shape[0], X_test.shape[1]*X_test.shape[2]), y_test.reshape(y_test.shape[0], y_test.shape[1]*y_test.shape[2])), axis=1)\n",
    "    y_test_raveled = y_test.reshape(y_test.shape[0], y_test.shape[1]*y_test.shape[2])\n",
    "    \n",
    "    y_pred = rf.predict(X_test_raveled)\n",
    "    \n",
    "    test_acc = sklearn.metrics.accuracy_score(y_test_raveled, y_pred)\n",
    "    c_test_f1 = sklearn.metrics.f1_score(y_test_raveled, y_pred, average='micro')\n",
    "    print('test run', i, 'acc', test_acc, 'f1', c_test_f1)\n",
    "    \n",
    "    test_f1.append(c_test_f1)"
   ]
  },
  {
   "cell_type": "code",
   "execution_count": null,
   "id": "b4909f34",
   "metadata": {},
   "outputs": [],
   "source": []
  },
  {
   "cell_type": "code",
   "execution_count": 5,
   "id": "4a831d4b",
   "metadata": {},
   "outputs": [],
   "source": [
    "train_f1 = [0.6732673267326733, 0.6762158560959362,0.6707114361702128,0.6743161220587014,0.677132652213639,\n",
    "           0.6738750727771771, 0.6749812920927912, 0.673671920607122, 0.673421926910299, 0.6696160267111853]\n",
    "test_f1 = [0.7392358608034602,0.7404651567565214, 0.7413127413127413, 0.7422586024611159,0.7413045614878073,\n",
    "          0.7402802425720476, 0.7436874183717893, 0.745625373377505, 0.7435246097396818, 0.7426614481409002]"
   ]
  },
  {
   "cell_type": "code",
   "execution_count": 6,
   "id": "41a0b11f",
   "metadata": {},
   "outputs": [
    {
     "data": {
      "image/png": "[encoded data removed]",
      "text/plain": [
       "<Figure size 504x936 with 1 Axes>"
      ]
     },
     "metadata": {
      "needs_background": "light"
     },
     "output_type": "display_data"
    },
    {
     "name": "stdout",
     "output_type": "stream",
     "text": [
      "Train 0.6737209632369737 +/- 0.0021455972520031917\n",
      "Test 0.742035601502357 +/- 0.0018087729561985471\n",
      "t_20 = -73.03 ,p= 0.0\n"
     ]
    }
   ],
   "source": [
    "data = [train_f1, test_f1]\n",
    "labels = ['Train', 'Test']\n",
    "C.Util.boxplot(data, labels, y_lim=1, y_label='F1 Score', outputdir='/home/jiehyun.kim001/CACTAS/_EXPERIMENTS/')"
   ]
  },
  {
   "cell_type": "code",
   "execution_count": null,
   "id": "25d15f50",
   "metadata": {},
   "outputs": [],
   "source": []
  },
  {
   "cell_type": "code",
   "execution_count": null,
   "id": "a77bc66b",
   "metadata": {},
   "outputs": [],
   "source": []
  },
  {
   "cell_type": "code",
   "execution_count": null,
   "id": "56f64638",
   "metadata": {},
   "outputs": [],
   "source": []
  }
 ],
 "metadata": {
  "kernelspec": {
   "display_name": "Python 3 (ipykernel)",
   "language": "python",
   "name": "python3"
  },
  "language_info": {
   "codemirror_mode": {
    "name": "ipython",
    "version": 3
   },
   "file_extension": ".py",
   "mimetype": "text/x-python",
   "name": "python",
   "nbconvert_exporter": "python",
   "pygments_lexer": "ipython3",
   "version": "3.9.7"
  }
 },
 "nbformat": 4,
 "nbformat_minor": 5
}
