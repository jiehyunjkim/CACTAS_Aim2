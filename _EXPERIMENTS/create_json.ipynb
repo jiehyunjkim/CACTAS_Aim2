{
 "cells": [
  {
   "cell_type": "code",
   "execution_count": 1,
   "id": "337c0078",
   "metadata": {},
   "outputs": [
    {
     "name": "stdout",
     "output_type": "stream",
     "text": [
      "Populating the interactive namespace from numpy and matplotlib\n"
     ]
    }
   ],
   "source": [
    "%pylab inline\n",
    "import os\n",
    "import nrrd\n",
    "import json"
   ]
  },
  {
   "cell_type": "code",
   "execution_count": 2,
   "id": "e78475c1",
   "metadata": {},
   "outputs": [],
   "source": [
    "DATAPATH = '/raid/mpsych/CACTAS/DATA/ESUS/'"
   ]
  },
  {
   "cell_type": "code",
   "execution_count": null,
   "id": "5b00a924",
   "metadata": {},
   "outputs": [],
   "source": []
  },
  {
   "cell_type": "code",
   "execution_count": 3,
   "id": "867a76f2",
   "metadata": {},
   "outputs": [],
   "source": [
    "all_slices = []\n",
    "data = {}\n",
    "count = 0\n",
    "ids = []"
   ]
  },
  {
   "cell_type": "code",
   "execution_count": 4,
   "id": "2590f436",
   "metadata": {},
   "outputs": [],
   "source": [
    "all_slice = []\n",
    "datas = {}\n",
    "counts = 0\n",
    "id_s=[]"
   ]
  },
  {
   "cell_type": "code",
   "execution_count": 5,
   "id": "f6187936",
   "metadata": {},
   "outputs": [
    {
     "name": "stdout",
     "output_type": "stream",
     "text": [
      "[2, 5, 6, 7, 9, 10, 12, 13, 14, 15, 16, 17, 18, 21, 22, 23, 24, 25, 26, 27, 29, 31, 32, 33, 35, 36, 39, 40, 41, 45, 46, 47, 48, 49, 50, 51, 52, 53, 57, 61, 62, 63, 64, 66, 69, 71, 72, 73, 75, 77, 79, 82, 83, 84, 86, 87, 88, 90, 91, 92, 93, 94, 96, 97]\n"
     ]
    }
   ],
   "source": [
    "for f in os.listdir(DATAPATH):\n",
    "    if f.endswith('.img.nrrd'):\n",
    "        current_id = f.split('.')[0]\n",
    "        ids += [int(current_id)]\n",
    "        ids = sorted(ids)\n",
    "\n",
    "print(ids)"
   ]
  },
  {
   "cell_type": "code",
   "execution_count": 6,
   "id": "7bc5778f",
   "metadata": {},
   "outputs": [
    {
     "name": "stdout",
     "output_type": "stream",
     "text": [
      "[2, 5, 6, 7, 9, 10, 12, 13, 14, 15, 16, 17, 18, 21, 22, 23, 24, 25, 26, 27, 29, 31, 32, 33, 35, 36, 39, 40, 41, 45, 46, 47, 48, 49, 50, 51, 52, 53, 57, 61, 62, 63, 64, 66, 69, 71, 72, 73, 75, 77, 79, 82, 83, 84, 86, 87, 88, 90, 91, 92, 93, 94, 96, 97]\n"
     ]
    }
   ],
   "source": [
    "for f in os.listdir(DATAPATH):\n",
    "    if f.endswith('img.nrrd'):\n",
    "        current_id = f.split('.')[0]\n",
    "        id_s += [int(current_id)]\n",
    "        id_s = sorted(id_s)\n",
    "print(id_s)"
   ]
  },
  {
   "cell_type": "code",
   "execution_count": 7,
   "id": "c258fde7",
   "metadata": {},
   "outputs": [
    {
     "data": {
      "text/plain": [
       "64"
      ]
     },
     "execution_count": 7,
     "metadata": {},
     "output_type": "execute_result"
    }
   ],
   "source": [
    "len(ids)"
   ]
  },
  {
   "cell_type": "code",
   "execution_count": 8,
   "id": "db37020e",
   "metadata": {},
   "outputs": [
    {
     "data": {
      "text/plain": [
       "64"
      ]
     },
     "execution_count": 8,
     "metadata": {},
     "output_type": "execute_result"
    }
   ],
   "source": [
    "len(id_s)"
   ]
  },
  {
   "cell_type": "code",
   "execution_count": 9,
   "id": "2bea1e8d",
   "metadata": {},
   "outputs": [],
   "source": [
    "for i in range(len(ids)):\n",
    "    if os.path.isfile(DATAPATH + str(ids[i]) + '.seg.nrrd'):\n",
    "        im, h = nrrd.read(DATAPATH + str(ids[i]) + '.seg.nrrd')\n",
    "    elif os.path.isfile(DATAPATH + str(ids[i]) + '.a.seg.nrrd'):\n",
    "        im, h = nrrd.read(DATAPATH + str(ids[i]) + '.a.seg.nrrd')\n",
    "    \n",
    "    img, h = nrrd.read(DATAPATH + str(id_s[i]) + '.img.nrrd')\n",
    "        \n",
    "    data[ids[i]] = count\n",
    "    datas[id_s[i]] = counts\n",
    "\n",
    "    for z in range(im.shape[2]):\n",
    "        #print(im[:, :, z].max())\n",
    "        if im[:, :, z].max() != 0:\n",
    "            #print(im[:, :, z].max())\n",
    "            all_slices.append(im[:, :, z])\n",
    "            count += 1\n",
    "            \n",
    "            all_slice.append(img[:, :, z])\n",
    "            counts += 1\n",
    "            \n",
    "    #print(count)"
   ]
  },
  {
   "cell_type": "code",
   "execution_count": null,
   "id": "a7a226ca",
   "metadata": {},
   "outputs": [],
   "source": []
  },
  {
   "cell_type": "code",
   "execution_count": 10,
   "id": "d26005f5",
   "metadata": {},
   "outputs": [],
   "source": [
    "numpy.set_printoptions(threshold=sys.maxsize)"
   ]
  },
  {
   "cell_type": "code",
   "execution_count": 10,
   "id": "6cc7eae8",
   "metadata": {},
   "outputs": [],
   "source": [
    "new_slices = []\n",
    "for i in range(len(all_slices)):\n",
    "    # create a new array where all elements other than zero are replaced by True\n",
    "    slices = np.where(all_slices[i] != 0, True, False)\n",
    "    new_slices.append(slices)"
   ]
  },
  {
   "cell_type": "code",
   "execution_count": 11,
   "id": "d796e14d",
   "metadata": {},
   "outputs": [],
   "source": [
    "new_slice = []\n",
    "for i in range(len(all_slice)):\n",
    "    # create a new array where all elements other than zero are replaced by True\n",
    "    slices_2 = np.where(all_slice[i] != 0, True, False)\n",
    "    new_slice.append(slices_2)"
   ]
  },
  {
   "cell_type": "code",
   "execution_count": 13,
   "id": "75fa83bc",
   "metadata": {},
   "outputs": [],
   "source": [
    "new_slices = np.array(new_slices)"
   ]
  },
  {
   "cell_type": "code",
   "execution_count": 14,
   "id": "2cb33db6",
   "metadata": {},
   "outputs": [
    {
     "data": {
      "text/plain": [
       "(766, 512, 512)"
      ]
     },
     "execution_count": 14,
     "metadata": {},
     "output_type": "execute_result"
    }
   ],
   "source": [
    "new_slices.shape"
   ]
  },
  {
   "cell_type": "code",
   "execution_count": 15,
   "id": "1abc1593",
   "metadata": {},
   "outputs": [],
   "source": [
    "new_slice = np.array(new_slice)"
   ]
  },
  {
   "cell_type": "code",
   "execution_count": 16,
   "id": "91d0dfaf",
   "metadata": {},
   "outputs": [
    {
     "data": {
      "text/plain": [
       "(766, 512, 512)"
      ]
     },
     "execution_count": 16,
     "metadata": {},
     "output_type": "execute_result"
    }
   ],
   "source": [
    "new_slice.shape"
   ]
  },
  {
   "cell_type": "code",
   "execution_count": 17,
   "id": "e926905a",
   "metadata": {},
   "outputs": [],
   "source": [
    "a = np.zeros((len(new_slices), new_slices[0].shape[0], new_slices[0].shape[1]), dtype=new_slices[0].dtype)"
   ]
  },
  {
   "cell_type": "code",
   "execution_count": 18,
   "id": "d5160a00",
   "metadata": {},
   "outputs": [],
   "source": [
    "for i, s in enumerate(new_slices):\n",
    "    a[i] = s"
   ]
  },
  {
   "cell_type": "code",
   "execution_count": 19,
   "id": "f2d7c758",
   "metadata": {},
   "outputs": [],
   "source": [
    "#np.save(DATAPATH + 'labels_new.npy', a)"
   ]
  },
  {
   "cell_type": "code",
   "execution_count": null,
   "id": "0ad55cc8",
   "metadata": {},
   "outputs": [],
   "source": []
  },
  {
   "cell_type": "code",
   "execution_count": 20,
   "id": "a73c61e0",
   "metadata": {},
   "outputs": [],
   "source": [
    "b = np.zeros((len(new_slice), new_slice[0].shape[0], new_slice[0].shape[1]), dtype=new_slice[0].dtype)"
   ]
  },
  {
   "cell_type": "code",
   "execution_count": 21,
   "id": "53dec842",
   "metadata": {},
   "outputs": [],
   "source": [
    "for i, s in enumerate(new_slice):\n",
    "    b[i] = s"
   ]
  },
  {
   "cell_type": "code",
   "execution_count": 22,
   "id": "4d31cc5d",
   "metadata": {},
   "outputs": [],
   "source": [
    "#np.save(DATAPATH + 'images_new.npy', b)"
   ]
  },
  {
   "cell_type": "code",
   "execution_count": null,
   "id": "f03c35b1",
   "metadata": {},
   "outputs": [],
   "source": []
  },
  {
   "cell_type": "code",
   "execution_count": null,
   "id": "b2422d08",
   "metadata": {},
   "outputs": [],
   "source": []
  },
  {
   "cell_type": "code",
   "execution_count": 10,
   "id": "dc264ba6",
   "metadata": {},
   "outputs": [
    {
     "data": {
      "text/plain": [
       "{2: 0,\n",
       " 5: 10,\n",
       " 6: 17,\n",
       " 7: 36,\n",
       " 9: 54,\n",
       " 10: 64,\n",
       " 12: 77,\n",
       " 13: 87,\n",
       " 14: 114,\n",
       " 15: 121,\n",
       " 16: 126,\n",
       " 17: 149,\n",
       " 18: 169,\n",
       " 21: 190,\n",
       " 22: 201,\n",
       " 23: 221,\n",
       " 24: 242,\n",
       " 25: 246,\n",
       " 26: 265,\n",
       " 27: 276,\n",
       " 29: 282,\n",
       " 31: 305,\n",
       " 32: 328,\n",
       " 33: 335,\n",
       " 35: 343,\n",
       " 36: 346,\n",
       " 39: 351,\n",
       " 40: 357,\n",
       " 41: 362,\n",
       " 45: 365,\n",
       " 46: 374,\n",
       " 47: 376,\n",
       " 48: 384,\n",
       " 49: 407,\n",
       " 50: 423,\n",
       " 51: 432,\n",
       " 52: 470,\n",
       " 53: 474,\n",
       " 57: 479,\n",
       " 61: 491,\n",
       " 62: 499,\n",
       " 63: 509,\n",
       " 64: 518,\n",
       " 66: 522,\n",
       " 69: 527,\n",
       " 71: 532,\n",
       " 72: 545,\n",
       " 73: 560,\n",
       " 75: 568,\n",
       " 77: 579,\n",
       " 79: 586,\n",
       " 82: 596,\n",
       " 83: 609,\n",
       " 84: 619,\n",
       " 86: 625,\n",
       " 87: 631,\n",
       " 88: 643,\n",
       " 90: 657,\n",
       " 91: 675,\n",
       " 92: 684,\n",
       " 93: 725,\n",
       " 94: 729,\n",
       " 96: 735,\n",
       " 97: 752}"
      ]
     },
     "execution_count": 10,
     "metadata": {},
     "output_type": "execute_result"
    }
   ],
   "source": [
    "data"
   ]
  },
  {
   "cell_type": "code",
   "execution_count": 11,
   "id": "ea9ba41b",
   "metadata": {},
   "outputs": [
    {
     "data": {
      "text/plain": [
       "{2: 0,\n",
       " 5: 10,\n",
       " 6: 17,\n",
       " 7: 36,\n",
       " 9: 54,\n",
       " 10: 64,\n",
       " 12: 77,\n",
       " 13: 87,\n",
       " 14: 114,\n",
       " 15: 121,\n",
       " 16: 126,\n",
       " 17: 149,\n",
       " 18: 169,\n",
       " 21: 190,\n",
       " 22: 201,\n",
       " 23: 221,\n",
       " 24: 242,\n",
       " 25: 246,\n",
       " 26: 265,\n",
       " 27: 276,\n",
       " 29: 282,\n",
       " 31: 305,\n",
       " 32: 328,\n",
       " 33: 335,\n",
       " 35: 343,\n",
       " 36: 346,\n",
       " 39: 351,\n",
       " 40: 357,\n",
       " 41: 362,\n",
       " 45: 365,\n",
       " 46: 374,\n",
       " 47: 376,\n",
       " 48: 384,\n",
       " 49: 407,\n",
       " 50: 423,\n",
       " 51: 432,\n",
       " 52: 470,\n",
       " 53: 474,\n",
       " 57: 479,\n",
       " 61: 491,\n",
       " 62: 499,\n",
       " 63: 509,\n",
       " 64: 518,\n",
       " 66: 522,\n",
       " 69: 527,\n",
       " 71: 532,\n",
       " 72: 545,\n",
       " 73: 560,\n",
       " 75: 568,\n",
       " 77: 579,\n",
       " 79: 586,\n",
       " 82: 596,\n",
       " 83: 609,\n",
       " 84: 619,\n",
       " 86: 625,\n",
       " 87: 631,\n",
       " 88: 643,\n",
       " 90: 657,\n",
       " 91: 675,\n",
       " 92: 684,\n",
       " 93: 725,\n",
       " 94: 729,\n",
       " 96: 735,\n",
       " 97: 752}"
      ]
     },
     "execution_count": 11,
     "metadata": {},
     "output_type": "execute_result"
    }
   ],
   "source": [
    "datas"
   ]
  },
  {
   "cell_type": "code",
   "execution_count": 12,
   "id": "4bf2ec12",
   "metadata": {},
   "outputs": [],
   "source": [
    "#with open(\"label_data_v3.json\", \"w\") as fp:\n",
    "#    json.dump(data, fp) "
   ]
  },
  {
   "cell_type": "code",
   "execution_count": 13,
   "id": "9f154eee",
   "metadata": {},
   "outputs": [],
   "source": [
    "#with open(\"label_data_v3.json\", \"r\") as fp:\n",
    "#    label_data = json.load(fp)"
   ]
  },
  {
   "cell_type": "code",
   "execution_count": 14,
   "id": "05680d1a",
   "metadata": {},
   "outputs": [],
   "source": [
    "#with open(\"image_data_v3.json\", \"w\") as fp:\n",
    "#    json.dump(datas, fp) "
   ]
  },
  {
   "cell_type": "code",
   "execution_count": 15,
   "id": "acff3b08",
   "metadata": {},
   "outputs": [],
   "source": [
    "#with open(\"image_data_v3.json\", \"r\") as fp:\n",
    "#    image_data = json.load(fp)"
   ]
  },
  {
   "cell_type": "code",
   "execution_count": 16,
   "id": "d9f39185",
   "metadata": {},
   "outputs": [
    {
     "data": {
      "text/plain": [
       "(64, 64)"
      ]
     },
     "execution_count": 16,
     "metadata": {},
     "output_type": "execute_result"
    }
   ],
   "source": [
    "len(label_data), len(image_data)"
   ]
  },
  {
   "cell_type": "code",
   "execution_count": 18,
   "id": "98de87ce",
   "metadata": {},
   "outputs": [
    {
     "data": {
      "text/plain": [
       "{'2': 0,\n",
       " '5': 10,\n",
       " '6': 17,\n",
       " '7': 36,\n",
       " '9': 54,\n",
       " '10': 64,\n",
       " '12': 77,\n",
       " '13': 87,\n",
       " '14': 114,\n",
       " '15': 121,\n",
       " '16': 126,\n",
       " '17': 149,\n",
       " '18': 169,\n",
       " '21': 190,\n",
       " '22': 201,\n",
       " '23': 221,\n",
       " '24': 242,\n",
       " '25': 246,\n",
       " '26': 265,\n",
       " '27': 276,\n",
       " '29': 282,\n",
       " '31': 305,\n",
       " '32': 328,\n",
       " '33': 335,\n",
       " '35': 343,\n",
       " '36': 346,\n",
       " '39': 351,\n",
       " '40': 357,\n",
       " '41': 362,\n",
       " '45': 365,\n",
       " '46': 374,\n",
       " '47': 376,\n",
       " '48': 384,\n",
       " '49': 407,\n",
       " '50': 423,\n",
       " '51': 432,\n",
       " '52': 470,\n",
       " '53': 474,\n",
       " '57': 479,\n",
       " '61': 491,\n",
       " '62': 499,\n",
       " '63': 509,\n",
       " '64': 518,\n",
       " '66': 522,\n",
       " '69': 527,\n",
       " '71': 532,\n",
       " '72': 545,\n",
       " '73': 560,\n",
       " '75': 568,\n",
       " '77': 579,\n",
       " '79': 586,\n",
       " '82': 596,\n",
       " '83': 609,\n",
       " '84': 619,\n",
       " '86': 625,\n",
       " '87': 631,\n",
       " '88': 643,\n",
       " '90': 657,\n",
       " '91': 675,\n",
       " '92': 684,\n",
       " '93': 725,\n",
       " '94': 729,\n",
       " '96': 735,\n",
       " '97': 752}"
      ]
     },
     "execution_count": 18,
     "metadata": {},
     "output_type": "execute_result"
    }
   ],
   "source": [
    "image_data"
   ]
  },
  {
   "cell_type": "code",
   "execution_count": 19,
   "id": "56ec9b4b",
   "metadata": {},
   "outputs": [
    {
     "data": {
      "text/plain": [
       "{'2': 0,\n",
       " '5': 10,\n",
       " '6': 17,\n",
       " '7': 36,\n",
       " '9': 54,\n",
       " '10': 64,\n",
       " '12': 77,\n",
       " '13': 87,\n",
       " '14': 114,\n",
       " '15': 121,\n",
       " '16': 126,\n",
       " '17': 149,\n",
       " '18': 169,\n",
       " '21': 190,\n",
       " '22': 201,\n",
       " '23': 221,\n",
       " '24': 242,\n",
       " '25': 246,\n",
       " '26': 265,\n",
       " '27': 276,\n",
       " '29': 282,\n",
       " '31': 305,\n",
       " '32': 328,\n",
       " '33': 335,\n",
       " '35': 343,\n",
       " '36': 346,\n",
       " '39': 351,\n",
       " '40': 357,\n",
       " '41': 362,\n",
       " '45': 365,\n",
       " '46': 374,\n",
       " '47': 376,\n",
       " '48': 384,\n",
       " '49': 407,\n",
       " '50': 423,\n",
       " '51': 432,\n",
       " '52': 470,\n",
       " '53': 474,\n",
       " '57': 479,\n",
       " '61': 491,\n",
       " '62': 499,\n",
       " '63': 509,\n",
       " '64': 518,\n",
       " '66': 522,\n",
       " '69': 527,\n",
       " '71': 532,\n",
       " '72': 545,\n",
       " '73': 560,\n",
       " '75': 568,\n",
       " '77': 579,\n",
       " '79': 586,\n",
       " '82': 596,\n",
       " '83': 609,\n",
       " '84': 619,\n",
       " '86': 625,\n",
       " '87': 631,\n",
       " '88': 643,\n",
       " '90': 657,\n",
       " '91': 675,\n",
       " '92': 684,\n",
       " '93': 725,\n",
       " '94': 729,\n",
       " '96': 735,\n",
       " '97': 752}"
      ]
     },
     "execution_count": 19,
     "metadata": {},
     "output_type": "execute_result"
    }
   ],
   "source": [
    "label_data"
   ]
  },
  {
   "cell_type": "code",
   "execution_count": 20,
   "id": "6b01ebd6",
   "metadata": {},
   "outputs": [],
   "source": [
    "a = np.zeros((len(all_slices), all_slices[0].shape[0], all_slices[0].shape[1]), dtype=all_slices[0].dtype)"
   ]
  },
  {
   "cell_type": "code",
   "execution_count": 21,
   "id": "9c323b85",
   "metadata": {},
   "outputs": [
    {
     "data": {
      "text/plain": [
       "766"
      ]
     },
     "execution_count": 21,
     "metadata": {},
     "output_type": "execute_result"
    }
   ],
   "source": [
    "len(all_slices)"
   ]
  },
  {
   "cell_type": "code",
   "execution_count": 22,
   "id": "1899f268",
   "metadata": {},
   "outputs": [
    {
     "data": {
      "text/plain": [
       "(766, 512, 512)"
      ]
     },
     "execution_count": 22,
     "metadata": {},
     "output_type": "execute_result"
    }
   ],
   "source": [
    "a.shape"
   ]
  },
  {
   "cell_type": "code",
   "execution_count": 23,
   "id": "05c89306",
   "metadata": {},
   "outputs": [],
   "source": [
    "for i, s in enumerate(all_slices):\n",
    "    a[i] = s"
   ]
  },
  {
   "cell_type": "code",
   "execution_count": 24,
   "id": "b72e175a",
   "metadata": {},
   "outputs": [],
   "source": [
    "#np.save(DATAPATH + 'labels.npy', a)"
   ]
  },
  {
   "cell_type": "code",
   "execution_count": null,
   "id": "e392882d",
   "metadata": {},
   "outputs": [],
   "source": []
  },
  {
   "cell_type": "code",
   "execution_count": 25,
   "id": "8607056d",
   "metadata": {},
   "outputs": [],
   "source": [
    "b = np.zeros((len(all_slice), all_slice[0].shape[0], all_slice[0].shape[1]), dtype=all_slice[0].dtype)"
   ]
  },
  {
   "cell_type": "code",
   "execution_count": 26,
   "id": "a5bc5299",
   "metadata": {},
   "outputs": [
    {
     "data": {
      "text/plain": [
       "766"
      ]
     },
     "execution_count": 26,
     "metadata": {},
     "output_type": "execute_result"
    }
   ],
   "source": [
    "len(all_slice)"
   ]
  },
  {
   "cell_type": "code",
   "execution_count": 27,
   "id": "b9a13498",
   "metadata": {},
   "outputs": [
    {
     "data": {
      "text/plain": [
       "(766, 512, 512)"
      ]
     },
     "execution_count": 27,
     "metadata": {},
     "output_type": "execute_result"
    }
   ],
   "source": [
    "b.shape"
   ]
  },
  {
   "cell_type": "code",
   "execution_count": 28,
   "id": "9466a967",
   "metadata": {},
   "outputs": [],
   "source": [
    "for i, s in enumerate(all_slice):\n",
    "    b[i] = s"
   ]
  },
  {
   "cell_type": "code",
   "execution_count": 29,
   "id": "e9a143e6",
   "metadata": {},
   "outputs": [],
   "source": [
    "#np.save(DATAPATH + 'images.npy', b)"
   ]
  },
  {
   "cell_type": "code",
   "execution_count": null,
   "id": "2622a6cf",
   "metadata": {},
   "outputs": [],
   "source": []
  }
 ],
 "metadata": {
  "kernelspec": {
   "display_name": "Python 3 (ipykernel)",
   "language": "python",
   "name": "python3"
  },
  "language_info": {
   "codemirror_mode": {
    "name": "ipython",
    "version": 3
   },
   "file_extension": ".py",
   "mimetype": "text/x-python",
   "name": "python",
   "nbconvert_exporter": "python",
   "pygments_lexer": "ipython3",
   "version": "3.9.7"
  }
 },
 "nbformat": 4,
 "nbformat_minor": 5
}
