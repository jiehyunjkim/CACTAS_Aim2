{
 "cells": [
  {
   "cell_type": "code",
   "execution_count": 1,
   "id": "47947e2d",
   "metadata": {},
   "outputs": [
    {
     "name": "stdout",
     "output_type": "stream",
     "text": [
      "Populating the interactive namespace from numpy and matplotlib\n"
     ]
    }
   ],
   "source": [
    "%pylab inline"
   ]
  },
  {
   "cell_type": "code",
   "execution_count": 2,
   "id": "cbc12529",
   "metadata": {},
   "outputs": [
    {
     "name": "stderr",
     "output_type": "stream",
     "text": [
      "2023-04-21 22:33:24.728902: I tensorflow/stream_executor/platform/default/dso_loader.cc:53] Successfully opened dynamic library libcudart.so.11.0\n",
      "/home/jiehyun.kim001/miniconda3/envs/O/lib/python3.9/site-packages/scipy/__init__.py:146: UserWarning: A NumPy version >=1.16.5 and <1.23.0 is required for this version of SciPy (detected version 1.23.4\n",
      "  warnings.warn(f\"A NumPy version >={np_minversion} and <{np_maxversion}\"\n"
     ]
    }
   ],
   "source": [
    "import tensorflow\n",
    "import keras\n",
    "from tensorflow.keras.applications import VGG19\n",
    "from tensorflow.keras.preprocessing.image import ImageDataGenerator\n",
    "import tensorflow.keras.layers as layers\n",
    "from sklearn.utils import shuffle\n",
    "from sklearn.model_selection import train_test_split\n",
    "from sklearn.ensemble import RandomForestClassifier\n",
    "import sklearn.metrics\n",
    "from scipy import stats"
   ]
  },
  {
   "cell_type": "code",
   "execution_count": 3,
   "id": "4f990e7e",
   "metadata": {},
   "outputs": [],
   "source": [
    "asymp = np.load('/raid/mpsych/CACTAS/DATA/ESUS/asymp_cropped_no_norm.npy')\n",
    "symp = np.load('/raid/mpsych/CACTAS/DATA/ESUS/symp_cropped_no_norm.npy')"
   ]
  },
  {
   "cell_type": "code",
   "execution_count": 4,
   "id": "00a2adce",
   "metadata": {},
   "outputs": [],
   "source": [
    "labels = np.array([0]*len(asymp) + [1]*len(symp))\n",
    "images = np.concatenate((asymp, symp))"
   ]
  },
  {
   "cell_type": "code",
   "execution_count": null,
   "id": "3ba6c12b",
   "metadata": {},
   "outputs": [],
   "source": []
  },
  {
   "cell_type": "code",
   "execution_count": 5,
   "id": "00dec944",
   "metadata": {},
   "outputs": [],
   "source": [
    "asymp_test = np.load('/raid/mpsych/CACTAS/DATA/ESUS/asymp_cropped.npy')\n",
    "symp_test = np.load('/raid/mpsych/CACTAS/DATA/ESUS/symp_cropped.npy')"
   ]
  },
  {
   "cell_type": "code",
   "execution_count": 6,
   "id": "bf986d54",
   "metadata": {},
   "outputs": [],
   "source": [
    "labels_test = np.array([0]*len(asymp_test) + [1]*len(symp_test))\n",
    "images_test = np.concatenate((asymp_test, symp_test))"
   ]
  },
  {
   "cell_type": "code",
   "execution_count": 7,
   "id": "2e54c52d",
   "metadata": {},
   "outputs": [],
   "source": [
    "X, y = shuffle(images_test, labels_test, random_state=0)"
   ]
  },
  {
   "cell_type": "code",
   "execution_count": 8,
   "id": "183efa45",
   "metadata": {},
   "outputs": [],
   "source": [
    "X_train, X_test, y_train, y_test = train_test_split(X, y, test_size=0.15, random_state=0)"
   ]
  },
  {
   "cell_type": "code",
   "execution_count": 9,
   "id": "6644d558",
   "metadata": {},
   "outputs": [],
   "source": [
    "train_data_gen = ImageDataGenerator(\n",
    "        rotation_range=5.,\n",
    "        width_shift_range=0.05,\n",
    "        height_shift_range=0.05,\n",
    "        shear_range=40,\n",
    "        zoom_range=0.2,\n",
    "        horizontal_flip=True,\n",
    "        vertical_flip=True,\n",
    "        fill_mode='constant'\n",
    "    )"
   ]
  },
  {
   "cell_type": "code",
   "execution_count": 10,
   "id": "a7e27c88",
   "metadata": {},
   "outputs": [],
   "source": [
    "test_data_gen = ImageDataGenerator()"
   ]
  },
  {
   "cell_type": "code",
   "execution_count": 11,
   "id": "65ed4934",
   "metadata": {},
   "outputs": [],
   "source": [
    "train = train_data_gen.flow(X_train, y_train)"
   ]
  },
  {
   "cell_type": "code",
   "execution_count": 12,
   "id": "cb6ac68a",
   "metadata": {},
   "outputs": [],
   "source": [
    "test = test_data_gen.flow(X_test, y_test)"
   ]
  },
  {
   "cell_type": "code",
   "execution_count": 13,
   "id": "c7d141de",
   "metadata": {},
   "outputs": [
    {
     "name": "stderr",
     "output_type": "stream",
     "text": [
      "2023-04-21 22:33:26.618659: I tensorflow/stream_executor/platform/default/dso_loader.cc:53] Successfully opened dynamic library libcuda.so.1\n",
      "2023-04-21 22:33:26.833240: I tensorflow/core/common_runtime/gpu/gpu_device.cc:1733] Found device 0 with properties: \n",
      "pciBusID: 0000:47:00.0 name: A100-SXM4-40GB computeCapability: 8.0\n",
      "coreClock: 1.41GHz coreCount: 108 deviceMemorySize: 39.59GiB deviceMemoryBandwidth: 1.41TiB/s\n",
      "2023-04-21 22:33:26.835866: I tensorflow/core/common_runtime/gpu/gpu_device.cc:1733] Found device 1 with properties: \n",
      "pciBusID: 0000:b7:00.0 name: A100-SXM4-40GB computeCapability: 8.0\n",
      "coreClock: 1.41GHz coreCount: 108 deviceMemorySize: 39.59GiB deviceMemoryBandwidth: 1.41TiB/s\n",
      "2023-04-21 22:33:26.835886: I tensorflow/stream_executor/platform/default/dso_loader.cc:53] Successfully opened dynamic library libcudart.so.11.0\n",
      "2023-04-21 22:33:26.839796: I tensorflow/stream_executor/platform/default/dso_loader.cc:53] Successfully opened dynamic library libcublas.so.11\n",
      "2023-04-21 22:33:26.839830: I tensorflow/stream_executor/platform/default/dso_loader.cc:53] Successfully opened dynamic library libcublasLt.so.11\n",
      "2023-04-21 22:33:26.840809: I tensorflow/stream_executor/platform/default/dso_loader.cc:53] Successfully opened dynamic library libcufft.so.10\n",
      "2023-04-21 22:33:26.841150: I tensorflow/stream_executor/platform/default/dso_loader.cc:53] Successfully opened dynamic library libcurand.so.10\n",
      "2023-04-21 22:33:26.841741: I tensorflow/stream_executor/platform/default/dso_loader.cc:53] Successfully opened dynamic library libcusolver.so.11\n",
      "2023-04-21 22:33:26.842610: I tensorflow/stream_executor/platform/default/dso_loader.cc:53] Successfully opened dynamic library libcusparse.so.11\n",
      "2023-04-21 22:33:26.842864: I tensorflow/stream_executor/platform/default/dso_loader.cc:53] Successfully opened dynamic library libcudnn.so.8\n",
      "2023-04-21 22:33:26.853232: I tensorflow/core/common_runtime/gpu/gpu_device.cc:1871] Adding visible gpu devices: 0, 1\n",
      "2023-04-21 22:33:26.854222: I tensorflow/core/platform/cpu_feature_guard.cc:142] This TensorFlow binary is optimized with oneAPI Deep Neural Network Library (oneDNN) to use the following CPU instructions in performance-critical operations:  AVX2 FMA\n",
      "To enable them in other operations, rebuild TensorFlow with the appropriate compiler flags.\n",
      "2023-04-21 22:33:27.087736: I tensorflow/core/common_runtime/gpu/gpu_device.cc:1733] Found device 0 with properties: \n",
      "pciBusID: 0000:47:00.0 name: A100-SXM4-40GB computeCapability: 8.0\n",
      "coreClock: 1.41GHz coreCount: 108 deviceMemorySize: 39.59GiB deviceMemoryBandwidth: 1.41TiB/s\n",
      "2023-04-21 22:33:27.090177: I tensorflow/core/common_runtime/gpu/gpu_device.cc:1733] Found device 1 with properties: \n",
      "pciBusID: 0000:b7:00.0 name: A100-SXM4-40GB computeCapability: 8.0\n",
      "coreClock: 1.41GHz coreCount: 108 deviceMemorySize: 39.59GiB deviceMemoryBandwidth: 1.41TiB/s\n",
      "2023-04-21 22:33:27.099993: I tensorflow/core/common_runtime/gpu/gpu_device.cc:1871] Adding visible gpu devices: 0, 1\n",
      "2023-04-21 22:33:27.100048: I tensorflow/stream_executor/platform/default/dso_loader.cc:53] Successfully opened dynamic library libcudart.so.11.0\n",
      "2023-04-21 22:33:27.867908: I tensorflow/core/common_runtime/gpu/gpu_device.cc:1258] Device interconnect StreamExecutor with strength 1 edge matrix:\n",
      "2023-04-21 22:33:27.867965: I tensorflow/core/common_runtime/gpu/gpu_device.cc:1264]      0 1 \n",
      "2023-04-21 22:33:27.867972: I tensorflow/core/common_runtime/gpu/gpu_device.cc:1277] 0:   N Y \n",
      "2023-04-21 22:33:27.867976: I tensorflow/core/common_runtime/gpu/gpu_device.cc:1277] 1:   Y N \n",
      "2023-04-21 22:33:27.883661: I tensorflow/core/common_runtime/gpu/gpu_device.cc:1418] Created TensorFlow device (/job:localhost/replica:0/task:0/device:GPU:0 with 38425 MB memory) -> physical GPU (device: 0, name: A100-SXM4-40GB, pci bus id: 0000:47:00.0, compute capability: 8.0)\n",
      "2023-04-21 22:33:27.886586: I tensorflow/core/common_runtime/gpu/gpu_device.cc:1418] Created TensorFlow device (/job:localhost/replica:0/task:0/device:GPU:1 with 38425 MB memory) -> physical GPU (device: 1, name: A100-SXM4-40GB, pci bus id: 0000:b7:00.0, compute capability: 8.0)\n"
     ]
    }
   ],
   "source": [
    "model = tensorflow.keras.Sequential()\n",
    "\n",
    "model.add(layers.Conv2D(filters=20, kernel_size=(5, 5), activation='relu', input_shape=(28,28,1)))\n",
    "model.add(layers.MaxPooling2D(pool_size=(2,2), strides=(2,2)))\n",
    "model.add(layers.Dropout(0.2))\n",
    "\n",
    "model.add(layers.Conv2D(filters=50, kernel_size=(5, 5), activation='relu'))\n",
    "model.add(layers.MaxPooling2D(pool_size=(2,2), strides=(2,2)))\n",
    "model.add(layers.Dropout(0.2))\n",
    "\n",
    "model.add(layers.Flatten())\n",
    "\n",
    "model.add(layers.Dense(units=256, activation='relu'))\n",
    "\n",
    "model.add(layers.Dropout(0.5))\n",
    "\n",
    "model.add(layers.Dense(units=1, activation = 'softmax'))  "
   ]
  },
  {
   "cell_type": "code",
   "execution_count": 14,
   "id": "f97220ba",
   "metadata": {},
   "outputs": [
    {
     "name": "stderr",
     "output_type": "stream",
     "text": [
      "/home/jiehyun.kim001/miniconda3/envs/O/lib/python3.9/site-packages/tensorflow/python/keras/optimizer_v2/optimizer_v2.py:374: UserWarning: The `lr` argument is deprecated, use `learning_rate` instead.\n",
      "  warnings.warn(\n"
     ]
    }
   ],
   "source": [
    "sgd = tensorflow.keras.optimizers.SGD(lr=0.001, decay=1e-6, momentum=0.9, nesterov=True)"
   ]
  },
  {
   "cell_type": "code",
   "execution_count": 15,
   "id": "843f8534",
   "metadata": {},
   "outputs": [],
   "source": [
    "model.compile(loss=tensorflow.keras.losses.binary_crossentropy,\n",
    "              optimizer=sgd,\n",
    "              metrics=['accuracy'])"
   ]
  },
  {
   "cell_type": "code",
   "execution_count": 16,
   "id": "fa459e3c",
   "metadata": {},
   "outputs": [],
   "source": [
    "batch_size = 32"
   ]
  },
  {
   "cell_type": "code",
   "execution_count": null,
   "id": "2a620e29",
   "metadata": {},
   "outputs": [],
   "source": [
    "model.fit_generator(train,steps_per_epoch=len(X_train) // batch_size, verbose=True, epochs=10)"
   ]
  },
  {
   "cell_type": "code",
   "execution_count": null,
   "id": "849031ad",
   "metadata": {},
   "outputs": [],
   "source": []
  },
  {
   "cell_type": "code",
   "execution_count": 17,
   "id": "1d14a611",
   "metadata": {},
   "outputs": [
    {
     "name": "stdout",
     "output_type": "stream",
     "text": [
      "run 0 acc 0.9084507042253521 f1 0.9115646258503401\n"
     ]
    },
    {
     "name": "stderr",
     "output_type": "stream",
     "text": [
      "/home/jiehyun.kim001/miniconda3/envs/O/lib/python3.9/site-packages/tensorflow/python/keras/engine/training.py:1940: UserWarning: `Model.fit_generator` is deprecated and will be removed in a future version. Please use `Model.fit`, which supports generators.\n",
      "  warnings.warn('`Model.fit_generator` is deprecated and '\n",
      "2023-04-21 22:33:30.524690: I tensorflow/compiler/mlir/mlir_graph_optimization_pass.cc:176] None of the MLIR Optimization Passes are enabled (registered 2)\n",
      "2023-04-21 22:33:30.526022: I tensorflow/core/platform/profile_utils/cpu_utils.cc:114] CPU Frequency: 2245645000 Hz\n",
      "2023-04-21 22:33:30.924924: I tensorflow/stream_executor/platform/default/dso_loader.cc:53] Successfully opened dynamic library libcudnn.so.8\n",
      "2023-04-21 22:33:31.899728: I tensorflow/stream_executor/cuda/cuda_dnn.cc:359] Loaded cuDNN version 8201\n",
      "2023-04-21 22:33:32.658781: W tensorflow/stream_executor/gpu/asm_compiler.cc:191] Falling back to the CUDA driver for PTX compilation; ptxas does not support CC 8.0\n",
      "2023-04-21 22:33:32.658809: W tensorflow/stream_executor/gpu/asm_compiler.cc:194] Used ptxas at ptxas\n",
      "2023-04-21 22:33:32.658876: W tensorflow/stream_executor/gpu/redzone_allocator.cc:314] Unimplemented: ptxas ptxas too old. Falling back to the driver to compile.\n",
      "Relying on driver to perform ptx compilation. \n",
      "Modify $PATH to customize ptxas location.\n",
      "This message will be only logged once.\n",
      "2023-04-21 22:33:32.681867: I tensorflow/stream_executor/platform/default/dso_loader.cc:53] Successfully opened dynamic library libcublas.so.11\n",
      "2023-04-21 22:33:33.484071: I tensorflow/stream_executor/platform/default/dso_loader.cc:53] Successfully opened dynamic library libcublasLt.so.11\n",
      "2023-04-21 22:33:33.505259: I tensorflow/stream_executor/cuda/cuda_blas.cc:1838] TensorFloat-32 will be used for the matrix multiplication. This will only be logged once.\n"
     ]
    },
    {
     "name": "stdout",
     "output_type": "stream",
     "text": [
      "35/39 [=========================>....] - ETA: 0s - loss: 0.6969 - accuracy: 0.5045WARNING:tensorflow:Your input ran out of data; interrupting training. Make sure that your dataset or generator can generate at least `steps_per_epoch * epochs` batches (in this case, 39 batches). You may need to use the repeat() function when building your dataset.\n",
      "39/39 [==============================] - 4s 10ms/step - loss: 0.6967 - accuracy: 0.4967\n",
      "test run 0 acc 0.5258215962441315 f1 0.6505190311418685\n",
      "run 1 acc 0.9295774647887324 f1 0.9315068493150684\n",
      "14/39 [=========>....................] - ETA: 0s - loss: 0.6993 - accuracy: 0.5223"
     ]
    },
    {
     "name": "stderr",
     "output_type": "stream",
     "text": [
      "/home/jiehyun.kim001/miniconda3/envs/O/lib/python3.9/site-packages/tensorflow/python/keras/engine/training.py:1940: UserWarning: `Model.fit_generator` is deprecated and will be removed in a future version. Please use `Model.fit`, which supports generators.\n",
      "  warnings.warn('`Model.fit_generator` is deprecated and '\n"
     ]
    },
    {
     "name": "stdout",
     "output_type": "stream",
     "text": [
      "35/39 [=========================>....] - ETA: 0s - loss: 0.6950 - accuracy: 0.5009WARNING:tensorflow:Your input ran out of data; interrupting training. Make sure that your dataset or generator can generate at least `steps_per_epoch * epochs` batches (in this case, 39 batches). You may need to use the repeat() function when building your dataset.\n",
      "39/39 [==============================] - 0s 8ms/step - loss: 0.6950 - accuracy: 0.4967\n",
      "test run 1 acc 0.5352112676056338 f1 0.6574394463667821\n",
      "run 2 acc 0.9154929577464789 f1 0.918918918918919\n",
      "14/39 [=========>....................] - ETA: 0s - loss: 0.6917 - accuracy: 0.5067"
     ]
    },
    {
     "name": "stderr",
     "output_type": "stream",
     "text": [
      "/home/jiehyun.kim001/miniconda3/envs/O/lib/python3.9/site-packages/tensorflow/python/keras/engine/training.py:1940: UserWarning: `Model.fit_generator` is deprecated and will be removed in a future version. Please use `Model.fit`, which supports generators.\n",
      "  warnings.warn('`Model.fit_generator` is deprecated and '\n"
     ]
    },
    {
     "name": "stdout",
     "output_type": "stream",
     "text": [
      "35/39 [=========================>....] - ETA: 0s - loss: 0.6935 - accuracy: 0.5009WARNING:tensorflow:Your input ran out of data; interrupting training. Make sure that your dataset or generator can generate at least `steps_per_epoch * epochs` batches (in this case, 39 batches). You may need to use the repeat() function when building your dataset.\n",
      "39/39 [==============================] - 0s 8ms/step - loss: 0.6933 - accuracy: 0.4967\n",
      "test run 2 acc 0.5211267605633803 f1 0.6506849315068493\n",
      "run 3 acc 0.9084507042253521 f1 0.9139072847682119\n",
      "14/39 [=========>....................] - ETA: 0s - loss: 0.6930 - accuracy: 0.4754"
     ]
    },
    {
     "name": "stderr",
     "output_type": "stream",
     "text": [
      "/home/jiehyun.kim001/miniconda3/envs/O/lib/python3.9/site-packages/tensorflow/python/keras/engine/training.py:1940: UserWarning: `Model.fit_generator` is deprecated and will be removed in a future version. Please use `Model.fit`, which supports generators.\n",
      "  warnings.warn('`Model.fit_generator` is deprecated and '\n"
     ]
    },
    {
     "name": "stdout",
     "output_type": "stream",
     "text": [
      "35/39 [=========================>....] - ETA: 0s - loss: 0.6925 - accuracy: 0.4982WARNING:tensorflow:Your input ran out of data; interrupting training. Make sure that your dataset or generator can generate at least `steps_per_epoch * epochs` batches (in this case, 39 batches). You may need to use the repeat() function when building your dataset.\n",
      "39/39 [==============================] - 0s 8ms/step - loss: 0.6929 - accuracy: 0.4967\n",
      "test run 3 acc 0.5023474178403756 f1 0.6369863013698631\n",
      "run 4 acc 0.9295774647887324 f1 0.9324324324324323\n",
      "14/39 [=========>....................] - ETA: 0s - loss: 0.6927 - accuracy: 0.4955"
     ]
    },
    {
     "name": "stderr",
     "output_type": "stream",
     "text": [
      "/home/jiehyun.kim001/miniconda3/envs/O/lib/python3.9/site-packages/tensorflow/python/keras/engine/training.py:1940: UserWarning: `Model.fit_generator` is deprecated and will be removed in a future version. Please use `Model.fit`, which supports generators.\n",
      "  warnings.warn('`Model.fit_generator` is deprecated and '\n"
     ]
    },
    {
     "name": "stdout",
     "output_type": "stream",
     "text": [
      "35/39 [=========================>....] - ETA: 0s - loss: 0.6921 - accuracy: 0.4946WARNING:tensorflow:Your input ran out of data; interrupting training. Make sure that your dataset or generator can generate at least `steps_per_epoch * epochs` batches (in this case, 39 batches). You may need to use the repeat() function when building your dataset.\n",
      "39/39 [==============================] - 0s 8ms/step - loss: 0.6925 - accuracy: 0.4967\n",
      "test run 4 acc 0.5023474178403756 f1 0.6442953020134228\n",
      "run 5 acc 0.9084507042253521 f1 0.912751677852349\n",
      "14/39 [=========>....................] - ETA: 0s - loss: 0.6941 - accuracy: 0.5067"
     ]
    },
    {
     "name": "stderr",
     "output_type": "stream",
     "text": [
      "/home/jiehyun.kim001/miniconda3/envs/O/lib/python3.9/site-packages/tensorflow/python/keras/engine/training.py:1940: UserWarning: `Model.fit_generator` is deprecated and will be removed in a future version. Please use `Model.fit`, which supports generators.\n",
      "  warnings.warn('`Model.fit_generator` is deprecated and '\n"
     ]
    },
    {
     "name": "stdout",
     "output_type": "stream",
     "text": [
      "35/39 [=========================>....] - ETA: 0s - loss: 0.6930 - accuracy: 0.5027WARNING:tensorflow:Your input ran out of data; interrupting training. Make sure that your dataset or generator can generate at least `steps_per_epoch * epochs` batches (in this case, 39 batches). You may need to use the repeat() function when building your dataset.\n",
      "39/39 [==============================] - 0s 8ms/step - loss: 0.6929 - accuracy: 0.4967\n",
      "test run 5 acc 0.5211267605633803 f1 0.6530612244897959\n",
      "run 6 acc 0.9154929577464789 f1 0.9210526315789473\n",
      "14/39 [=========>....................] - ETA: 0s - loss: 0.6938 - accuracy: 0.5156"
     ]
    },
    {
     "name": "stderr",
     "output_type": "stream",
     "text": [
      "/home/jiehyun.kim001/miniconda3/envs/O/lib/python3.9/site-packages/tensorflow/python/keras/engine/training.py:1940: UserWarning: `Model.fit_generator` is deprecated and will be removed in a future version. Please use `Model.fit`, which supports generators.\n",
      "  warnings.warn('`Model.fit_generator` is deprecated and '\n"
     ]
    },
    {
     "name": "stdout",
     "output_type": "stream",
     "text": [
      "35/39 [=========================>....] - ETA: 0s - loss: 0.6959 - accuracy: 0.5000WARNING:tensorflow:Your input ran out of data; interrupting training. Make sure that your dataset or generator can generate at least `steps_per_epoch * epochs` batches (in this case, 39 batches). You may need to use the repeat() function when building your dataset.\n",
      "39/39 [==============================] - 0s 8ms/step - loss: 0.6956 - accuracy: 0.4967\n",
      "test run 6 acc 0.5258215962441315 f1 0.6731391585760518\n",
      "run 7 acc 0.9295774647887324 f1 0.9324324324324323\n",
      "14/39 [=========>....................] - ETA: 0s - loss: 0.6915 - accuracy: 0.5092"
     ]
    },
    {
     "name": "stderr",
     "output_type": "stream",
     "text": [
      "/home/jiehyun.kim001/miniconda3/envs/O/lib/python3.9/site-packages/tensorflow/python/keras/engine/training.py:1940: UserWarning: `Model.fit_generator` is deprecated and will be removed in a future version. Please use `Model.fit`, which supports generators.\n",
      "  warnings.warn('`Model.fit_generator` is deprecated and '\n"
     ]
    },
    {
     "name": "stdout",
     "output_type": "stream",
     "text": [
      "35/39 [=========================>....] - ETA: 0s - loss: 0.6931 - accuracy: 0.4892WARNING:tensorflow:Your input ran out of data; interrupting training. Make sure that your dataset or generator can generate at least `steps_per_epoch * epochs` batches (in this case, 39 batches). You may need to use the repeat() function when building your dataset.\n",
      "39/39 [==============================] - 0s 8ms/step - loss: 0.6933 - accuracy: 0.4967\n",
      "test run 7 acc 0.5539906103286385 f1 0.6689895470383275\n",
      "run 8 acc 0.9366197183098591 f1 0.9395973154362416\n",
      "15/39 [==========>...................] - ETA: 0s - loss: 0.6912 - accuracy: 0.4936"
     ]
    },
    {
     "name": "stderr",
     "output_type": "stream",
     "text": [
      "/home/jiehyun.kim001/miniconda3/envs/O/lib/python3.9/site-packages/tensorflow/python/keras/engine/training.py:1940: UserWarning: `Model.fit_generator` is deprecated and will be removed in a future version. Please use `Model.fit`, which supports generators.\n",
      "  warnings.warn('`Model.fit_generator` is deprecated and '\n"
     ]
    },
    {
     "name": "stdout",
     "output_type": "stream",
     "text": [
      "36/39 [==========================>...] - ETA: 0s - loss: 0.6927 - accuracy: 0.4965WARNING:tensorflow:Your input ran out of data; interrupting training. Make sure that your dataset or generator can generate at least `steps_per_epoch * epochs` batches (in this case, 39 batches). You may need to use the repeat() function when building your dataset.\n",
      "39/39 [==============================] - 0s 8ms/step - loss: 0.6926 - accuracy: 0.4967\n",
      "test run 8 acc 0.539906103286385 f1 0.6597222222222222\n",
      "run 9 acc 0.9014084507042254 f1 0.9066666666666665\n",
      "14/39 [=========>....................] - ETA: 0s - loss: 0.6911 - accuracy: 0.4931"
     ]
    },
    {
     "name": "stderr",
     "output_type": "stream",
     "text": [
      "/home/jiehyun.kim001/miniconda3/envs/O/lib/python3.9/site-packages/tensorflow/python/keras/engine/training.py:1940: UserWarning: `Model.fit_generator` is deprecated and will be removed in a future version. Please use `Model.fit`, which supports generators.\n",
      "  warnings.warn('`Model.fit_generator` is deprecated and '\n"
     ]
    },
    {
     "name": "stdout",
     "output_type": "stream",
     "text": [
      "35/39 [=========================>....] - ETA: 0s - loss: 0.6937 - accuracy: 0.4982WARNING:tensorflow:Your input ran out of data; interrupting training. Make sure that your dataset or generator can generate at least `steps_per_epoch * epochs` batches (in this case, 39 batches). You may need to use the repeat() function when building your dataset.\n",
      "39/39 [==============================] - 0s 8ms/step - loss: 0.6933 - accuracy: 0.4967\n",
      "test run 9 acc 0.5070422535211268 f1 0.6416382252559727\n"
     ]
    }
   ],
   "source": [
    "train_f1 = []\n",
    "test_f1 = []\n",
    "for i in range(10):\n",
    "    X, y = shuffle(images, labels, random_state=0)\n",
    "    X_train, X_val, y_train, y_val = train_test_split(X, y, test_size=0.10, random_state=0)\n",
    "    rf = RandomForestClassifier(n_estimators=100)\n",
    "    \n",
    "    X_train_raveled = X_train.reshape(X_train.shape[0], X_train.shape[1]*X_train.shape[2])\n",
    "    X_val_raveled = X_val.reshape(X_val.shape[0], X_val.shape[1]*X_val.shape[2])\n",
    "\n",
    "    fitted = rf.fit(X_train_raveled, y_train)\n",
    "    \n",
    "    y_pred = rf.predict(X_val_raveled)\n",
    "    \n",
    "    \n",
    "    f1 = sklearn.metrics.f1_score(y_val, y_pred)\n",
    "    train_f1.append(f1)\n",
    "    print('run', i, 'acc', sklearn.metrics.accuracy_score(y_val, y_pred), 'f1', f1)\n",
    "    \n",
    "    \n",
    "    \n",
    "    \n",
    "    \n",
    "    model.fit_generator(train,steps_per_epoch=len(X_train) // batch_size, verbose=True, epochs=100)\n",
    "\n",
    "    \n",
    "    X_train_raveled = X_train.reshape(X_train.shape[0], X_train.shape[1]*X_train.shape[2])\n",
    "    X_test_raveled = X_test.reshape(X_test.shape[0], X_test.shape[1]*X_test.shape[2])\n",
    "\n",
    "    rf.fit(X_train_raveled, y_train)\n",
    "    y_pred = rf.predict(X_test_raveled)\n",
    "    \n",
    "    test_acc = sklearn.metrics.accuracy_score(y_test, y_pred)\n",
    "    c_test_f1 = sklearn.metrics.f1_score(y_test, y_pred)\n",
    "    print('test run', i, 'acc', test_acc, 'f1', c_test_f1)\n",
    "    \n",
    "    test_f1.append(c_test_f1)\n",
    "    "
   ]
  },
  {
   "cell_type": "code",
   "execution_count": null,
   "id": "a35a42ce",
   "metadata": {},
   "outputs": [],
   "source": []
  },
  {
   "cell_type": "code",
   "execution_count": 18,
   "id": "daa6da58",
   "metadata": {},
   "outputs": [],
   "source": [
    "def boxplot(all_data, labels, y_label='Time [s]', y_lim_min=0, y_lim=1000, title=None, outputdir='/home/jiehyun.kim001/CACTAS/_EXPERIMENTS/'):\n",
    "    matplotlib.rcParams.update({'font.size': 32})\n",
    "    plt.rc('axes', labelsize=65)    # fontsize of the x and y labels\n",
    "    plt.rc('legend', fontsize=32)   \n",
    "    plt.rc('xtick', labelsize=42) \n",
    "\n",
    "    # fig, (ax1, ax2) = plt.subplots(nrows=1, ncols=1, figsize=(9, 4))\n",
    "    fig = plt.figure(figsize=(7, 13))\n",
    "    ax = fig.gca()\n",
    "    # ax1 = plt.gcf()\n",
    "    boxprops = dict(color=\"black\",linewidth=1.5)\n",
    "    medianprops = dict(color=\"black\",linewidth=1.5)\n",
    "    # rectangular box plot\n",
    "    bplot1 = plt.boxplot(all_data,\n",
    "                         vert=True,  # vertical box alignment\n",
    "                         patch_artist=True,  # fill with color\n",
    "                         labels=labels,\n",
    "                         boxprops=boxprops,\n",
    "                         medianprops=medianprops)  # will be used to label x-ticks\n",
    "\n",
    "    # fill with colors\n",
    "    colors = ['#af8dc3', '#7fbf7b']\n",
    "    # for bplot in (bplot1, bplot2):\n",
    "    for patch, color in zip(bplot1['boxes'], colors):\n",
    "        patch.set_facecolor(color)\n",
    "\n",
    "    ax.set_ylabel(y_label)\n",
    "    ax.set_ylim(y_lim_min,y_lim)\n",
    "\n",
    "    titleb = title\n",
    "    if not title:\n",
    "        titleb = 'figure.pdf'\n",
    "\n",
    "\n",
    "\n",
    "    filename_pdf = outputdir+'/'+titleb.replace(' ','_').replace(',','')+'.pdf'\n",
    "    filename_png = outputdir+'/'+titleb.replace(' ','_').replace(',','')+'.png'\n",
    "    plt.savefig(filename_pdf,bbox_inches='tight')\n",
    "    plt.savefig(filename_png,bbox_inches='tight')\n",
    "\n",
    "    if title:\n",
    "        plt.title(title)\n",
    "\n",
    "\n",
    "    plt.show()\n",
    "\n",
    "\n",
    "\n",
    "    print(labels[0], np.mean(all_data[0]),'+/-', np.std(all_data[0]))\n",
    "    print(labels[1], np.mean(all_data[1]),'+/-', np.std(all_data[1]))\n",
    "\n",
    "    ttest = stats.ttest_ind(all_data[0],all_data[1])\n",
    "\n",
    "    print('t_'+str(len(all_data[0]+all_data[1])), '=', str(round(ttest[0],3)), ',p=',str(round(ttest[1],2)))"
   ]
  },
  {
   "cell_type": "code",
   "execution_count": 19,
   "id": "223798c1",
   "metadata": {},
   "outputs": [
    {
     "data": {
      "image/png": "[encoded data removed]",
      "text/plain": [
       "<Figure size 504x936 with 1 Axes>"
      ]
     },
     "metadata": {
      "needs_background": "light"
     },
     "output_type": "display_data"
    },
    {
     "name": "stdout",
     "output_type": "stream",
     "text": [
      "Train 0.9220830835251608 +/- 0.010597500522917937\n",
      "Test 0.6536475389981156 +/- 0.010930571549463683\n",
      "t_20 = 52.896 ,p= 0.0\n"
     ]
    }
   ],
   "source": [
    "data = [train_f1, test_f1]\n",
    "labels = ['Train', 'Test']\n",
    "boxplot(data, labels, y_lim=1, y_label='F1 Score', outputdir='/home/jiehyun.kim001/CACTAS/_EXPERIMENTS/')"
   ]
  },
  {
   "cell_type": "code",
   "execution_count": null,
   "id": "cfb1c0f5",
   "metadata": {},
   "outputs": [],
   "source": []
  }
 ],
 "metadata": {
  "kernelspec": {
   "display_name": "Python 3 (ipykernel)",
   "language": "python",
   "name": "python3"
  },
  "language_info": {
   "codemirror_mode": {
    "name": "ipython",
    "version": 3
   },
   "file_extension": ".py",
   "mimetype": "text/x-python",
   "name": "python",
   "nbconvert_exporter": "python",
   "pygments_lexer": "ipython3",
   "version": "3.9.7"
  }
 },
 "nbformat": 4,
 "nbformat_minor": 5
}
