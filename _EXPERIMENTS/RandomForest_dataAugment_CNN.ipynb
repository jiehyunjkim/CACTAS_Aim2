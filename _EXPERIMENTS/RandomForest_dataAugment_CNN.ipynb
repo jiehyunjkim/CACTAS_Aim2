{
 "cells": [
  {
   "cell_type": "code",
   "execution_count": 1,
   "id": "47947e2d",
   "metadata": {},
   "outputs": [
    {
     "name": "stdout",
     "output_type": "stream",
     "text": [
      "Populating the interactive namespace from numpy and matplotlib\n"
     ]
    }
   ],
   "source": [
    "%pylab inline"
   ]
  },
  {
   "cell_type": "code",
   "execution_count": 2,
   "id": "cbc12529",
   "metadata": {},
   "outputs": [
    {
     "name": "stderr",
     "output_type": "stream",
     "text": [
      "2023-04-20 22:07:54.926261: I tensorflow/stream_executor/platform/default/dso_loader.cc:53] Successfully opened dynamic library libcudart.so.11.0\n",
      "/home/jiehyun.kim001/miniconda3/envs/O/lib/python3.9/site-packages/scipy/__init__.py:146: UserWarning: A NumPy version >=1.16.5 and <1.23.0 is required for this version of SciPy (detected version 1.23.4\n",
      "  warnings.warn(f\"A NumPy version >={np_minversion} and <{np_maxversion}\"\n"
     ]
    }
   ],
   "source": [
    "import tensorflow\n",
    "import keras\n",
    "from tensorflow.keras.applications import VGG19\n",
    "from tensorflow.keras.preprocessing.image import ImageDataGenerator\n",
    "import tensorflow.keras.layers as layers\n",
    "from sklearn.utils import shuffle\n",
    "from sklearn.model_selection import train_test_split"
   ]
  },
  {
   "cell_type": "code",
   "execution_count": 3,
   "id": "4f990e7e",
   "metadata": {},
   "outputs": [],
   "source": [
    "asymp = np.load('/raid/mpsych/CACTAS/DATA/ESUS/asymp_cropped.npy')\n",
    "symp = np.load('/raid/mpsych/CACTAS/DATA/ESUS/symp_cropped.npy')"
   ]
  },
  {
   "cell_type": "code",
   "execution_count": 4,
   "id": "00a2adce",
   "metadata": {},
   "outputs": [],
   "source": [
    "labels = np.array([0]*len(asymp) + [1]*len(symp))\n",
    "images = np.concatenate((asymp, symp))"
   ]
  },
  {
   "cell_type": "code",
   "execution_count": 5,
   "id": "e1c659e6",
   "metadata": {},
   "outputs": [],
   "source": [
    "X, y = shuffle(images, labels, random_state=0)"
   ]
  },
  {
   "cell_type": "code",
   "execution_count": 6,
   "id": "deff4152",
   "metadata": {},
   "outputs": [],
   "source": [
    "X_train, X_test, y_train, y_test = train_test_split(X, y, test_size=0.15, random_state=0)"
   ]
  },
  {
   "cell_type": "code",
   "execution_count": 7,
   "id": "d35c8ba6",
   "metadata": {},
   "outputs": [],
   "source": [
    "train_data_gen = ImageDataGenerator(\n",
    "        rotation_range=5.,\n",
    "        width_shift_range=0.05,\n",
    "        height_shift_range=0.05,\n",
    "        shear_range=40,\n",
    "        zoom_range=0.2,\n",
    "        horizontal_flip=True,\n",
    "        vertical_flip=True,\n",
    "        fill_mode='constant'\n",
    "    )"
   ]
  },
  {
   "cell_type": "code",
   "execution_count": 8,
   "id": "4d5426b0",
   "metadata": {},
   "outputs": [],
   "source": [
    "test_data_gen = ImageDataGenerator()"
   ]
  },
  {
   "cell_type": "code",
   "execution_count": 9,
   "id": "e7c70431",
   "metadata": {},
   "outputs": [],
   "source": [
    "train = train_data_gen.flow(X_train, y_train)"
   ]
  },
  {
   "cell_type": "code",
   "execution_count": 10,
   "id": "0175a7f4",
   "metadata": {},
   "outputs": [],
   "source": [
    "test = test_data_gen.flow(X_test, y_test)"
   ]
  },
  {
   "cell_type": "code",
   "execution_count": 11,
   "id": "884871e6",
   "metadata": {},
   "outputs": [
    {
     "name": "stderr",
     "output_type": "stream",
     "text": [
      "2023-04-20 22:07:56.613617: I tensorflow/stream_executor/platform/default/dso_loader.cc:53] Successfully opened dynamic library libcuda.so.1\n",
      "2023-04-20 22:07:56.806210: I tensorflow/core/common_runtime/gpu/gpu_device.cc:1733] Found device 0 with properties: \n",
      "pciBusID: 0000:47:00.0 name: A100-SXM4-40GB computeCapability: 8.0\n",
      "coreClock: 1.41GHz coreCount: 108 deviceMemorySize: 39.59GiB deviceMemoryBandwidth: 1.41TiB/s\n",
      "2023-04-20 22:07:56.809006: I tensorflow/core/common_runtime/gpu/gpu_device.cc:1733] Found device 1 with properties: \n",
      "pciBusID: 0000:b7:00.0 name: A100-SXM4-40GB computeCapability: 8.0\n",
      "coreClock: 1.41GHz coreCount: 108 deviceMemorySize: 39.59GiB deviceMemoryBandwidth: 1.41TiB/s\n",
      "2023-04-20 22:07:56.809024: I tensorflow/stream_executor/platform/default/dso_loader.cc:53] Successfully opened dynamic library libcudart.so.11.0\n",
      "2023-04-20 22:07:56.812468: I tensorflow/stream_executor/platform/default/dso_loader.cc:53] Successfully opened dynamic library libcublas.so.11\n",
      "2023-04-20 22:07:56.812501: I tensorflow/stream_executor/platform/default/dso_loader.cc:53] Successfully opened dynamic library libcublasLt.so.11\n",
      "2023-04-20 22:07:56.813411: I tensorflow/stream_executor/platform/default/dso_loader.cc:53] Successfully opened dynamic library libcufft.so.10\n",
      "2023-04-20 22:07:56.813940: I tensorflow/stream_executor/platform/default/dso_loader.cc:53] Successfully opened dynamic library libcurand.so.10\n",
      "2023-04-20 22:07:56.814472: I tensorflow/stream_executor/platform/default/dso_loader.cc:53] Successfully opened dynamic library libcusolver.so.11\n",
      "2023-04-20 22:07:56.815291: I tensorflow/stream_executor/platform/default/dso_loader.cc:53] Successfully opened dynamic library libcusparse.so.11\n",
      "2023-04-20 22:07:56.815533: I tensorflow/stream_executor/platform/default/dso_loader.cc:53] Successfully opened dynamic library libcudnn.so.8\n",
      "2023-04-20 22:07:56.825979: I tensorflow/core/common_runtime/gpu/gpu_device.cc:1871] Adding visible gpu devices: 0, 1\n",
      "2023-04-20 22:07:56.826754: I tensorflow/core/platform/cpu_feature_guard.cc:142] This TensorFlow binary is optimized with oneAPI Deep Neural Network Library (oneDNN) to use the following CPU instructions in performance-critical operations:  AVX2 FMA\n",
      "To enable them in other operations, rebuild TensorFlow with the appropriate compiler flags.\n",
      "2023-04-20 22:07:57.044453: I tensorflow/core/common_runtime/gpu/gpu_device.cc:1733] Found device 0 with properties: \n",
      "pciBusID: 0000:47:00.0 name: A100-SXM4-40GB computeCapability: 8.0\n",
      "coreClock: 1.41GHz coreCount: 108 deviceMemorySize: 39.59GiB deviceMemoryBandwidth: 1.41TiB/s\n",
      "2023-04-20 22:07:57.046928: I tensorflow/core/common_runtime/gpu/gpu_device.cc:1733] Found device 1 with properties: \n",
      "pciBusID: 0000:b7:00.0 name: A100-SXM4-40GB computeCapability: 8.0\n",
      "coreClock: 1.41GHz coreCount: 108 deviceMemorySize: 39.59GiB deviceMemoryBandwidth: 1.41TiB/s\n",
      "2023-04-20 22:07:57.056948: I tensorflow/core/common_runtime/gpu/gpu_device.cc:1871] Adding visible gpu devices: 0, 1\n",
      "2023-04-20 22:07:57.056998: I tensorflow/stream_executor/platform/default/dso_loader.cc:53] Successfully opened dynamic library libcudart.so.11.0\n",
      "2023-04-20 22:07:57.788605: I tensorflow/core/common_runtime/gpu/gpu_device.cc:1258] Device interconnect StreamExecutor with strength 1 edge matrix:\n",
      "2023-04-20 22:07:57.788666: I tensorflow/core/common_runtime/gpu/gpu_device.cc:1264]      0 1 \n",
      "2023-04-20 22:07:57.788673: I tensorflow/core/common_runtime/gpu/gpu_device.cc:1277] 0:   N Y \n",
      "2023-04-20 22:07:57.788677: I tensorflow/core/common_runtime/gpu/gpu_device.cc:1277] 1:   Y N \n",
      "2023-04-20 22:07:57.801511: I tensorflow/core/common_runtime/gpu/gpu_device.cc:1418] Created TensorFlow device (/job:localhost/replica:0/task:0/device:GPU:0 with 38425 MB memory) -> physical GPU (device: 0, name: A100-SXM4-40GB, pci bus id: 0000:47:00.0, compute capability: 8.0)\n",
      "2023-04-20 22:07:57.804260: I tensorflow/core/common_runtime/gpu/gpu_device.cc:1418] Created TensorFlow device (/job:localhost/replica:0/task:0/device:GPU:1 with 38425 MB memory) -> physical GPU (device: 1, name: A100-SXM4-40GB, pci bus id: 0000:b7:00.0, compute capability: 8.0)\n"
     ]
    }
   ],
   "source": [
    "model = tensorflow.keras.Sequential()\n",
    "\n",
    "model.add(layers.Conv2D(filters=20, kernel_size=(5, 5), activation='relu', input_shape=(28,28,1)))\n",
    "model.add(layers.MaxPooling2D(pool_size=(2,2), strides=(2,2)))\n",
    "model.add(layers.Dropout(0.2))\n",
    "\n",
    "model.add(layers.Conv2D(filters=50, kernel_size=(5, 5), activation='relu'))\n",
    "model.add(layers.MaxPooling2D(pool_size=(2,2), strides=(2,2)))\n",
    "model.add(layers.Dropout(0.2))\n",
    "\n",
    "model.add(layers.Flatten())\n",
    "\n",
    "model.add(layers.Dense(units=256, activation='relu'))\n",
    "\n",
    "model.add(layers.Dropout(0.5))\n",
    "\n",
    "model.add(layers.Dense(units=1, activation = 'softmax'))  "
   ]
  },
  {
   "cell_type": "code",
   "execution_count": 12,
   "id": "56c1ad9e",
   "metadata": {},
   "outputs": [
    {
     "name": "stdout",
     "output_type": "stream",
     "text": [
      "Model: \"sequential\"\n",
      "_________________________________________________________________\n",
      "Layer (type)                 Output Shape              Param #   \n",
      "=================================================================\n",
      "conv2d (Conv2D)              (None, 24, 24, 20)        520       \n",
      "_________________________________________________________________\n",
      "max_pooling2d (MaxPooling2D) (None, 12, 12, 20)        0         \n",
      "_________________________________________________________________\n",
      "dropout (Dropout)            (None, 12, 12, 20)        0         \n",
      "_________________________________________________________________\n",
      "conv2d_1 (Conv2D)            (None, 8, 8, 50)          25050     \n",
      "_________________________________________________________________\n",
      "max_pooling2d_1 (MaxPooling2 (None, 4, 4, 50)          0         \n",
      "_________________________________________________________________\n",
      "dropout_1 (Dropout)          (None, 4, 4, 50)          0         \n",
      "_________________________________________________________________\n",
      "flatten (Flatten)            (None, 800)               0         \n",
      "_________________________________________________________________\n",
      "dense (Dense)                (None, 256)               205056    \n",
      "_________________________________________________________________\n",
      "dropout_2 (Dropout)          (None, 256)               0         \n",
      "_________________________________________________________________\n",
      "dense_1 (Dense)              (None, 1)                 257       \n",
      "=================================================================\n",
      "Total params: 230,883\n",
      "Trainable params: 230,883\n",
      "Non-trainable params: 0\n",
      "_________________________________________________________________\n"
     ]
    }
   ],
   "source": [
    "model.summary()"
   ]
  },
  {
   "cell_type": "code",
   "execution_count": 13,
   "id": "f5b86558",
   "metadata": {},
   "outputs": [
    {
     "name": "stderr",
     "output_type": "stream",
     "text": [
      "/home/jiehyun.kim001/miniconda3/envs/O/lib/python3.9/site-packages/tensorflow/python/keras/optimizer_v2/optimizer_v2.py:374: UserWarning: The `lr` argument is deprecated, use `learning_rate` instead.\n",
      "  warnings.warn(\n"
     ]
    }
   ],
   "source": [
    "sgd = tensorflow.keras.optimizers.SGD(lr=0.001, decay=1e-6, momentum=0.9, nesterov=True)"
   ]
  },
  {
   "cell_type": "code",
   "execution_count": 14,
   "id": "d72fbfa5",
   "metadata": {},
   "outputs": [],
   "source": [
    "model.compile(loss=tensorflow.keras.losses.binary_crossentropy,\n",
    "              optimizer=sgd,\n",
    "              metrics=['accuracy'])"
   ]
  },
  {
   "cell_type": "code",
   "execution_count": 15,
   "id": "f8f3c13d",
   "metadata": {},
   "outputs": [],
   "source": [
    "batch_size = 32"
   ]
  },
  {
   "cell_type": "code",
   "execution_count": 16,
   "id": "99441a79",
   "metadata": {},
   "outputs": [
    {
     "name": "stderr",
     "output_type": "stream",
     "text": [
      "2023-04-20 22:07:58.499441: I tensorflow/compiler/mlir/mlir_graph_optimization_pass.cc:176] None of the MLIR Optimization Passes are enabled (registered 2)\n",
      "2023-04-20 22:07:58.517172: I tensorflow/core/platform/profile_utils/cpu_utils.cc:114] CPU Frequency: 2245645000 Hz\n"
     ]
    },
    {
     "name": "stdout",
     "output_type": "stream",
     "text": [
      "Epoch 1/100\n"
     ]
    },
    {
     "name": "stderr",
     "output_type": "stream",
     "text": [
      "2023-04-20 22:07:58.882773: I tensorflow/stream_executor/platform/default/dso_loader.cc:53] Successfully opened dynamic library libcudnn.so.8\n",
      "2023-04-20 22:07:59.503246: I tensorflow/stream_executor/cuda/cuda_dnn.cc:359] Loaded cuDNN version 8201\n",
      "2023-04-20 22:08:00.125794: W tensorflow/stream_executor/gpu/asm_compiler.cc:191] Falling back to the CUDA driver for PTX compilation; ptxas does not support CC 8.0\n",
      "2023-04-20 22:08:00.125818: W tensorflow/stream_executor/gpu/asm_compiler.cc:194] Used ptxas at ptxas\n",
      "2023-04-20 22:08:00.125882: W tensorflow/stream_executor/gpu/redzone_allocator.cc:314] Unimplemented: ptxas ptxas too old. Falling back to the driver to compile.\n",
      "Relying on driver to perform ptx compilation. \n",
      "Modify $PATH to customize ptxas location.\n",
      "This message will be only logged once.\n",
      "2023-04-20 22:08:00.146658: I tensorflow/stream_executor/platform/default/dso_loader.cc:53] Successfully opened dynamic library libcublas.so.11\n",
      "2023-04-20 22:08:00.976609: I tensorflow/stream_executor/platform/default/dso_loader.cc:53] Successfully opened dynamic library libcublasLt.so.11\n",
      "2023-04-20 22:08:00.998804: I tensorflow/stream_executor/cuda/cuda_blas.cc:1838] TensorFloat-32 will be used for the matrix multiplication. This will only be logged once.\n"
     ]
    },
    {
     "name": "stdout",
     "output_type": "stream",
     "text": [
      "2/2 [==============================] - 4s 292ms/step - loss: 0.7004 - accuracy: 0.4750 - val_loss: 0.6930 - val_accuracy: 0.5000\n",
      "Epoch 2/100\n",
      "2/2 [==============================] - 0s 31ms/step - loss: 0.7096 - accuracy: 0.4750 - val_loss: 0.6926 - val_accuracy: 0.5000\n",
      "Epoch 3/100\n",
      "2/2 [==============================] - 0s 33ms/step - loss: 0.7007 - accuracy: 0.4750 - val_loss: 0.6920 - val_accuracy: 0.5000\n",
      "Epoch 4/100\n",
      "2/2 [==============================] - 0s 30ms/step - loss: 0.6935 - accuracy: 0.4750 - val_loss: 0.6915 - val_accuracy: 0.5000\n",
      "Epoch 5/100\n",
      "2/2 [==============================] - 0s 30ms/step - loss: 0.6933 - accuracy: 0.4750 - val_loss: 0.6911 - val_accuracy: 0.5000\n",
      "Epoch 6/100\n",
      "2/2 [==============================] - 0s 30ms/step - loss: 0.6918 - accuracy: 0.4750 - val_loss: 0.6908 - val_accuracy: 0.5000\n",
      "Epoch 7/100\n",
      "2/2 [==============================] - 0s 39ms/step - loss: 0.6974 - accuracy: 0.4750 - val_loss: 0.6906 - val_accuracy: 0.5000\n",
      "Epoch 8/100\n",
      "2/2 [==============================] - 0s 23ms/step - loss: 0.6906 - accuracy: 0.4750 - val_loss: 0.6902 - val_accuracy: 0.5000\n",
      "Epoch 9/100\n",
      "2/2 [==============================] - 0s 66ms/step - loss: 0.6816 - accuracy: 0.4750 - val_loss: 0.6898 - val_accuracy: 0.5000\n",
      "Epoch 10/100\n",
      "2/2 [==============================] - 0s 30ms/step - loss: 0.6939 - accuracy: 0.4750 - val_loss: 0.6896 - val_accuracy: 0.5000\n",
      "Epoch 11/100\n",
      "2/2 [==============================] - 0s 31ms/step - loss: 0.6916 - accuracy: 0.4750 - val_loss: 0.6890 - val_accuracy: 0.5000\n",
      "Epoch 12/100\n",
      "2/2 [==============================] - 0s 29ms/step - loss: 0.7056 - accuracy: 0.4750 - val_loss: 0.6885 - val_accuracy: 0.5000\n",
      "Epoch 13/100\n",
      "2/2 [==============================] - 0s 31ms/step - loss: 0.7023 - accuracy: 0.4750 - val_loss: 0.6879 - val_accuracy: 0.5000\n",
      "Epoch 14/100\n",
      "2/2 [==============================] - 0s 30ms/step - loss: 0.7061 - accuracy: 0.4750 - val_loss: 0.6872 - val_accuracy: 0.5000\n",
      "Epoch 15/100\n",
      "2/2 [==============================] - 0s 33ms/step - loss: 0.6944 - accuracy: 0.4750 - val_loss: 0.6867 - val_accuracy: 0.5000\n",
      "Epoch 16/100\n",
      "2/2 [==============================] - 0s 30ms/step - loss: 0.7098 - accuracy: 0.4750 - val_loss: 0.6861 - val_accuracy: 0.5000\n",
      "Epoch 17/100\n",
      "2/2 [==============================] - 0s 31ms/step - loss: 0.6821 - accuracy: 0.4750 - val_loss: 0.6856 - val_accuracy: 0.5000\n",
      "Epoch 18/100\n",
      "2/2 [==============================] - 0s 22ms/step - loss: 0.6906 - accuracy: 0.4750 - val_loss: 0.6852 - val_accuracy: 0.5000\n",
      "Epoch 19/100\n",
      "2/2 [==============================] - 0s 68ms/step - loss: 0.7104 - accuracy: 0.4750 - val_loss: 0.6849 - val_accuracy: 0.5000\n",
      "Epoch 20/100\n",
      "2/2 [==============================] - 0s 34ms/step - loss: 0.6886 - accuracy: 0.4750 - val_loss: 0.6846 - val_accuracy: 0.5000\n",
      "Epoch 21/100\n",
      "2/2 [==============================] - 0s 31ms/step - loss: 0.6856 - accuracy: 0.4750 - val_loss: 0.6844 - val_accuracy: 0.5000\n",
      "Epoch 22/100\n",
      "2/2 [==============================] - 0s 30ms/step - loss: 0.6912 - accuracy: 0.4750 - val_loss: 0.6843 - val_accuracy: 0.5000\n",
      "Epoch 23/100\n",
      "2/2 [==============================] - 0s 30ms/step - loss: 0.6986 - accuracy: 0.4750 - val_loss: 0.6842 - val_accuracy: 0.5000\n",
      "Epoch 24/100\n",
      "2/2 [==============================] - 0s 31ms/step - loss: 0.6845 - accuracy: 0.4750 - val_loss: 0.6841 - val_accuracy: 0.5000\n",
      "Epoch 25/100\n",
      "2/2 [==============================] - 0s 31ms/step - loss: 0.6891 - accuracy: 0.4750 - val_loss: 0.6839 - val_accuracy: 0.5000\n",
      "Epoch 26/100\n",
      "2/2 [==============================] - 0s 30ms/step - loss: 0.6864 - accuracy: 0.4750 - val_loss: 0.6837 - val_accuracy: 0.5000\n",
      "Epoch 27/100\n",
      "2/2 [==============================] - 0s 32ms/step - loss: 0.7103 - accuracy: 0.4750 - val_loss: 0.6835 - val_accuracy: 0.5000\n",
      "Epoch 28/100\n",
      "2/2 [==============================] - 0s 23ms/step - loss: 0.6948 - accuracy: 0.4750 - val_loss: 0.6833 - val_accuracy: 0.5000\n",
      "Epoch 29/100\n",
      "2/2 [==============================] - 0s 23ms/step - loss: 0.6863 - accuracy: 0.4750 - val_loss: 0.6831 - val_accuracy: 0.5000\n",
      "Epoch 30/100\n",
      "2/2 [==============================] - 0s 23ms/step - loss: 0.6888 - accuracy: 0.4750 - val_loss: 0.6829 - val_accuracy: 0.5000\n",
      "Epoch 31/100\n",
      "2/2 [==============================] - 0s 23ms/step - loss: 0.6807 - accuracy: 0.4750 - val_loss: 0.6828 - val_accuracy: 0.5000\n",
      "Epoch 32/100\n",
      "2/2 [==============================] - 0s 23ms/step - loss: 0.6903 - accuracy: 0.4750 - val_loss: 0.6826 - val_accuracy: 0.5000\n",
      "Epoch 33/100\n",
      "2/2 [==============================] - 0s 23ms/step - loss: 0.6866 - accuracy: 0.4750 - val_loss: 0.6825 - val_accuracy: 0.5000\n",
      "Epoch 34/100\n",
      "2/2 [==============================] - 0s 23ms/step - loss: 0.6825 - accuracy: 0.4750 - val_loss: 0.6824 - val_accuracy: 0.5000\n",
      "Epoch 35/100\n",
      "2/2 [==============================] - 0s 32ms/step - loss: 0.6894 - accuracy: 0.4750 - val_loss: 0.6822 - val_accuracy: 0.5000\n",
      "Epoch 36/100\n",
      "2/2 [==============================] - 0s 22ms/step - loss: 0.6935 - accuracy: 0.4750 - val_loss: 0.6821 - val_accuracy: 0.5000\n",
      "Epoch 37/100\n",
      "2/2 [==============================] - 0s 26ms/step - loss: 0.6842 - accuracy: 0.4750 - val_loss: 0.6820 - val_accuracy: 0.5000\n",
      "Epoch 38/100\n",
      "2/2 [==============================] - 0s 22ms/step - loss: 0.6912 - accuracy: 0.4750 - val_loss: 0.6820 - val_accuracy: 0.5000\n",
      "Epoch 39/100\n",
      "2/2 [==============================] - 0s 23ms/step - loss: 0.6872 - accuracy: 0.4750 - val_loss: 0.6820 - val_accuracy: 0.5000\n",
      "Epoch 40/100\n",
      "2/2 [==============================] - 0s 23ms/step - loss: 0.6902 - accuracy: 0.4750 - val_loss: 0.6818 - val_accuracy: 0.5000\n",
      "Epoch 41/100\n",
      "2/2 [==============================] - 0s 23ms/step - loss: 0.6853 - accuracy: 0.4750 - val_loss: 0.6816 - val_accuracy: 0.5000\n",
      "Epoch 42/100\n",
      "2/2 [==============================] - 0s 23ms/step - loss: 0.6868 - accuracy: 0.4750 - val_loss: 0.6814 - val_accuracy: 0.5000\n",
      "Epoch 43/100\n",
      "2/2 [==============================] - 0s 23ms/step - loss: 0.6743 - accuracy: 0.4750 - val_loss: 0.6813 - val_accuracy: 0.5000\n",
      "Epoch 44/100\n",
      "2/2 [==============================] - 0s 23ms/step - loss: 0.6820 - accuracy: 0.4750 - val_loss: 0.6811 - val_accuracy: 0.5000\n",
      "Epoch 45/100\n",
      "2/2 [==============================] - 0s 23ms/step - loss: 0.6791 - accuracy: 0.4750 - val_loss: 0.6809 - val_accuracy: 0.5000\n",
      "Epoch 46/100\n",
      "2/2 [==============================] - 0s 24ms/step - loss: 0.6806 - accuracy: 0.4750 - val_loss: 0.6808 - val_accuracy: 0.5000\n",
      "Epoch 47/100\n",
      "2/2 [==============================] - 0s 23ms/step - loss: 0.6830 - accuracy: 0.4750 - val_loss: 0.6807 - val_accuracy: 0.5000\n",
      "Epoch 48/100\n",
      "2/2 [==============================] - 0s 23ms/step - loss: 0.6927 - accuracy: 0.4750 - val_loss: 0.6805 - val_accuracy: 0.5000\n",
      "Epoch 49/100\n",
      "2/2 [==============================] - 0s 23ms/step - loss: 0.6901 - accuracy: 0.4750 - val_loss: 0.6804 - val_accuracy: 0.5000\n",
      "Epoch 50/100\n",
      "2/2 [==============================] - 0s 23ms/step - loss: 0.7031 - accuracy: 0.4750 - val_loss: 0.6804 - val_accuracy: 0.5000\n",
      "Epoch 51/100\n",
      "2/2 [==============================] - 0s 23ms/step - loss: 0.6743 - accuracy: 0.4750 - val_loss: 0.6803 - val_accuracy: 0.5000\n",
      "Epoch 52/100\n",
      "2/2 [==============================] - 0s 23ms/step - loss: 0.6887 - accuracy: 0.4750 - val_loss: 0.6801 - val_accuracy: 0.5000\n",
      "Epoch 53/100\n",
      "2/2 [==============================] - 0s 23ms/step - loss: 0.6766 - accuracy: 0.4750 - val_loss: 0.6799 - val_accuracy: 0.5000\n",
      "Epoch 54/100\n",
      "2/2 [==============================] - 0s 23ms/step - loss: 0.6801 - accuracy: 0.4750 - val_loss: 0.6797 - val_accuracy: 0.5000\n",
      "Epoch 55/100\n",
      "2/2 [==============================] - 0s 23ms/step - loss: 0.6709 - accuracy: 0.4750 - val_loss: 0.6795 - val_accuracy: 0.5000\n",
      "Epoch 56/100\n",
      "2/2 [==============================] - 0s 23ms/step - loss: 0.6987 - accuracy: 0.4750 - val_loss: 0.6793 - val_accuracy: 0.5000\n",
      "Epoch 57/100\n",
      "2/2 [==============================] - 0s 23ms/step - loss: 0.6777 - accuracy: 0.4750 - val_loss: 0.6790 - val_accuracy: 0.5000\n",
      "Epoch 58/100\n",
      "2/2 [==============================] - 0s 22ms/step - loss: 0.6809 - accuracy: 0.4750 - val_loss: 0.6787 - val_accuracy: 0.5000\n",
      "Epoch 59/100\n"
     ]
    },
    {
     "name": "stdout",
     "output_type": "stream",
     "text": [
      "2/2 [==============================] - 0s 22ms/step - loss: 0.6899 - accuracy: 0.4750 - val_loss: 0.6785 - val_accuracy: 0.5000\n",
      "Epoch 60/100\n",
      "2/2 [==============================] - 0s 22ms/step - loss: 0.6801 - accuracy: 0.4750 - val_loss: 0.6783 - val_accuracy: 0.5000\n",
      "Epoch 61/100\n",
      "2/2 [==============================] - 0s 23ms/step - loss: 0.6763 - accuracy: 0.4750 - val_loss: 0.6780 - val_accuracy: 0.5000\n",
      "Epoch 62/100\n",
      "2/2 [==============================] - 0s 23ms/step - loss: 0.6776 - accuracy: 0.4750 - val_loss: 0.6779 - val_accuracy: 0.5000\n",
      "Epoch 63/100\n",
      "2/2 [==============================] - 0s 23ms/step - loss: 0.6731 - accuracy: 0.4750 - val_loss: 0.6776 - val_accuracy: 0.5000\n",
      "Epoch 64/100\n",
      "2/2 [==============================] - 0s 59ms/step - loss: 0.6810 - accuracy: 0.4750 - val_loss: 0.6774 - val_accuracy: 0.5000\n",
      "Epoch 65/100\n",
      "2/2 [==============================] - 0s 46ms/step - loss: 0.6916 - accuracy: 0.4750 - val_loss: 0.6772 - val_accuracy: 0.5000\n",
      "Epoch 66/100\n",
      "2/2 [==============================] - 0s 53ms/step - loss: 0.6960 - accuracy: 0.4750 - val_loss: 0.6771 - val_accuracy: 0.5000\n",
      "Epoch 67/100\n",
      "2/2 [==============================] - 0s 26ms/step - loss: 0.6823 - accuracy: 0.4750 - val_loss: 0.6769 - val_accuracy: 0.5000\n",
      "Epoch 68/100\n",
      "2/2 [==============================] - 0s 38ms/step - loss: 0.6782 - accuracy: 0.4750 - val_loss: 0.6769 - val_accuracy: 0.5000\n",
      "Epoch 69/100\n",
      "2/2 [==============================] - 0s 55ms/step - loss: 0.6720 - accuracy: 0.4750 - val_loss: 0.6770 - val_accuracy: 0.5000\n",
      "Epoch 70/100\n",
      "2/2 [==============================] - 0s 60ms/step - loss: 0.6875 - accuracy: 0.4750 - val_loss: 0.6768 - val_accuracy: 0.5000\n",
      "Epoch 71/100\n",
      "2/2 [==============================] - 0s 25ms/step - loss: 0.6903 - accuracy: 0.4750 - val_loss: 0.6768 - val_accuracy: 0.5000\n",
      "Epoch 72/100\n",
      "2/2 [==============================] - 0s 25ms/step - loss: 0.6807 - accuracy: 0.4750 - val_loss: 0.6766 - val_accuracy: 0.5000\n",
      "Epoch 73/100\n",
      "2/2 [==============================] - 0s 23ms/step - loss: 0.6563 - accuracy: 0.4750 - val_loss: 0.6765 - val_accuracy: 0.5000\n",
      "Epoch 74/100\n",
      "2/2 [==============================] - 0s 26ms/step - loss: 0.6741 - accuracy: 0.4750 - val_loss: 0.6763 - val_accuracy: 0.5000\n",
      "Epoch 75/100\n",
      "2/2 [==============================] - 0s 23ms/step - loss: 0.6836 - accuracy: 0.4750 - val_loss: 0.6761 - val_accuracy: 0.5000\n",
      "Epoch 76/100\n",
      "2/2 [==============================] - 0s 23ms/step - loss: 0.6754 - accuracy: 0.4750 - val_loss: 0.6757 - val_accuracy: 0.5000\n",
      "Epoch 77/100\n",
      "2/2 [==============================] - 0s 23ms/step - loss: 0.6714 - accuracy: 0.4750 - val_loss: 0.6754 - val_accuracy: 0.5000\n",
      "Epoch 78/100\n",
      "2/2 [==============================] - 0s 23ms/step - loss: 0.6613 - accuracy: 0.4750 - val_loss: 0.6750 - val_accuracy: 0.5000\n",
      "Epoch 79/100\n",
      "2/2 [==============================] - 0s 23ms/step - loss: 0.6818 - accuracy: 0.4750 - val_loss: 0.6746 - val_accuracy: 0.5000\n",
      "Epoch 80/100\n",
      "2/2 [==============================] - 0s 27ms/step - loss: 0.6796 - accuracy: 0.4750 - val_loss: 0.6743 - val_accuracy: 0.5000\n",
      "Epoch 81/100\n",
      "2/2 [==============================] - 0s 23ms/step - loss: 0.6790 - accuracy: 0.4750 - val_loss: 0.6740 - val_accuracy: 0.5000\n",
      "Epoch 82/100\n",
      "2/2 [==============================] - 0s 23ms/step - loss: 0.6821 - accuracy: 0.4750 - val_loss: 0.6737 - val_accuracy: 0.5000\n",
      "Epoch 83/100\n",
      "2/2 [==============================] - 0s 23ms/step - loss: 0.6844 - accuracy: 0.4750 - val_loss: 0.6735 - val_accuracy: 0.5000\n",
      "Epoch 84/100\n",
      "2/2 [==============================] - 0s 23ms/step - loss: 0.6908 - accuracy: 0.4750 - val_loss: 0.6733 - val_accuracy: 0.5000\n",
      "Epoch 85/100\n",
      "2/2 [==============================] - 0s 23ms/step - loss: 0.6899 - accuracy: 0.4750 - val_loss: 0.6731 - val_accuracy: 0.5000\n",
      "Epoch 86/100\n",
      "2/2 [==============================] - 0s 23ms/step - loss: 0.6723 - accuracy: 0.4750 - val_loss: 0.6727 - val_accuracy: 0.5000\n",
      "Epoch 87/100\n",
      "2/2 [==============================] - 0s 22ms/step - loss: 0.6755 - accuracy: 0.4750 - val_loss: 0.6725 - val_accuracy: 0.5000\n",
      "Epoch 88/100\n",
      "2/2 [==============================] - 0s 23ms/step - loss: 0.6763 - accuracy: 0.4750 - val_loss: 0.6723 - val_accuracy: 0.5000\n",
      "Epoch 89/100\n",
      "2/2 [==============================] - 0s 23ms/step - loss: 0.6792 - accuracy: 0.4750 - val_loss: 0.6720 - val_accuracy: 0.5000\n",
      "Epoch 90/100\n",
      "2/2 [==============================] - 0s 22ms/step - loss: 0.6765 - accuracy: 0.4750 - val_loss: 0.6719 - val_accuracy: 0.5000\n",
      "Epoch 91/100\n",
      "2/2 [==============================] - 0s 23ms/step - loss: 0.6896 - accuracy: 0.4750 - val_loss: 0.6718 - val_accuracy: 0.5000\n",
      "Epoch 92/100\n",
      "2/2 [==============================] - 0s 23ms/step - loss: 0.6661 - accuracy: 0.4750 - val_loss: 0.6717 - val_accuracy: 0.5000\n",
      "Epoch 93/100\n",
      "2/2 [==============================] - 0s 23ms/step - loss: 0.6724 - accuracy: 0.4750 - val_loss: 0.6715 - val_accuracy: 0.5000\n",
      "Epoch 94/100\n",
      "2/2 [==============================] - 0s 23ms/step - loss: 0.6814 - accuracy: 0.4750 - val_loss: 0.6713 - val_accuracy: 0.5000\n",
      "Epoch 95/100\n",
      "2/2 [==============================] - 0s 22ms/step - loss: 0.6766 - accuracy: 0.4750 - val_loss: 0.6709 - val_accuracy: 0.5000\n",
      "Epoch 96/100\n",
      "2/2 [==============================] - 0s 22ms/step - loss: 0.6605 - accuracy: 0.4750 - val_loss: 0.6706 - val_accuracy: 0.5000\n",
      "Epoch 97/100\n",
      "2/2 [==============================] - 0s 33ms/step - loss: 0.6681 - accuracy: 0.4750 - val_loss: 0.6702 - val_accuracy: 0.5000\n",
      "Epoch 98/100\n",
      "2/2 [==============================] - 0s 24ms/step - loss: 0.6870 - accuracy: 0.4750 - val_loss: 0.6698 - val_accuracy: 0.5000\n",
      "Epoch 99/100\n",
      "2/2 [==============================] - 0s 24ms/step - loss: 0.6775 - accuracy: 0.4750 - val_loss: 0.6695 - val_accuracy: 0.5000\n",
      "Epoch 100/100\n",
      "2/2 [==============================] - 0s 29ms/step - loss: 0.6684 - accuracy: 0.4750 - val_loss: 0.6692 - val_accuracy: 0.5000\n"
     ]
    }
   ],
   "source": [
    "hist = model.fit(X_train[0:50], y_train[0:50], validation_split=0.2, batch_size=batch_size, epochs=100)"
   ]
  },
  {
   "cell_type": "code",
   "execution_count": 17,
   "id": "7f6f5f9d",
   "metadata": {},
   "outputs": [
    {
     "name": "stdout",
     "output_type": "stream",
     "text": [
      "Epoch 1/100\n"
     ]
    },
    {
     "name": "stderr",
     "output_type": "stream",
     "text": [
      "/home/jiehyun.kim001/miniconda3/envs/O/lib/python3.9/site-packages/tensorflow/python/keras/engine/training.py:1940: UserWarning: `Model.fit_generator` is deprecated and will be removed in a future version. Please use `Model.fit`, which supports generators.\n",
      "  warnings.warn('`Model.fit_generator` is deprecated and '\n"
     ]
    },
    {
     "name": "stdout",
     "output_type": "stream",
     "text": [
      "37/37 [==============================] - 1s 11ms/step - loss: 0.6980 - accuracy: 0.4940\n",
      "Epoch 2/100\n",
      "37/37 [==============================] - 0s 8ms/step - loss: 0.6971 - accuracy: 0.4949\n",
      "Epoch 3/100\n",
      "37/37 [==============================] - 0s 8ms/step - loss: 0.6939 - accuracy: 0.4966\n",
      "Epoch 4/100\n",
      "37/37 [==============================] - 0s 8ms/step - loss: 0.6922 - accuracy: 0.4966\n",
      "Epoch 5/100\n",
      "37/37 [==============================] - 0s 8ms/step - loss: 0.6940 - accuracy: 0.5000\n",
      "Epoch 6/100\n",
      "37/37 [==============================] - 0s 8ms/step - loss: 0.6970 - accuracy: 0.4940\n",
      "Epoch 7/100\n",
      "37/37 [==============================] - 0s 8ms/step - loss: 0.6944 - accuracy: 0.4949\n",
      "Epoch 8/100\n",
      "37/37 [==============================] - 0s 8ms/step - loss: 0.6945 - accuracy: 0.4966\n",
      "Epoch 9/100\n",
      "37/37 [==============================] - 0s 8ms/step - loss: 0.6962 - accuracy: 0.4957\n",
      "Epoch 10/100\n",
      "37/37 [==============================] - 0s 8ms/step - loss: 0.6934 - accuracy: 0.4957\n",
      "Epoch 11/100\n",
      "37/37 [==============================] - 0s 8ms/step - loss: 0.6953 - accuracy: 0.4957\n",
      "Epoch 12/100\n",
      "37/37 [==============================] - 0s 8ms/step - loss: 0.6936 - accuracy: 0.4957\n",
      "Epoch 13/100\n",
      "37/37 [==============================] - 0s 8ms/step - loss: 0.6939 - accuracy: 0.4983\n",
      "Epoch 14/100\n",
      "37/37 [==============================] - 0s 8ms/step - loss: 0.6919 - accuracy: 0.4983\n",
      "Epoch 15/100\n",
      "37/37 [==============================] - 0s 8ms/step - loss: 0.6920 - accuracy: 0.4957\n",
      "Epoch 16/100\n",
      "37/37 [==============================] - 0s 8ms/step - loss: 0.6930 - accuracy: 0.4983\n",
      "Epoch 17/100\n",
      "37/37 [==============================] - 0s 8ms/step - loss: 0.6954 - accuracy: 0.4966\n",
      "Epoch 18/100\n",
      "37/37 [==============================] - 0s 8ms/step - loss: 0.6934 - accuracy: 0.4949\n",
      "Epoch 19/100\n",
      "37/37 [==============================] - 0s 8ms/step - loss: 0.6929 - accuracy: 0.5000\n",
      "Epoch 20/100\n",
      "37/37 [==============================] - 0s 8ms/step - loss: 0.6923 - accuracy: 0.5000\n",
      "Epoch 21/100\n",
      "37/37 [==============================] - 0s 8ms/step - loss: 0.6923 - accuracy: 0.4991\n",
      "Epoch 22/100\n",
      "37/37 [==============================] - 0s 8ms/step - loss: 0.6937 - accuracy: 0.4966\n",
      "Epoch 23/100\n",
      "37/37 [==============================] - 0s 8ms/step - loss: 0.6935 - accuracy: 0.4957\n",
      "Epoch 24/100\n",
      "37/37 [==============================] - 0s 8ms/step - loss: 0.6942 - accuracy: 0.4966\n",
      "Epoch 25/100\n",
      "37/37 [==============================] - 0s 8ms/step - loss: 0.6936 - accuracy: 0.4957\n",
      "Epoch 26/100\n",
      "37/37 [==============================] - 0s 8ms/step - loss: 0.6939 - accuracy: 0.5017\n",
      "Epoch 27/100\n",
      "37/37 [==============================] - 0s 8ms/step - loss: 0.6937 - accuracy: 0.4949\n",
      "Epoch 28/100\n",
      "37/37 [==============================] - 0s 8ms/step - loss: 0.6921 - accuracy: 0.4974\n",
      "Epoch 29/100\n",
      "37/37 [==============================] - 0s 8ms/step - loss: 0.6929 - accuracy: 0.4983\n",
      "Epoch 30/100\n",
      "37/37 [==============================] - 0s 8ms/step - loss: 0.6943 - accuracy: 0.4991\n",
      "Epoch 31/100\n",
      "37/37 [==============================] - 0s 8ms/step - loss: 0.6936 - accuracy: 0.4966\n",
      "Epoch 32/100\n",
      "37/37 [==============================] - 0s 8ms/step - loss: 0.6953 - accuracy: 0.4974\n",
      "Epoch 33/100\n",
      "37/37 [==============================] - 0s 8ms/step - loss: 0.6938 - accuracy: 0.4932\n",
      "Epoch 34/100\n",
      "37/37 [==============================] - 0s 8ms/step - loss: 0.6927 - accuracy: 0.4966\n",
      "Epoch 35/100\n",
      "37/37 [==============================] - 0s 8ms/step - loss: 0.6935 - accuracy: 0.5000\n",
      "Epoch 36/100\n",
      "37/37 [==============================] - 0s 8ms/step - loss: 0.6939 - accuracy: 0.4940\n",
      "Epoch 37/100\n",
      "37/37 [==============================] - 0s 8ms/step - loss: 0.6932 - accuracy: 0.4940\n",
      "Epoch 38/100\n",
      "37/37 [==============================] - 0s 8ms/step - loss: 0.6924 - accuracy: 0.4949\n",
      "Epoch 39/100\n",
      "37/37 [==============================] - 0s 8ms/step - loss: 0.6936 - accuracy: 0.4932\n",
      "Epoch 40/100\n",
      "37/37 [==============================] - 0s 8ms/step - loss: 0.6928 - accuracy: 0.4923\n",
      "Epoch 41/100\n",
      "37/37 [==============================] - 0s 8ms/step - loss: 0.6924 - accuracy: 0.4991\n",
      "Epoch 42/100\n",
      "37/37 [==============================] - 0s 8ms/step - loss: 0.6925 - accuracy: 0.4966\n",
      "Epoch 43/100\n",
      "37/37 [==============================] - 0s 8ms/step - loss: 0.6931 - accuracy: 0.4957\n",
      "Epoch 44/100\n",
      "37/37 [==============================] - 0s 8ms/step - loss: 0.6946 - accuracy: 0.4923\n",
      "Epoch 45/100\n",
      "37/37 [==============================] - 0s 8ms/step - loss: 0.6927 - accuracy: 0.4991\n",
      "Epoch 46/100\n",
      "37/37 [==============================] - 0s 8ms/step - loss: 0.6918 - accuracy: 0.4991\n",
      "Epoch 47/100\n",
      "37/37 [==============================] - 0s 8ms/step - loss: 0.6932 - accuracy: 0.4983\n",
      "Epoch 48/100\n",
      "37/37 [==============================] - 0s 8ms/step - loss: 0.6939 - accuracy: 0.4974\n",
      "Epoch 49/100\n",
      "37/37 [==============================] - 0s 8ms/step - loss: 0.6927 - accuracy: 0.4957\n",
      "Epoch 50/100\n",
      "37/37 [==============================] - 0s 8ms/step - loss: 0.6927 - accuracy: 0.4966\n",
      "Epoch 51/100\n",
      "37/37 [==============================] - 0s 8ms/step - loss: 0.6925 - accuracy: 0.4974\n",
      "Epoch 52/100\n",
      "37/37 [==============================] - 0s 8ms/step - loss: 0.6943 - accuracy: 0.4991\n",
      "Epoch 53/100\n",
      "37/37 [==============================] - 0s 13ms/step - loss: 0.6932 - accuracy: 0.4992\n",
      "Epoch 54/100\n",
      "37/37 [==============================] - 0s 8ms/step - loss: 0.6932 - accuracy: 0.4957\n",
      "Epoch 55/100\n",
      "37/37 [==============================] - 0s 8ms/step - loss: 0.6935 - accuracy: 0.5009\n",
      "Epoch 56/100\n",
      "37/37 [==============================] - 0s 8ms/step - loss: 0.6933 - accuracy: 0.4949\n",
      "Epoch 57/100\n",
      "37/37 [==============================] - 0s 8ms/step - loss: 0.6932 - accuracy: 0.4983\n",
      "Epoch 58/100\n",
      "37/37 [==============================] - 0s 8ms/step - loss: 0.6936 - accuracy: 0.4940\n",
      "Epoch 59/100\n",
      "37/37 [==============================] - 0s 8ms/step - loss: 0.6922 - accuracy: 0.4941\n",
      "Epoch 60/100\n",
      "37/37 [==============================] - 0s 8ms/step - loss: 0.6935 - accuracy: 0.4991\n",
      "Epoch 61/100\n",
      "37/37 [==============================] - 0s 8ms/step - loss: 0.6928 - accuracy: 0.4966\n",
      "Epoch 62/100\n",
      "37/37 [==============================] - 0s 8ms/step - loss: 0.6929 - accuracy: 0.4957\n",
      "Epoch 63/100\n",
      "37/37 [==============================] - 0s 8ms/step - loss: 0.6925 - accuracy: 0.5009\n",
      "Epoch 64/100\n",
      "37/37 [==============================] - 0s 8ms/step - loss: 0.6925 - accuracy: 0.4949\n",
      "Epoch 65/100\n",
      "37/37 [==============================] - 0s 8ms/step - loss: 0.6928 - accuracy: 0.4983\n",
      "Epoch 66/100\n",
      "37/37 [==============================] - 0s 8ms/step - loss: 0.6925 - accuracy: 0.4957\n",
      "Epoch 67/100\n",
      "37/37 [==============================] - 0s 8ms/step - loss: 0.6928 - accuracy: 0.4966\n",
      "Epoch 68/100\n",
      "37/37 [==============================] - 0s 8ms/step - loss: 0.6925 - accuracy: 0.4974\n",
      "Epoch 69/100\n",
      "37/37 [==============================] - 0s 8ms/step - loss: 0.6926 - accuracy: 0.4966\n",
      "Epoch 70/100\n",
      "37/37 [==============================] - 0s 8ms/step - loss: 0.6925 - accuracy: 0.5009\n",
      "Epoch 71/100\n",
      "37/37 [==============================] - 0s 8ms/step - loss: 0.6932 - accuracy: 0.4957\n",
      "Epoch 72/100\n",
      "37/37 [==============================] - 0s 8ms/step - loss: 0.6939 - accuracy: 0.5000\n",
      "Epoch 73/100\n",
      "37/37 [==============================] - 0s 8ms/step - loss: 0.6929 - accuracy: 0.4966\n",
      "Epoch 74/100\n",
      "37/37 [==============================] - 0s 8ms/step - loss: 0.6925 - accuracy: 0.4966\n",
      "Epoch 75/100\n",
      "37/37 [==============================] - 0s 8ms/step - loss: 0.6921 - accuracy: 0.4957\n",
      "Epoch 76/100\n",
      "37/37 [==============================] - 0s 8ms/step - loss: 0.6923 - accuracy: 0.4932\n",
      "Epoch 77/100\n",
      "37/37 [==============================] - 0s 8ms/step - loss: 0.6924 - accuracy: 0.4983\n",
      "Epoch 78/100\n",
      "37/37 [==============================] - 0s 8ms/step - loss: 0.6931 - accuracy: 0.4991\n",
      "Epoch 79/100\n",
      "37/37 [==============================] - 0s 8ms/step - loss: 0.6929 - accuracy: 0.4957\n",
      "Epoch 80/100\n",
      "37/37 [==============================] - 0s 8ms/step - loss: 0.6927 - accuracy: 0.4983\n",
      "Epoch 81/100\n",
      "37/37 [==============================] - 0s 8ms/step - loss: 0.6924 - accuracy: 0.4974\n",
      "Epoch 82/100\n",
      "37/37 [==============================] - 0s 8ms/step - loss: 0.6932 - accuracy: 0.4966\n",
      "Epoch 83/100\n"
     ]
    },
    {
     "name": "stdout",
     "output_type": "stream",
     "text": [
      "37/37 [==============================] - 0s 8ms/step - loss: 0.6927 - accuracy: 0.5009\n",
      "Epoch 84/100\n",
      "37/37 [==============================] - 0s 8ms/step - loss: 0.6923 - accuracy: 0.4957\n",
      "Epoch 85/100\n",
      "37/37 [==============================] - 0s 8ms/step - loss: 0.6926 - accuracy: 0.4966\n",
      "Epoch 86/100\n",
      "37/37 [==============================] - 0s 8ms/step - loss: 0.6925 - accuracy: 0.4983\n",
      "Epoch 87/100\n",
      "37/37 [==============================] - 0s 8ms/step - loss: 0.6925 - accuracy: 0.4983\n",
      "Epoch 88/100\n",
      "37/37 [==============================] - 0s 8ms/step - loss: 0.6936 - accuracy: 0.4949\n",
      "Epoch 89/100\n",
      "37/37 [==============================] - 0s 8ms/step - loss: 0.6932 - accuracy: 0.4940\n",
      "Epoch 90/100\n",
      "37/37 [==============================] - 0s 8ms/step - loss: 0.6934 - accuracy: 0.4991\n",
      "Epoch 91/100\n",
      "37/37 [==============================] - 0s 8ms/step - loss: 0.6920 - accuracy: 0.4957\n",
      "Epoch 92/100\n",
      "37/37 [==============================] - 0s 8ms/step - loss: 0.6925 - accuracy: 0.4974\n",
      "Epoch 93/100\n",
      "37/37 [==============================] - 0s 8ms/step - loss: 0.6922 - accuracy: 0.4932\n",
      "Epoch 94/100\n",
      "37/37 [==============================] - 0s 8ms/step - loss: 0.6930 - accuracy: 0.4940\n",
      "Epoch 95/100\n",
      "37/37 [==============================] - 0s 8ms/step - loss: 0.6927 - accuracy: 0.4966\n",
      "Epoch 96/100\n",
      "37/37 [==============================] - 0s 8ms/step - loss: 0.6930 - accuracy: 0.4983\n",
      "Epoch 97/100\n",
      "37/37 [==============================] - 0s 8ms/step - loss: 0.6927 - accuracy: 0.4966\n",
      "Epoch 98/100\n",
      "37/37 [==============================] - 0s 8ms/step - loss: 0.6925 - accuracy: 0.4983\n",
      "Epoch 99/100\n",
      "37/37 [==============================] - 0s 8ms/step - loss: 0.6924 - accuracy: 0.4991\n",
      "Epoch 100/100\n",
      "37/37 [==============================] - 0s 8ms/step - loss: 0.6926 - accuracy: 0.4923\n"
     ]
    },
    {
     "data": {
      "text/plain": [
       "<tensorflow.python.keras.callbacks.History at 0x7f5570470070>"
      ]
     },
     "execution_count": 17,
     "metadata": {},
     "output_type": "execute_result"
    }
   ],
   "source": [
    "model.fit_generator(train,steps_per_epoch=len(X_train) // batch_size, verbose=True, epochs=100)"
   ]
  },
  {
   "cell_type": "code",
   "execution_count": 18,
   "id": "68558ac6",
   "metadata": {},
   "outputs": [
    {
     "data": {
      "text/plain": [
       "(<matplotlib.image.AxesImage at 0x7f557006fd00>, 1)"
      ]
     },
     "execution_count": 18,
     "metadata": {},
     "output_type": "execute_result"
    },
    {
     "data": {
      "image/png": "[encoded data removed]",
      "text/plain": [
       "<Figure size 432x288 with 1 Axes>"
      ]
     },
     "metadata": {
      "needs_background": "light"
     },
     "output_type": "display_data"
    }
   ],
   "source": [
    "imshow(X_train[0,:,:,0]), y_train[0]"
   ]
  },
  {
   "cell_type": "code",
   "execution_count": 19,
   "id": "be9e3b33",
   "metadata": {},
   "outputs": [],
   "source": [
    "from sklearn.ensemble import RandomForestClassifier"
   ]
  },
  {
   "cell_type": "code",
   "execution_count": 20,
   "id": "e86f917c",
   "metadata": {},
   "outputs": [],
   "source": [
    "rf = RandomForestClassifier(n_estimators=100)"
   ]
  },
  {
   "cell_type": "code",
   "execution_count": 21,
   "id": "dc9ab29e",
   "metadata": {},
   "outputs": [
    {
     "data": {
      "text/plain": [
       "RandomForestClassifier()"
      ]
     },
     "execution_count": 21,
     "metadata": {},
     "output_type": "execute_result"
    }
   ],
   "source": [
    "X_train_raveled = X_train.reshape(X_train.shape[0], X_train.shape[1]*X_train.shape[2])\n",
    "X_test_raveled = X_test.reshape(X_test.shape[0], X_test.shape[1]*X_test.shape[2])\n",
    "\n",
    "rf.fit(X_train_raveled, y_train)"
   ]
  },
  {
   "cell_type": "code",
   "execution_count": 22,
   "id": "8ac29818",
   "metadata": {},
   "outputs": [],
   "source": [
    "y_pred = rf.predict(X_test_raveled)"
   ]
  },
  {
   "cell_type": "code",
   "execution_count": 23,
   "id": "bdb74ba1",
   "metadata": {},
   "outputs": [],
   "source": [
    "import sklearn.metrics"
   ]
  },
  {
   "cell_type": "code",
   "execution_count": 24,
   "id": "00fb66ca",
   "metadata": {},
   "outputs": [
    {
     "data": {
      "text/plain": [
       "0.92018779342723"
      ]
     },
     "execution_count": 24,
     "metadata": {},
     "output_type": "execute_result"
    }
   ],
   "source": [
    "sklearn.metrics.accuracy_score(y_test, y_pred)"
   ]
  },
  {
   "cell_type": "code",
   "execution_count": 25,
   "id": "c3b584e9",
   "metadata": {},
   "outputs": [
    {
     "data": {
      "text/plain": [
       "0.9178743961352657"
      ]
     },
     "execution_count": 25,
     "metadata": {},
     "output_type": "execute_result"
    }
   ],
   "source": [
    "sklearn.metrics.f1_score(y_test, y_pred)"
   ]
  },
  {
   "cell_type": "code",
   "execution_count": 26,
   "id": "49ac9daf",
   "metadata": {},
   "outputs": [
    {
     "data": {
      "text/plain": [
       "array([1, 0, 0, 1, 1, 1, 1, 1, 0, 0, 1, 1, 0, 0, 0, 1, 1, 1, 0, 1, 0, 0,\n",
       "       0, 1, 0, 1, 1, 1, 1, 0, 0, 0, 0, 0, 1, 1, 0, 1, 0, 0, 0, 1, 1, 1,\n",
       "       1, 0, 1, 1, 0, 1, 0, 1, 0, 0, 0, 0, 1, 0, 0, 1, 1, 0, 0, 0, 1, 0,\n",
       "       1, 0, 0, 0, 0, 1, 0, 0, 1, 0, 1, 1, 0, 0, 0, 0, 1, 0, 0, 1, 1, 0,\n",
       "       0, 1, 1, 0, 0, 0, 1, 1, 0, 0, 1, 0, 0, 0, 1, 0, 1, 0, 0, 1, 0, 1,\n",
       "       1, 0, 0, 1, 1, 1, 1, 0, 1, 0, 1, 1, 1, 0, 1, 1, 0, 0, 1, 0, 1, 1,\n",
       "       1, 1, 0, 0, 1, 1, 0, 0, 0, 1, 1, 1, 0, 0, 0, 0, 1, 0, 0, 0, 0, 0,\n",
       "       1, 0, 0, 1, 1, 0, 1, 1, 0, 1, 1, 1, 1, 0, 1, 0, 0, 1, 0, 0, 1, 1,\n",
       "       0, 0, 1, 1, 1, 0, 0, 1, 1, 1, 1, 1, 0, 1, 1, 0, 1, 1, 0, 1, 1, 0,\n",
       "       0, 1, 1, 0, 0, 0, 0, 1, 0, 0, 0, 0, 0, 0, 0])"
      ]
     },
     "execution_count": 26,
     "metadata": {},
     "output_type": "execute_result"
    }
   ],
   "source": [
    "y_pred"
   ]
  },
  {
   "cell_type": "code",
   "execution_count": 27,
   "id": "58500303",
   "metadata": {},
   "outputs": [
    {
     "data": {
      "text/plain": [
       "array([1, 0, 0, 1, 1, 1, 1, 1, 0, 0, 1, 1, 0, 0, 1, 1, 1, 1, 0, 1, 0, 0,\n",
       "       0, 1, 0, 1, 1, 1, 1, 0, 0, 1, 0, 0, 1, 1, 0, 1, 0, 1, 0, 1, 1, 1,\n",
       "       1, 0, 1, 0, 0, 1, 0, 1, 0, 0, 0, 0, 1, 0, 0, 1, 1, 0, 1, 0, 0, 0,\n",
       "       1, 0, 0, 0, 0, 1, 0, 0, 1, 0, 1, 1, 0, 0, 1, 0, 1, 0, 0, 0, 1, 1,\n",
       "       0, 1, 1, 0, 0, 0, 1, 1, 0, 0, 0, 0, 1, 0, 1, 1, 1, 0, 0, 1, 0, 1,\n",
       "       1, 0, 1, 1, 1, 1, 1, 0, 1, 0, 1, 1, 1, 0, 1, 1, 0, 0, 1, 0, 1, 1,\n",
       "       1, 1, 0, 0, 1, 1, 0, 0, 0, 1, 1, 1, 0, 0, 0, 1, 1, 0, 0, 0, 0, 0,\n",
       "       1, 0, 0, 1, 1, 0, 1, 1, 0, 1, 1, 1, 1, 0, 1, 0, 0, 1, 0, 0, 1, 1,\n",
       "       0, 0, 1, 1, 1, 0, 0, 1, 1, 1, 0, 1, 0, 1, 1, 0, 0, 1, 0, 1, 1, 0,\n",
       "       0, 1, 1, 0, 0, 0, 0, 1, 0, 0, 0, 0, 0, 0, 1])"
      ]
     },
     "execution_count": 27,
     "metadata": {},
     "output_type": "execute_result"
    }
   ],
   "source": [
    "y_test"
   ]
  },
  {
   "cell_type": "code",
   "execution_count": null,
   "id": "b1749c58",
   "metadata": {},
   "outputs": [],
   "source": []
  },
  {
   "cell_type": "code",
   "execution_count": null,
   "id": "3e063208",
   "metadata": {},
   "outputs": [],
   "source": []
  },
  {
   "cell_type": "code",
   "execution_count": null,
   "id": "8e198515",
   "metadata": {},
   "outputs": [],
   "source": []
  },
  {
   "cell_type": "code",
   "execution_count": null,
   "id": "79462ebd",
   "metadata": {},
   "outputs": [],
   "source": []
  },
  {
   "cell_type": "code",
   "execution_count": null,
   "id": "d78b0285",
   "metadata": {},
   "outputs": [],
   "source": []
  },
  {
   "cell_type": "code",
   "execution_count": null,
   "id": "71e8716d",
   "metadata": {},
   "outputs": [],
   "source": []
  },
  {
   "cell_type": "code",
   "execution_count": null,
   "id": "500b2532",
   "metadata": {},
   "outputs": [],
   "source": []
  },
  {
   "cell_type": "code",
   "execution_count": null,
   "id": "fa1dfd74",
   "metadata": {},
   "outputs": [],
   "source": []
  }
 ],
 "metadata": {
  "kernelspec": {
   "display_name": "Python 3 (ipykernel)",
   "language": "python",
   "name": "python3"
  },
  "language_info": {
   "codemirror_mode": {
    "name": "ipython",
    "version": 3
   },
   "file_extension": ".py",
   "mimetype": "text/x-python",
   "name": "python",
   "nbconvert_exporter": "python",
   "pygments_lexer": "ipython3",
   "version": "3.9.7"
  }
 },
 "nbformat": 4,
 "nbformat_minor": 5
}
