{
 "cells": [
  {
   "cell_type": "code",
   "execution_count": 1,
   "id": "47947e2d",
   "metadata": {},
   "outputs": [
    {
     "name": "stdout",
     "output_type": "stream",
     "text": [
      "Populating the interactive namespace from numpy and matplotlib\n"
     ]
    }
   ],
   "source": [
    "%pylab inline"
   ]
  },
  {
   "cell_type": "code",
   "execution_count": 2,
   "id": "cbc12529",
   "metadata": {},
   "outputs": [
    {
     "name": "stderr",
     "output_type": "stream",
     "text": [
      "2023-04-30 16:12:43.361064: I tensorflow/stream_executor/platform/default/dso_loader.cc:53] Successfully opened dynamic library libcudart.so.11.0\n",
      "/home/jiehyun.kim001/miniconda3/envs/O/lib/python3.9/site-packages/scipy/__init__.py:146: UserWarning: A NumPy version >=1.16.5 and <1.23.0 is required for this version of SciPy (detected version 1.23.4\n",
      "  warnings.warn(f\"A NumPy version >={np_minversion} and <{np_maxversion}\"\n"
     ]
    }
   ],
   "source": [
    "import tensorflow\n",
    "import keras\n",
    "from tensorflow.keras.applications import VGG19\n",
    "from tensorflow.keras.preprocessing.image import ImageDataGenerator\n",
    "import tensorflow.keras.layers as layers\n",
    "from sklearn.utils import shuffle\n",
    "from sklearn.model_selection import train_test_split"
   ]
  },
  {
   "cell_type": "code",
   "execution_count": 3,
   "id": "5ed1a6ca",
   "metadata": {},
   "outputs": [],
   "source": [
    "import cactas as C"
   ]
  },
  {
   "cell_type": "code",
   "execution_count": 4,
   "id": "4f990e7e",
   "metadata": {},
   "outputs": [],
   "source": [
    "asymp = np.load('/raid/mpsych/CACTAS/DATA/ESUS/asymp_cropped.npy')\n",
    "symp = np.load('/raid/mpsych/CACTAS/DATA/ESUS/symp_cropped.npy')"
   ]
  },
  {
   "cell_type": "code",
   "execution_count": 5,
   "id": "00a2adce",
   "metadata": {},
   "outputs": [],
   "source": [
    "labels = np.array([0]*len(asymp) + [1]*len(symp))\n",
    "images = np.concatenate((asymp, symp))"
   ]
  },
  {
   "cell_type": "code",
   "execution_count": 6,
   "id": "fa2647de",
   "metadata": {},
   "outputs": [],
   "source": [
    "X, y = shuffle(images, labels, random_state=0)"
   ]
  },
  {
   "cell_type": "code",
   "execution_count": 7,
   "id": "9e223a9c",
   "metadata": {},
   "outputs": [],
   "source": [
    "X_train, X_test, y_train, y_test = train_test_split(X, y, test_size=0.15, random_state=0)"
   ]
  },
  {
   "cell_type": "code",
   "execution_count": null,
   "id": "d4ede7aa",
   "metadata": {},
   "outputs": [],
   "source": []
  },
  {
   "cell_type": "code",
   "execution_count": 8,
   "id": "d35c8ba6",
   "metadata": {},
   "outputs": [],
   "source": [
    "train_data_gen = ImageDataGenerator(\n",
    "        rotation_range=5.,\n",
    "        width_shift_range=0.05,\n",
    "        height_shift_range=0.05,\n",
    "        shear_range=40,\n",
    "        zoom_range=0.2,\n",
    "        horizontal_flip=True,\n",
    "        vertical_flip=True,\n",
    "        fill_mode='constant'\n",
    "    )"
   ]
  },
  {
   "cell_type": "code",
   "execution_count": 9,
   "id": "467cb5ca",
   "metadata": {},
   "outputs": [],
   "source": [
    "test_data_gen = ImageDataGenerator()"
   ]
  },
  {
   "cell_type": "code",
   "execution_count": 10,
   "id": "e7c70431",
   "metadata": {},
   "outputs": [],
   "source": [
    "train = train_data_gen.flow(X_train, y_train)"
   ]
  },
  {
   "cell_type": "code",
   "execution_count": 11,
   "id": "0175a7f4",
   "metadata": {},
   "outputs": [],
   "source": [
    "test = test_data_gen.flow(X_test, y_test)"
   ]
  },
  {
   "cell_type": "code",
   "execution_count": null,
   "id": "3cd415e4",
   "metadata": {},
   "outputs": [],
   "source": []
  },
  {
   "cell_type": "code",
   "execution_count": 12,
   "id": "7eea1d22",
   "metadata": {},
   "outputs": [
    {
     "name": "stderr",
     "output_type": "stream",
     "text": [
      "2023-04-30 16:12:46.237487: I tensorflow/stream_executor/platform/default/dso_loader.cc:53] Successfully opened dynamic library libcuda.so.1\n",
      "2023-04-30 16:12:46.483558: I tensorflow/core/common_runtime/gpu/gpu_device.cc:1733] Found device 0 with properties: \n",
      "pciBusID: 0000:0f:00.0 name: A100-SXM4-40GB computeCapability: 8.0\n",
      "coreClock: 1.41GHz coreCount: 108 deviceMemorySize: 39.59GiB deviceMemoryBandwidth: 1.41TiB/s\n",
      "2023-04-30 16:12:46.486175: I tensorflow/core/common_runtime/gpu/gpu_device.cc:1733] Found device 1 with properties: \n",
      "pciBusID: 0000:90:00.0 name: A100-SXM4-40GB computeCapability: 8.0\n",
      "coreClock: 1.41GHz coreCount: 108 deviceMemorySize: 39.59GiB deviceMemoryBandwidth: 1.41TiB/s\n",
      "2023-04-30 16:12:46.486194: I tensorflow/stream_executor/platform/default/dso_loader.cc:53] Successfully opened dynamic library libcudart.so.11.0\n",
      "2023-04-30 16:12:46.521622: I tensorflow/stream_executor/platform/default/dso_loader.cc:53] Successfully opened dynamic library libcublas.so.11\n",
      "2023-04-30 16:12:46.521655: I tensorflow/stream_executor/platform/default/dso_loader.cc:53] Successfully opened dynamic library libcublasLt.so.11\n",
      "2023-04-30 16:12:46.554828: I tensorflow/stream_executor/platform/default/dso_loader.cc:53] Successfully opened dynamic library libcufft.so.10\n",
      "2023-04-30 16:12:46.559656: I tensorflow/stream_executor/platform/default/dso_loader.cc:53] Successfully opened dynamic library libcurand.so.10\n",
      "2023-04-30 16:12:46.564004: I tensorflow/stream_executor/platform/default/dso_loader.cc:53] Successfully opened dynamic library libcusolver.so.11\n",
      "2023-04-30 16:12:46.572675: I tensorflow/stream_executor/platform/default/dso_loader.cc:53] Successfully opened dynamic library libcusparse.so.11\n",
      "2023-04-30 16:12:46.573855: I tensorflow/stream_executor/platform/default/dso_loader.cc:53] Successfully opened dynamic library libcudnn.so.8\n",
      "2023-04-30 16:12:46.584601: I tensorflow/core/common_runtime/gpu/gpu_device.cc:1871] Adding visible gpu devices: 0, 1\n",
      "2023-04-30 16:12:46.585485: I tensorflow/core/platform/cpu_feature_guard.cc:142] This TensorFlow binary is optimized with oneAPI Deep Neural Network Library (oneDNN) to use the following CPU instructions in performance-critical operations:  AVX2 FMA\n",
      "To enable them in other operations, rebuild TensorFlow with the appropriate compiler flags.\n",
      "2023-04-30 16:12:46.806135: I tensorflow/core/common_runtime/gpu/gpu_device.cc:1733] Found device 0 with properties: \n",
      "pciBusID: 0000:0f:00.0 name: A100-SXM4-40GB computeCapability: 8.0\n",
      "coreClock: 1.41GHz coreCount: 108 deviceMemorySize: 39.59GiB deviceMemoryBandwidth: 1.41TiB/s\n",
      "2023-04-30 16:12:46.808599: I tensorflow/core/common_runtime/gpu/gpu_device.cc:1733] Found device 1 with properties: \n",
      "pciBusID: 0000:90:00.0 name: A100-SXM4-40GB computeCapability: 8.0\n",
      "coreClock: 1.41GHz coreCount: 108 deviceMemorySize: 39.59GiB deviceMemoryBandwidth: 1.41TiB/s\n",
      "2023-04-30 16:12:46.818257: I tensorflow/core/common_runtime/gpu/gpu_device.cc:1871] Adding visible gpu devices: 0, 1\n",
      "2023-04-30 16:12:46.819065: I tensorflow/stream_executor/platform/default/dso_loader.cc:53] Successfully opened dynamic library libcudart.so.11.0\n",
      "2023-04-30 16:12:48.116095: I tensorflow/core/common_runtime/gpu/gpu_device.cc:1258] Device interconnect StreamExecutor with strength 1 edge matrix:\n",
      "2023-04-30 16:12:48.116143: I tensorflow/core/common_runtime/gpu/gpu_device.cc:1264]      0 1 \n",
      "2023-04-30 16:12:48.116150: I tensorflow/core/common_runtime/gpu/gpu_device.cc:1277] 0:   N Y \n",
      "2023-04-30 16:12:48.116153: I tensorflow/core/common_runtime/gpu/gpu_device.cc:1277] 1:   Y N \n",
      "2023-04-30 16:12:48.129333: I tensorflow/core/common_runtime/gpu/gpu_device.cc:1418] Created TensorFlow device (/job:localhost/replica:0/task:0/device:GPU:0 with 38425 MB memory) -> physical GPU (device: 0, name: A100-SXM4-40GB, pci bus id: 0000:0f:00.0, compute capability: 8.0)\n",
      "2023-04-30 16:12:48.133759: I tensorflow/core/common_runtime/gpu/gpu_device.cc:1418] Created TensorFlow device (/job:localhost/replica:0/task:0/device:GPU:1 with 38425 MB memory) -> physical GPU (device: 1, name: A100-SXM4-40GB, pci bus id: 0000:90:00.0, compute capability: 8.0)\n"
     ]
    }
   ],
   "source": [
    "model = tensorflow.keras.Sequential()\n",
    "\n",
    "model.add(layers.Conv2D(filters=20, kernel_size=(5, 5), activation='relu', input_shape=(28,28,1)))\n",
    "model.add(layers.MaxPooling2D(pool_size=(2,2), strides=(2,2)))\n",
    "model.add(layers.Dropout(0.2))\n",
    "\n",
    "model.add(layers.Conv2D(filters=50, kernel_size=(5, 5), activation='relu'))\n",
    "model.add(layers.MaxPooling2D(pool_size=(2,2), strides=(2,2)))\n",
    "model.add(layers.Dropout(0.2))\n",
    "\n",
    "model.add(layers.Flatten())\n",
    "\n",
    "model.add(layers.Dense(units=256, activation='relu'))\n",
    "\n",
    "model.add(layers.Dropout(0.5))\n",
    "\n",
    "model.add(layers.Dense(units=1, activation = 'softmax'))  \n"
   ]
  },
  {
   "cell_type": "code",
   "execution_count": 13,
   "id": "933ae8b2",
   "metadata": {},
   "outputs": [
    {
     "name": "stdout",
     "output_type": "stream",
     "text": [
      "Model: \"sequential\"\n",
      "_________________________________________________________________\n",
      "Layer (type)                 Output Shape              Param #   \n",
      "=================================================================\n",
      "conv2d (Conv2D)              (None, 24, 24, 20)        520       \n",
      "_________________________________________________________________\n",
      "max_pooling2d (MaxPooling2D) (None, 12, 12, 20)        0         \n",
      "_________________________________________________________________\n",
      "dropout (Dropout)            (None, 12, 12, 20)        0         \n",
      "_________________________________________________________________\n",
      "conv2d_1 (Conv2D)            (None, 8, 8, 50)          25050     \n",
      "_________________________________________________________________\n",
      "max_pooling2d_1 (MaxPooling2 (None, 4, 4, 50)          0         \n",
      "_________________________________________________________________\n",
      "dropout_1 (Dropout)          (None, 4, 4, 50)          0         \n",
      "_________________________________________________________________\n",
      "flatten (Flatten)            (None, 800)               0         \n",
      "_________________________________________________________________\n",
      "dense (Dense)                (None, 256)               205056    \n",
      "_________________________________________________________________\n",
      "dropout_2 (Dropout)          (None, 256)               0         \n",
      "_________________________________________________________________\n",
      "dense_1 (Dense)              (None, 1)                 257       \n",
      "=================================================================\n",
      "Total params: 230,883\n",
      "Trainable params: 230,883\n",
      "Non-trainable params: 0\n",
      "_________________________________________________________________\n"
     ]
    }
   ],
   "source": [
    "model.summary()"
   ]
  },
  {
   "cell_type": "code",
   "execution_count": 14,
   "id": "ed60b1c9",
   "metadata": {},
   "outputs": [
    {
     "name": "stderr",
     "output_type": "stream",
     "text": [
      "/home/jiehyun.kim001/miniconda3/envs/O/lib/python3.9/site-packages/tensorflow/python/keras/optimizer_v2/optimizer_v2.py:374: UserWarning: The `lr` argument is deprecated, use `learning_rate` instead.\n",
      "  warnings.warn(\n"
     ]
    }
   ],
   "source": [
    "sgd = tensorflow.keras.optimizers.SGD(lr=0.001, decay=1e-6, momentum=0.9, nesterov=True)"
   ]
  },
  {
   "cell_type": "code",
   "execution_count": 15,
   "id": "0d940c65",
   "metadata": {},
   "outputs": [],
   "source": [
    "model.compile(loss=tensorflow.keras.losses.binary_crossentropy,\n",
    "              optimizer=sgd,\n",
    "              metrics=['accuracy'])"
   ]
  },
  {
   "cell_type": "code",
   "execution_count": 16,
   "id": "258613db",
   "metadata": {},
   "outputs": [],
   "source": [
    "batch_size = 32"
   ]
  },
  {
   "cell_type": "code",
   "execution_count": 17,
   "id": "0b411f2b",
   "metadata": {},
   "outputs": [
    {
     "name": "stderr",
     "output_type": "stream",
     "text": [
      "/home/jiehyun.kim001/miniconda3/envs/O/lib/python3.9/site-packages/tensorflow/python/keras/engine/training.py:1940: UserWarning: `Model.fit_generator` is deprecated and will be removed in a future version. Please use `Model.fit`, which supports generators.\n",
      "  warnings.warn('`Model.fit_generator` is deprecated and '\n",
      "2023-04-30 16:12:48.955883: I tensorflow/compiler/mlir/mlir_graph_optimization_pass.cc:176] None of the MLIR Optimization Passes are enabled (registered 2)\n",
      "2023-04-30 16:12:48.977217: I tensorflow/core/platform/profile_utils/cpu_utils.cc:114] CPU Frequency: 2245645000 Hz\n"
     ]
    },
    {
     "name": "stdout",
     "output_type": "stream",
     "text": [
      "Epoch 1/100\n"
     ]
    },
    {
     "name": "stderr",
     "output_type": "stream",
     "text": [
      "2023-04-30 16:12:49.376184: I tensorflow/stream_executor/platform/default/dso_loader.cc:53] Successfully opened dynamic library libcudnn.so.8\n",
      "2023-04-30 16:12:50.555553: I tensorflow/stream_executor/cuda/cuda_dnn.cc:359] Loaded cuDNN version 8201\n",
      "2023-04-30 16:12:52.140087: W tensorflow/stream_executor/gpu/asm_compiler.cc:191] Falling back to the CUDA driver for PTX compilation; ptxas does not support CC 8.0\n",
      "2023-04-30 16:12:52.140108: W tensorflow/stream_executor/gpu/asm_compiler.cc:194] Used ptxas at ptxas\n",
      "2023-04-30 16:12:52.140736: W tensorflow/stream_executor/gpu/redzone_allocator.cc:314] Unimplemented: ptxas ptxas too old. Falling back to the driver to compile.\n",
      "Relying on driver to perform ptx compilation. \n",
      "Modify $PATH to customize ptxas location.\n",
      "This message will be only logged once.\n",
      "2023-04-30 16:12:52.187774: I tensorflow/stream_executor/platform/default/dso_loader.cc:53] Successfully opened dynamic library libcublas.so.11\n",
      "2023-04-30 16:12:53.529775: I tensorflow/stream_executor/platform/default/dso_loader.cc:53] Successfully opened dynamic library libcublasLt.so.11\n",
      "2023-04-30 16:12:53.576885: I tensorflow/stream_executor/cuda/cuda_blas.cc:1838] TensorFloat-32 will be used for the matrix multiplication. This will only be logged once.\n"
     ]
    },
    {
     "name": "stdout",
     "output_type": "stream",
     "text": [
      "37/37 [==============================] - 6s 11ms/step - loss: 0.7000 - accuracy: 0.4949\n",
      "Epoch 2/100\n",
      "37/37 [==============================] - 0s 8ms/step - loss: 0.6943 - accuracy: 0.4957\n",
      "Epoch 3/100\n",
      "37/37 [==============================] - 0s 8ms/step - loss: 0.6964 - accuracy: 0.4974\n",
      "Epoch 4/100\n",
      "37/37 [==============================] - 0s 8ms/step - loss: 0.6956 - accuracy: 0.4975\n",
      "Epoch 5/100\n",
      "37/37 [==============================] - 0s 8ms/step - loss: 0.6965 - accuracy: 0.4957\n",
      "Epoch 6/100\n",
      "37/37 [==============================] - 0s 8ms/step - loss: 0.6952 - accuracy: 0.4957\n",
      "Epoch 7/100\n",
      "37/37 [==============================] - 0s 8ms/step - loss: 0.6934 - accuracy: 0.4949\n",
      "Epoch 8/100\n",
      "37/37 [==============================] - 0s 8ms/step - loss: 0.6941 - accuracy: 0.4940\n",
      "Epoch 9/100\n",
      "37/37 [==============================] - 0s 8ms/step - loss: 0.6935 - accuracy: 0.4966\n",
      "Epoch 10/100\n",
      "37/37 [==============================] - 0s 8ms/step - loss: 0.6950 - accuracy: 0.4991\n",
      "Epoch 11/100\n",
      "37/37 [==============================] - 0s 8ms/step - loss: 0.6939 - accuracy: 0.4983\n",
      "Epoch 12/100\n",
      "37/37 [==============================] - 0s 8ms/step - loss: 0.6944 - accuracy: 0.4949\n",
      "Epoch 13/100\n",
      "37/37 [==============================] - 0s 8ms/step - loss: 0.6933 - accuracy: 0.4949\n",
      "Epoch 14/100\n",
      "37/37 [==============================] - 0s 8ms/step - loss: 0.6947 - accuracy: 0.4932\n",
      "Epoch 15/100\n",
      "37/37 [==============================] - 0s 8ms/step - loss: 0.6940 - accuracy: 0.4974\n",
      "Epoch 16/100\n",
      "37/37 [==============================] - 0s 8ms/step - loss: 0.6904 - accuracy: 0.5000\n",
      "Epoch 17/100\n",
      "37/37 [==============================] - 0s 8ms/step - loss: 0.6949 - accuracy: 0.4932\n",
      "Epoch 18/100\n",
      "37/37 [==============================] - 0s 8ms/step - loss: 0.6952 - accuracy: 0.4991\n",
      "Epoch 19/100\n",
      "37/37 [==============================] - 0s 8ms/step - loss: 0.6933 - accuracy: 0.4991\n",
      "Epoch 20/100\n",
      "37/37 [==============================] - 0s 8ms/step - loss: 0.6945 - accuracy: 0.4940\n",
      "Epoch 21/100\n",
      "37/37 [==============================] - 0s 8ms/step - loss: 0.6934 - accuracy: 0.5000\n",
      "Epoch 22/100\n",
      "37/37 [==============================] - 0s 8ms/step - loss: 0.6948 - accuracy: 0.4983\n",
      "Epoch 23/100\n",
      "37/37 [==============================] - 0s 8ms/step - loss: 0.6919 - accuracy: 0.4932\n",
      "Epoch 24/100\n",
      "37/37 [==============================] - 0s 8ms/step - loss: 0.6932 - accuracy: 0.4957\n",
      "Epoch 25/100\n",
      "37/37 [==============================] - 0s 8ms/step - loss: 0.6935 - accuracy: 0.4932\n",
      "Epoch 26/100\n",
      "37/37 [==============================] - 0s 8ms/step - loss: 0.6940 - accuracy: 0.4940\n",
      "Epoch 27/100\n",
      "37/37 [==============================] - 0s 8ms/step - loss: 0.6940 - accuracy: 0.4957\n",
      "Epoch 28/100\n",
      "37/37 [==============================] - 0s 8ms/step - loss: 0.6946 - accuracy: 0.4957\n",
      "Epoch 29/100\n",
      "37/37 [==============================] - 0s 8ms/step - loss: 0.6938 - accuracy: 0.4966\n",
      "Epoch 30/100\n",
      "37/37 [==============================] - 0s 8ms/step - loss: 0.6923 - accuracy: 0.4932\n",
      "Epoch 31/100\n",
      "37/37 [==============================] - 0s 8ms/step - loss: 0.6957 - accuracy: 0.5000\n",
      "Epoch 32/100\n",
      "37/37 [==============================] - 0s 8ms/step - loss: 0.6940 - accuracy: 0.4949\n",
      "Epoch 33/100\n",
      "37/37 [==============================] - 0s 8ms/step - loss: 0.6940 - accuracy: 0.4932\n",
      "Epoch 34/100\n",
      "37/37 [==============================] - 0s 8ms/step - loss: 0.6940 - accuracy: 0.4991\n",
      "Epoch 35/100\n",
      "37/37 [==============================] - 0s 8ms/step - loss: 0.6933 - accuracy: 0.4983\n",
      "Epoch 36/100\n",
      "37/37 [==============================] - 0s 8ms/step - loss: 0.6938 - accuracy: 0.4940\n",
      "Epoch 37/100\n",
      "37/37 [==============================] - 0s 8ms/step - loss: 0.6929 - accuracy: 0.5000\n",
      "Epoch 38/100\n",
      "37/37 [==============================] - 0s 8ms/step - loss: 0.6923 - accuracy: 0.4940\n",
      "Epoch 39/100\n",
      "37/37 [==============================] - 0s 8ms/step - loss: 0.6924 - accuracy: 0.4923\n",
      "Epoch 40/100\n",
      "37/37 [==============================] - 0s 8ms/step - loss: 0.6932 - accuracy: 0.4949\n",
      "Epoch 41/100\n",
      "37/37 [==============================] - 0s 8ms/step - loss: 0.6946 - accuracy: 0.4957\n",
      "Epoch 42/100\n",
      "37/37 [==============================] - 0s 8ms/step - loss: 0.6945 - accuracy: 0.4974\n",
      "Epoch 43/100\n",
      "37/37 [==============================] - 0s 8ms/step - loss: 0.6927 - accuracy: 0.5000\n",
      "Epoch 44/100\n",
      "37/37 [==============================] - 0s 8ms/step - loss: 0.6934 - accuracy: 0.4940\n",
      "Epoch 45/100\n",
      "37/37 [==============================] - 0s 8ms/step - loss: 0.6930 - accuracy: 0.4940\n",
      "Epoch 46/100\n",
      "37/37 [==============================] - 0s 8ms/step - loss: 0.6929 - accuracy: 0.4991\n",
      "Epoch 47/100\n",
      "37/37 [==============================] - 0s 8ms/step - loss: 0.6934 - accuracy: 0.4991\n",
      "Epoch 48/100\n",
      "37/37 [==============================] - 0s 8ms/step - loss: 0.6933 - accuracy: 0.5017\n",
      "Epoch 49/100\n",
      "37/37 [==============================] - 0s 8ms/step - loss: 0.6929 - accuracy: 0.4983\n",
      "Epoch 50/100\n",
      "37/37 [==============================] - 0s 8ms/step - loss: 0.6931 - accuracy: 0.4983\n",
      "Epoch 51/100\n",
      "37/37 [==============================] - 0s 8ms/step - loss: 0.6932 - accuracy: 0.4983\n",
      "Epoch 52/100\n",
      "37/37 [==============================] - 0s 8ms/step - loss: 0.6921 - accuracy: 0.5017\n",
      "Epoch 53/100\n",
      "37/37 [==============================] - 0s 8ms/step - loss: 0.6940 - accuracy: 0.4974\n",
      "Epoch 54/100\n",
      "37/37 [==============================] - 0s 8ms/step - loss: 0.6926 - accuracy: 0.5026\n",
      "Epoch 55/100\n",
      "37/37 [==============================] - 0s 8ms/step - loss: 0.6931 - accuracy: 0.4991\n",
      "Epoch 56/100\n",
      "37/37 [==============================] - 0s 8ms/step - loss: 0.6931 - accuracy: 0.4932\n",
      "Epoch 57/100\n",
      "37/37 [==============================] - 0s 8ms/step - loss: 0.6939 - accuracy: 0.5000\n",
      "Epoch 58/100\n",
      "37/37 [==============================] - 0s 8ms/step - loss: 0.6930 - accuracy: 0.4966\n",
      "Epoch 59/100\n",
      "37/37 [==============================] - 0s 8ms/step - loss: 0.6927 - accuracy: 0.4949\n",
      "Epoch 60/100\n",
      "37/37 [==============================] - 0s 12ms/step - loss: 0.6921 - accuracy: 0.4974\n",
      "Epoch 61/100\n",
      "37/37 [==============================] - 0s 8ms/step - loss: 0.6935 - accuracy: 0.4940\n",
      "Epoch 62/100\n",
      "37/37 [==============================] - 0s 8ms/step - loss: 0.6923 - accuracy: 0.4940\n",
      "Epoch 63/100\n",
      "37/37 [==============================] - 0s 8ms/step - loss: 0.6933 - accuracy: 0.4966\n",
      "Epoch 64/100\n",
      "37/37 [==============================] - 0s 8ms/step - loss: 0.6930 - accuracy: 0.4974\n",
      "Epoch 65/100\n",
      "37/37 [==============================] - 0s 8ms/step - loss: 0.6932 - accuracy: 0.4983\n",
      "Epoch 66/100\n",
      "37/37 [==============================] - 0s 8ms/step - loss: 0.6930 - accuracy: 0.4974\n",
      "Epoch 67/100\n",
      "37/37 [==============================] - 0s 8ms/step - loss: 0.6925 - accuracy: 0.4966\n",
      "Epoch 68/100\n",
      "37/37 [==============================] - 0s 8ms/step - loss: 0.6922 - accuracy: 0.4991\n",
      "Epoch 69/100\n",
      "37/37 [==============================] - 0s 8ms/step - loss: 0.6926 - accuracy: 0.5009\n",
      "Epoch 70/100\n",
      "37/37 [==============================] - 0s 8ms/step - loss: 0.6935 - accuracy: 0.4949\n",
      "Epoch 71/100\n",
      "37/37 [==============================] - 0s 8ms/step - loss: 0.6933 - accuracy: 0.4932\n",
      "Epoch 72/100\n",
      "37/37 [==============================] - 0s 8ms/step - loss: 0.6935 - accuracy: 0.4974\n",
      "Epoch 73/100\n",
      "37/37 [==============================] - 0s 8ms/step - loss: 0.6931 - accuracy: 0.4957\n",
      "Epoch 74/100\n",
      "37/37 [==============================] - 0s 8ms/step - loss: 0.6924 - accuracy: 0.4974\n",
      "Epoch 75/100\n",
      "37/37 [==============================] - 0s 8ms/step - loss: 0.6921 - accuracy: 0.4991\n",
      "Epoch 76/100\n",
      "37/37 [==============================] - 0s 8ms/step - loss: 0.6920 - accuracy: 0.4940\n",
      "Epoch 77/100\n",
      "37/37 [==============================] - 0s 8ms/step - loss: 0.6941 - accuracy: 0.4949\n",
      "Epoch 78/100\n",
      "37/37 [==============================] - 0s 8ms/step - loss: 0.6929 - accuracy: 0.4957\n",
      "Epoch 79/100\n",
      "37/37 [==============================] - 0s 8ms/step - loss: 0.6926 - accuracy: 0.4983\n",
      "Epoch 80/100\n",
      "37/37 [==============================] - 0s 8ms/step - loss: 0.6926 - accuracy: 0.4983\n",
      "Epoch 81/100\n",
      "37/37 [==============================] - 0s 8ms/step - loss: 0.6937 - accuracy: 0.4932\n",
      "Epoch 82/100\n",
      "37/37 [==============================] - 0s 8ms/step - loss: 0.6928 - accuracy: 0.5000\n",
      "Epoch 83/100\n"
     ]
    },
    {
     "name": "stdout",
     "output_type": "stream",
     "text": [
      "37/37 [==============================] - 0s 8ms/step - loss: 0.6929 - accuracy: 0.4974\n",
      "Epoch 84/100\n",
      "37/37 [==============================] - 0s 8ms/step - loss: 0.6922 - accuracy: 0.4957\n",
      "Epoch 85/100\n",
      "37/37 [==============================] - 0s 8ms/step - loss: 0.6939 - accuracy: 0.4966\n",
      "Epoch 86/100\n",
      "37/37 [==============================] - 0s 8ms/step - loss: 0.6927 - accuracy: 0.4974\n",
      "Epoch 87/100\n",
      "37/37 [==============================] - 0s 8ms/step - loss: 0.6924 - accuracy: 0.4974\n",
      "Epoch 88/100\n",
      "37/37 [==============================] - 0s 8ms/step - loss: 0.6921 - accuracy: 0.4949\n",
      "Epoch 89/100\n",
      "37/37 [==============================] - 0s 8ms/step - loss: 0.6929 - accuracy: 0.4983\n",
      "Epoch 90/100\n",
      "37/37 [==============================] - 0s 8ms/step - loss: 0.6930 - accuracy: 0.4983\n",
      "Epoch 91/100\n",
      "37/37 [==============================] - 0s 8ms/step - loss: 0.6930 - accuracy: 0.4949\n",
      "Epoch 92/100\n",
      "37/37 [==============================] - 0s 8ms/step - loss: 0.6921 - accuracy: 0.4932\n",
      "Epoch 93/100\n",
      "37/37 [==============================] - 0s 8ms/step - loss: 0.6921 - accuracy: 0.4949\n",
      "Epoch 94/100\n",
      "37/37 [==============================] - 0s 8ms/step - loss: 0.6925 - accuracy: 0.4966\n",
      "Epoch 95/100\n",
      "37/37 [==============================] - 0s 8ms/step - loss: 0.6936 - accuracy: 0.4991\n",
      "Epoch 96/100\n",
      "37/37 [==============================] - 0s 8ms/step - loss: 0.6921 - accuracy: 0.4991\n",
      "Epoch 97/100\n",
      "37/37 [==============================] - 0s 8ms/step - loss: 0.6941 - accuracy: 0.4983\n",
      "Epoch 98/100\n",
      "37/37 [==============================] - 0s 8ms/step - loss: 0.6916 - accuracy: 0.4932\n",
      "Epoch 99/100\n",
      "37/37 [==============================] - 0s 8ms/step - loss: 0.6924 - accuracy: 0.4974\n",
      "Epoch 100/100\n",
      "37/37 [==============================] - 0s 8ms/step - loss: 0.6916 - accuracy: 0.4983\n"
     ]
    },
    {
     "data": {
      "text/plain": [
       "<tensorflow.python.keras.callbacks.History at 0x7f713e4e48e0>"
      ]
     },
     "execution_count": 17,
     "metadata": {},
     "output_type": "execute_result"
    }
   ],
   "source": [
    "model.fit_generator(train,steps_per_epoch=len(X_train) // batch_size, verbose=True, epochs=100)"
   ]
  },
  {
   "cell_type": "code",
   "execution_count": null,
   "id": "6ebf2cc9",
   "metadata": {},
   "outputs": [],
   "source": []
  },
  {
   "cell_type": "code",
   "execution_count": 18,
   "id": "a8339b39",
   "metadata": {},
   "outputs": [
    {
     "data": {
      "text/plain": [
       "(<matplotlib.image.AxesImage at 0x7f706016c310>, 1)"
      ]
     },
     "execution_count": 18,
     "metadata": {},
     "output_type": "execute_result"
    },
    {
     "data": {
      "image/png": "[encoded data removed]",
      "text/plain": [
       "<Figure size 432x288 with 1 Axes>"
      ]
     },
     "metadata": {
      "needs_background": "light"
     },
     "output_type": "display_data"
    }
   ],
   "source": [
    "imshow(X_train[0,:,:,0]), y_train[0]"
   ]
  },
  {
   "cell_type": "code",
   "execution_count": 19,
   "id": "d42b5087",
   "metadata": {},
   "outputs": [],
   "source": [
    "from sklearn.ensemble import RandomForestClassifier"
   ]
  },
  {
   "cell_type": "code",
   "execution_count": 20,
   "id": "e86f917c",
   "metadata": {},
   "outputs": [],
   "source": [
    "rf = RandomForestClassifier(n_estimators=100)"
   ]
  },
  {
   "cell_type": "code",
   "execution_count": 21,
   "id": "dc9ab29e",
   "metadata": {},
   "outputs": [
    {
     "data": {
      "text/plain": [
       "RandomForestClassifier()"
      ]
     },
     "execution_count": 21,
     "metadata": {},
     "output_type": "execute_result"
    }
   ],
   "source": [
    "X_train_raveled = X_train.reshape(X_train.shape[0], X_train.shape[1]*X_train.shape[2])\n",
    "X_test_raveled = X_test.reshape(X_test.shape[0], X_test.shape[1]*X_test.shape[2])\n",
    "\n",
    "rf.fit(X_train_raveled, y_train)"
   ]
  },
  {
   "cell_type": "code",
   "execution_count": 22,
   "id": "8ac29818",
   "metadata": {},
   "outputs": [],
   "source": [
    "y_pred = rf.predict(X_test_raveled)"
   ]
  },
  {
   "cell_type": "code",
   "execution_count": 23,
   "id": "bdb74ba1",
   "metadata": {},
   "outputs": [],
   "source": [
    "import sklearn.metrics"
   ]
  },
  {
   "cell_type": "code",
   "execution_count": 24,
   "id": "00fb66ca",
   "metadata": {},
   "outputs": [
    {
     "data": {
      "text/plain": [
       "0.8967136150234741"
      ]
     },
     "execution_count": 24,
     "metadata": {},
     "output_type": "execute_result"
    }
   ],
   "source": [
    "sklearn.metrics.accuracy_score(y_test, y_pred)"
   ]
  },
  {
   "cell_type": "code",
   "execution_count": 25,
   "id": "c3b584e9",
   "metadata": {},
   "outputs": [
    {
     "data": {
      "text/plain": [
       "0.8952380952380953"
      ]
     },
     "execution_count": 25,
     "metadata": {},
     "output_type": "execute_result"
    }
   ],
   "source": [
    "sklearn.metrics.f1_score(y_test, y_pred)"
   ]
  },
  {
   "cell_type": "code",
   "execution_count": 26,
   "id": "49ac9daf",
   "metadata": {},
   "outputs": [
    {
     "data": {
      "text/plain": [
       "array([1, 0, 0, 1, 1, 1, 1, 1, 0, 0, 1, 1, 0, 0, 0, 1, 1, 1, 0, 1, 0, 0,\n",
       "       0, 1, 0, 1, 1, 1, 1, 0, 0, 0, 0, 0, 1, 1, 0, 1, 0, 0, 0, 1, 1, 1,\n",
       "       1, 0, 1, 1, 0, 1, 0, 1, 0, 0, 0, 0, 1, 1, 0, 1, 1, 0, 0, 0, 1, 0,\n",
       "       1, 0, 0, 0, 0, 1, 1, 0, 1, 0, 1, 1, 0, 0, 0, 0, 1, 0, 0, 1, 1, 0,\n",
       "       0, 1, 1, 0, 0, 0, 1, 0, 0, 0, 1, 0, 0, 0, 1, 1, 1, 0, 0, 1, 0, 1,\n",
       "       1, 0, 0, 1, 1, 1, 1, 0, 1, 1, 1, 1, 1, 0, 1, 1, 0, 0, 1, 0, 1, 1,\n",
       "       1, 1, 0, 0, 1, 1, 0, 0, 0, 0, 1, 1, 0, 0, 0, 0, 1, 0, 0, 1, 0, 0,\n",
       "       1, 0, 0, 1, 1, 0, 1, 1, 0, 1, 1, 1, 1, 0, 1, 0, 0, 1, 0, 0, 1, 1,\n",
       "       0, 0, 1, 1, 1, 0, 0, 1, 1, 1, 0, 1, 0, 1, 1, 0, 1, 1, 0, 1, 1, 0,\n",
       "       0, 1, 1, 0, 0, 0, 0, 1, 0, 0, 0, 0, 1, 0, 0])"
      ]
     },
     "execution_count": 26,
     "metadata": {},
     "output_type": "execute_result"
    }
   ],
   "source": [
    "y_pred"
   ]
  },
  {
   "cell_type": "code",
   "execution_count": 27,
   "id": "58500303",
   "metadata": {},
   "outputs": [
    {
     "data": {
      "text/plain": [
       "array([1, 0, 0, 1, 1, 1, 1, 1, 0, 0, 1, 1, 0, 0, 1, 1, 1, 1, 0, 1, 0, 0,\n",
       "       0, 1, 0, 1, 1, 1, 1, 0, 0, 1, 0, 0, 1, 1, 0, 1, 0, 1, 0, 1, 1, 1,\n",
       "       1, 0, 1, 0, 0, 1, 0, 1, 0, 0, 0, 0, 1, 0, 0, 1, 1, 0, 1, 0, 0, 0,\n",
       "       1, 0, 0, 0, 0, 1, 0, 0, 1, 0, 1, 1, 0, 0, 1, 0, 1, 0, 0, 0, 1, 1,\n",
       "       0, 1, 1, 0, 0, 0, 1, 1, 0, 0, 0, 0, 1, 0, 1, 1, 1, 0, 0, 1, 0, 1,\n",
       "       1, 0, 1, 1, 1, 1, 1, 0, 1, 0, 1, 1, 1, 0, 1, 1, 0, 0, 1, 0, 1, 1,\n",
       "       1, 1, 0, 0, 1, 1, 0, 0, 0, 1, 1, 1, 0, 0, 0, 1, 1, 0, 0, 0, 0, 0,\n",
       "       1, 0, 0, 1, 1, 0, 1, 1, 0, 1, 1, 1, 1, 0, 1, 0, 0, 1, 0, 0, 1, 1,\n",
       "       0, 0, 1, 1, 1, 0, 0, 1, 1, 1, 0, 1, 0, 1, 1, 0, 0, 1, 0, 1, 1, 0,\n",
       "       0, 1, 1, 0, 0, 0, 0, 1, 0, 0, 0, 0, 0, 0, 1])"
      ]
     },
     "execution_count": 27,
     "metadata": {},
     "output_type": "execute_result"
    }
   ],
   "source": [
    "y_test"
   ]
  },
  {
   "cell_type": "code",
   "execution_count": null,
   "id": "b1749c58",
   "metadata": {},
   "outputs": [],
   "source": []
  },
  {
   "cell_type": "code",
   "execution_count": null,
   "id": "3e063208",
   "metadata": {},
   "outputs": [],
   "source": []
  },
  {
   "cell_type": "code",
   "execution_count": null,
   "id": "8e198515",
   "metadata": {},
   "outputs": [],
   "source": []
  },
  {
   "cell_type": "code",
   "execution_count": null,
   "id": "79462ebd",
   "metadata": {},
   "outputs": [],
   "source": []
  },
  {
   "cell_type": "code",
   "execution_count": null,
   "id": "d78b0285",
   "metadata": {},
   "outputs": [],
   "source": []
  },
  {
   "cell_type": "code",
   "execution_count": null,
   "id": "71e8716d",
   "metadata": {},
   "outputs": [],
   "source": []
  },
  {
   "cell_type": "code",
   "execution_count": null,
   "id": "500b2532",
   "metadata": {},
   "outputs": [],
   "source": []
  },
  {
   "cell_type": "code",
   "execution_count": null,
   "id": "fa1dfd74",
   "metadata": {},
   "outputs": [],
   "source": []
  }
 ],
 "metadata": {
  "kernelspec": {
   "display_name": "Python 3 (ipykernel)",
   "language": "python",
   "name": "python3"
  },
  "language_info": {
   "codemirror_mode": {
    "name": "ipython",
    "version": 3
   },
   "file_extension": ".py",
   "mimetype": "text/x-python",
   "name": "python",
   "nbconvert_exporter": "python",
   "pygments_lexer": "ipython3",
   "version": "3.9.7"
  }
 },
 "nbformat": 4,
 "nbformat_minor": 5
}
