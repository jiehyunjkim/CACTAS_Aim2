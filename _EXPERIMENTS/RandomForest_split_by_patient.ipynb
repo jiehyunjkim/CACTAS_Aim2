{
 "cells": [
  {
   "cell_type": "code",
   "execution_count": 1,
   "id": "ab21c4e1",
   "metadata": {},
   "outputs": [
    {
     "name": "stdout",
     "output_type": "stream",
     "text": [
      "Populating the interactive namespace from numpy and matplotlib\n"
     ]
    }
   ],
   "source": [
    "%pylab inline"
   ]
  },
  {
   "cell_type": "code",
   "execution_count": 2,
   "id": "00e55144",
   "metadata": {},
   "outputs": [
    {
     "name": "stderr",
     "output_type": "stream",
     "text": [
      "/home/jiehyun.kim001/miniconda3/envs/O/lib/python3.9/site-packages/scipy/__init__.py:146: UserWarning: A NumPy version >=1.16.5 and <1.23.0 is required for this version of SciPy (detected version 1.23.4\n",
      "  warnings.warn(f\"A NumPy version >={np_minversion} and <{np_maxversion}\"\n"
     ]
    }
   ],
   "source": [
    "from sklearn.utils import shuffle\n",
    "from sklearn.model_selection import train_test_split\n",
    "from sklearn.ensemble import RandomForestClassifier\n",
    "import sklearn.metrics\n",
    "from scipy import stats\n",
    "import json"
   ]
  },
  {
   "cell_type": "code",
   "execution_count": 3,
   "id": "5259f6f4",
   "metadata": {},
   "outputs": [],
   "source": [
    "import cactas as C"
   ]
  },
  {
   "cell_type": "code",
   "execution_count": null,
   "id": "318ad02f",
   "metadata": {},
   "outputs": [],
   "source": []
  },
  {
   "cell_type": "code",
   "execution_count": 4,
   "id": "70bb7ff1",
   "metadata": {},
   "outputs": [],
   "source": [
    "asymp = np.load('/raid/mpsych/CACTAS/DATA/ESUS/asymp_cropped_no_norm.npy')\n",
    "symp = np.load('/raid/mpsych/CACTAS/DATA/ESUS/symp_cropped_no_norm.npy')"
   ]
  },
  {
   "cell_type": "code",
   "execution_count": 5,
   "id": "45b5fe91",
   "metadata": {},
   "outputs": [],
   "source": [
    "labels = np.array([0]*len(asymp) + [1]*len(symp))\n",
    "images = np.concatenate((asymp, symp))"
   ]
  },
  {
   "cell_type": "code",
   "execution_count": null,
   "id": "5710a117",
   "metadata": {},
   "outputs": [],
   "source": []
  },
  {
   "cell_type": "code",
   "execution_count": 6,
   "id": "715fe2f8",
   "metadata": {},
   "outputs": [],
   "source": [
    "def split(images, labels, val_size=0.15):\n",
    "    with open(\"symp_data.json\", \"r\") as fp:\n",
    "        symp_data = json.load(fp)\n",
    "    with open(\"asymp_data.json\", \"r\") as fp:\n",
    "        asymp_data = json.load(fp)\n",
    "        \n",
    "    diffs = []\n",
    "    prev_val = None\n",
    "    for key in sorted(symp_data.keys(), key=int):\n",
    "        val = symp_data[key]\n",
    "        if prev_val is not None:\n",
    "            diff = val - prev_val\n",
    "            diffs.append(diff)\n",
    "        prev_val = val\n",
    "\n",
    "\n",
    "    symp_list = [711]\n",
    "    result = 711\n",
    "    for i in diffs:\n",
    "        result += i\n",
    "        symp_list.append(result)\n",
    "        \n",
    "    values = list(asymp_data.values()) + symp_list\n",
    "        \n",
    "    length = images.shape[0]\n",
    "    num = round(length * (1 - val_size))\n",
    "\n",
    "    nearest_bigger_value = None\n",
    "    for value in values:\n",
    "        if value > num:\n",
    "            if nearest_bigger_value is None or value < nearest_bigger_value:\n",
    "                nearest_bigger_value = value\n",
    "\n",
    "    index = values.index(nearest_bigger_value) \n",
    "\n",
    "    X_train = images[0:values[index]] \n",
    "    y_train = labels[0:values[index]]\n",
    "    X_val = images[values[index]:]\n",
    "    y_val = labels[values[index]:]\n",
    "    \n",
    "    return X_train, X_val, y_train, y_val"
   ]
  },
  {
   "cell_type": "code",
   "execution_count": null,
   "id": "7faa58ac",
   "metadata": {},
   "outputs": [],
   "source": []
  },
  {
   "cell_type": "code",
   "execution_count": 7,
   "id": "238565be",
   "metadata": {},
   "outputs": [
    {
     "name": "stdout",
     "output_type": "stream",
     "text": [
      "run 0 acc 0.9224806201550387 f1 0.923076923076923\n",
      "test run 0 acc 0.5349329569513056 f1 0.6432051976177585\n",
      "run 1 acc 0.9224806201550387 f1 0.9264705882352942\n",
      "test run 1 acc 0.5314043754410727 f1 0.6559585492227978\n",
      "run 2 acc 0.8992248062015504 f1 0.9022556390977443\n",
      "test run 2 acc 0.547635850388144 f1 0.6559312936124531\n",
      "run 3 acc 0.9224806201550387 f1 0.9242424242424244\n",
      "test run 3 acc 0.544107268877911 f1 0.653061224489796\n",
      "run 4 acc 0.8837209302325582 f1 0.888888888888889\n",
      "test run 4 acc 0.5412844036697247 f1 0.658254468980021\n",
      "run 5 acc 0.9224806201550387 f1 0.9264705882352942\n",
      "test run 5 acc 0.5314043754410727 f1 0.6584362139917694\n",
      "run 6 acc 0.9069767441860465 f1 0.9076923076923077\n",
      "test run 6 acc 0.5314043754410727 f1 0.6379498364231189\n",
      "run 7 acc 0.937984496124031 f1 0.9402985074626866\n",
      "test run 7 acc 0.5391672547635851 f1 0.6509887760555852\n",
      "run 8 acc 0.9069767441860465 f1 0.9090909090909091\n",
      "test run 8 acc 0.5377558221594919 f1 0.6476600322754169\n",
      "run 9 acc 0.9147286821705426 f1 0.9172932330827067\n",
      "test run 9 acc 0.5490472829922372 f1 0.642417459429211\n"
     ]
    }
   ],
   "source": [
    "train_f1 = []\n",
    "test_f1 = []\n",
    "for i in range(10):\n",
    "    X, y = shuffle(images, labels, random_state=0)\n",
    "    X_train, X_val, y_train, y_val = split(X, y, val_size=0.10)\n",
    "    rf = RandomForestClassifier(n_estimators=100)\n",
    "    \n",
    "    X_train_raveled = X_train.reshape(X_train.shape[0], X_train.shape[1]*X_train.shape[2])\n",
    "    X_val_raveled = X_val.reshape(X_val.shape[0], X_val.shape[1]*X_val.shape[2])\n",
    "\n",
    "    fitted = rf.fit(X_train_raveled, y_train)\n",
    "    \n",
    "    y_pred = rf.predict(X_val_raveled)\n",
    "    \n",
    "    \n",
    "    f1 = sklearn.metrics.f1_score(y_val, y_pred)\n",
    "    train_f1.append(f1)\n",
    "    print('run', i, 'acc', sklearn.metrics.accuracy_score(y_val, y_pred), 'f1', f1)\n",
    "    \n",
    "    asymp_test = np.load('/raid/mpsych/CACTAS/DATA/ESUS/asymp_cropped.npy')\n",
    "    symp_test = np.load('/raid/mpsych/CACTAS/DATA/ESUS/symp_cropped.npy')\n",
    "\n",
    "    labels_test = np.array([0]*len(asymp_test) + [1]*len(symp_test))\n",
    "    images_test = np.concatenate((asymp_test, symp_test))\n",
    "    \n",
    "    X_test, y_test = shuffle(images_test, labels_test, random_state=0)\n",
    "    \n",
    "    X_test_raveled = X_test.reshape(X_test.shape[0], X_test.shape[1]*X_test.shape[2])\n",
    "    \n",
    "    y_pred = rf.predict(X_test_raveled)\n",
    "    \n",
    "    test_acc = sklearn.metrics.accuracy_score(y_test, y_pred)\n",
    "    c_test_f1 = sklearn.metrics.f1_score(y_test, y_pred)\n",
    "    print('test run', i, 'acc', test_acc, 'f1', c_test_f1)\n",
    "    \n",
    "    test_f1.append(c_test_f1)"
   ]
  },
  {
   "cell_type": "code",
   "execution_count": null,
   "id": "b4909f34",
   "metadata": {},
   "outputs": [],
   "source": []
  },
  {
   "cell_type": "code",
   "execution_count": null,
   "id": "4a831d4b",
   "metadata": {},
   "outputs": [],
   "source": []
  },
  {
   "cell_type": "code",
   "execution_count": 8,
   "id": "61f2c4ae",
   "metadata": {},
   "outputs": [],
   "source": [
    "def boxplot(all_data, labels, y_label='Time [s]', y_lim_min=0, y_lim=1000, title=None, outputdir='/home/jiehyun.kim001/CACTAS/_EXPERIMENTS/'):\n",
    "    matplotlib.rcParams.update({'font.size': 32})\n",
    "    plt.rc('axes', labelsize=65)    # fontsize of the x and y labels\n",
    "    plt.rc('legend', fontsize=32)   \n",
    "    plt.rc('xtick', labelsize=42) \n",
    "\n",
    "    # fig, (ax1, ax2) = plt.subplots(nrows=1, ncols=1, figsize=(9, 4))\n",
    "    fig = plt.figure(figsize=(7, 13))\n",
    "    ax = fig.gca()\n",
    "    # ax1 = plt.gcf()\n",
    "    boxprops = dict(color=\"black\",linewidth=1.5)\n",
    "    medianprops = dict(color=\"black\",linewidth=1.5)\n",
    "    # rectangular box plot\n",
    "    bplot1 = plt.boxplot(all_data,\n",
    "                         vert=True,  # vertical box alignment\n",
    "                         patch_artist=True,  # fill with color\n",
    "                         labels=labels,\n",
    "                         boxprops=boxprops,\n",
    "                         medianprops=medianprops)  # will be used to label x-ticks\n",
    "\n",
    "    # fill with colors\n",
    "    colors = ['#af8dc3', '#7fbf7b']\n",
    "    # for bplot in (bplot1, bplot2):\n",
    "    for patch, color in zip(bplot1['boxes'], colors):\n",
    "        patch.set_facecolor(color)\n",
    "\n",
    "    ax.set_ylabel(y_label)\n",
    "    ax.set_ylim(y_lim_min,y_lim)\n",
    "\n",
    "    titleb = title\n",
    "    if not title:\n",
    "        titleb = 'figure.pdf'\n",
    "\n",
    "\n",
    "\n",
    "    filename_pdf = outputdir+'/'+titleb.replace(' ','_').replace(',','')+'.pdf'\n",
    "    filename_png = outputdir+'/'+titleb.replace(' ','_').replace(',','')+'.png'\n",
    "    plt.savefig(filename_pdf,bbox_inches='tight')\n",
    "    plt.savefig(filename_png,bbox_inches='tight')\n",
    "\n",
    "    if title:\n",
    "        plt.title(title)\n",
    "\n",
    "\n",
    "    plt.show()\n",
    "\n",
    "\n",
    "\n",
    "    print(labels[0], np.mean(all_data[0]),'+/-', np.std(all_data[0]))\n",
    "    print(labels[1], np.mean(all_data[1]),'+/-', np.std(all_data[1]))\n",
    "\n",
    "    ttest = stats.ttest_ind(all_data[0],all_data[1])\n",
    "\n",
    "    print('t_'+str(len(all_data[0]+all_data[1])), '=', str(round(ttest[0],3)), ',p=',str(round(ttest[1],2)))"
   ]
  },
  {
   "cell_type": "code",
   "execution_count": 9,
   "id": "41a0b11f",
   "metadata": {},
   "outputs": [
    {
     "data": {
      "image/png": "[encoded data removed]",
      "text/plain": [
       "<Figure size 504x936 with 1 Axes>"
      ]
     },
     "metadata": {
      "needs_background": "light"
     },
     "output_type": "display_data"
    },
    {
     "name": "stdout",
     "output_type": "stream",
     "text": [
      "Train 0.9165780009105179 +/- 0.014023940212257176\n",
      "Test 0.6503863052097929 +/- 0.006878903443366833\n",
      "t_20 = 51.125 ,p= 0.0\n"
     ]
    }
   ],
   "source": [
    "data = [train_f1, test_f1]\n",
    "labels = ['Train', 'Test']\n",
    "boxplot(data, labels, y_lim=1, y_label='F1 Score', outputdir='/home/jiehyun.kim001/CACTAS/_EXPERIMENTS/')"
   ]
  },
  {
   "cell_type": "code",
   "execution_count": null,
   "id": "25d15f50",
   "metadata": {},
   "outputs": [],
   "source": []
  },
  {
   "cell_type": "code",
   "execution_count": null,
   "id": "a77bc66b",
   "metadata": {},
   "outputs": [],
   "source": []
  },
  {
   "cell_type": "code",
   "execution_count": null,
   "id": "56f64638",
   "metadata": {},
   "outputs": [],
   "source": []
  }
 ],
 "metadata": {
  "kernelspec": {
   "display_name": "Python 3 (ipykernel)",
   "language": "python",
   "name": "python3"
  },
  "language_info": {
   "codemirror_mode": {
    "name": "ipython",
    "version": 3
   },
   "file_extension": ".py",
   "mimetype": "text/x-python",
   "name": "python",
   "nbconvert_exporter": "python",
   "pygments_lexer": "ipython3",
   "version": "3.9.7"
  }
 },
 "nbformat": 4,
 "nbformat_minor": 5
}
