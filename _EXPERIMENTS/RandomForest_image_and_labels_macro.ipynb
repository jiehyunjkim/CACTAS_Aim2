{
 "cells": [
  {
   "cell_type": "code",
   "execution_count": 1,
   "id": "47947e2d",
   "metadata": {},
   "outputs": [
    {
     "name": "stdout",
     "output_type": "stream",
     "text": [
      "Populating the interactive namespace from numpy and matplotlib\n"
     ]
    }
   ],
   "source": [
    "%pylab inline"
   ]
  },
  {
   "cell_type": "code",
   "execution_count": 2,
   "id": "cbc12529",
   "metadata": {},
   "outputs": [
    {
     "name": "stderr",
     "output_type": "stream",
     "text": [
      "2023-04-28 00:42:32.439634: I tensorflow/stream_executor/platform/default/dso_loader.cc:53] Successfully opened dynamic library libcudart.so.11.0\n",
      "/home/jiehyun.kim001/miniconda3/envs/O/lib/python3.9/site-packages/scipy/__init__.py:146: UserWarning: A NumPy version >=1.16.5 and <1.23.0 is required for this version of SciPy (detected version 1.23.4\n",
      "  warnings.warn(f\"A NumPy version >={np_minversion} and <{np_maxversion}\"\n"
     ]
    }
   ],
   "source": [
    "import tensorflow\n",
    "import keras\n",
    "from tensorflow.keras.applications import VGG19\n",
    "from tensorflow.keras.preprocessing.image import ImageDataGenerator\n",
    "import tensorflow.keras.layers as layers\n",
    "from sklearn.utils import shuffle\n",
    "from sklearn.model_selection import train_test_split\n",
    "from sklearn.ensemble import RandomForestClassifier\n",
    "import sklearn.metrics\n",
    "from scipy import stats\n",
    "import json"
   ]
  },
  {
   "cell_type": "code",
   "execution_count": 3,
   "id": "69c240cb",
   "metadata": {},
   "outputs": [],
   "source": [
    "import cactas as C"
   ]
  },
  {
   "cell_type": "code",
   "execution_count": 4,
   "id": "4f990e7e",
   "metadata": {},
   "outputs": [],
   "source": [
    "asymp_img = np.load('/raid/mpsych/CACTAS/DATA/ESUS/asymp_cropped_no_norm.npy')\n",
    "symp_img = np.load('/raid/mpsych/CACTAS/DATA/ESUS/symp_cropped_no_norm.npy')\n",
    "asymp_label = np.load('/raid/mpsych/CACTAS/DATA/ESUS/asymp_cropped_labels_no_norm.npy')\n",
    "symp_label = np.load('/raid/mpsych/CACTAS/DATA/ESUS/symp_cropped_labels_no_norm.npy')"
   ]
  },
  {
   "cell_type": "code",
   "execution_count": 5,
   "id": "00a2adce",
   "metadata": {},
   "outputs": [],
   "source": [
    "labels = np.concatenate((asymp_label, symp_label))\n",
    "images = np.concatenate((asymp_img, symp_img))"
   ]
  },
  {
   "cell_type": "code",
   "execution_count": 6,
   "id": "7fee97ce",
   "metadata": {},
   "outputs": [
    {
     "data": {
      "text/plain": [
       "(1417, 28, 28, 1)"
      ]
     },
     "execution_count": 6,
     "metadata": {},
     "output_type": "execute_result"
    }
   ],
   "source": [
    "labels.shape"
   ]
  },
  {
   "cell_type": "code",
   "execution_count": 7,
   "id": "60633cdc",
   "metadata": {},
   "outputs": [
    {
     "data": {
      "text/plain": [
       "(1417, 28, 28, 1)"
      ]
     },
     "execution_count": 7,
     "metadata": {},
     "output_type": "execute_result"
    }
   ],
   "source": [
    "images.shape"
   ]
  },
  {
   "cell_type": "code",
   "execution_count": null,
   "id": "f2a3904f",
   "metadata": {},
   "outputs": [],
   "source": []
  },
  {
   "cell_type": "code",
   "execution_count": 8,
   "id": "c0db6ebd",
   "metadata": {},
   "outputs": [],
   "source": [
    "with open(\"symp_data.json\", \"r\") as fp:\n",
    "    symp_data = json.load(fp)\n",
    "with open(\"asymp_data.json\", \"r\") as fp:\n",
    "    asymp_data = json.load(fp)"
   ]
  },
  {
   "cell_type": "code",
   "execution_count": null,
   "id": "e1d5b56a",
   "metadata": {},
   "outputs": [],
   "source": []
  },
  {
   "cell_type": "code",
   "execution_count": 9,
   "id": "74cb6436",
   "metadata": {},
   "outputs": [
    {
     "name": "stdout",
     "output_type": "stream",
     "text": [
      "[4, 8, 15, 18, 22, 14, 8, 18, 6, 5, 19, 20, 11, 8, 24, 3, 17, 13, 12, 26, 10, 4, 2, 5, 11, 5, 3, 2, 2, 31, 25, 10, 17, 3, 5, 6, 7, 9, 4, 4, 4, 15, 6, 9, 7, 10, 16, 17, 7, 6, 5, 20, 19, 30, 4, 65, 6, 7]\n"
     ]
    }
   ],
   "source": [
    "diffs = []\n",
    "prev_val = None\n",
    "for key in sorted(symp_data.keys(), key=int):\n",
    "    val = symp_data[key]\n",
    "    if prev_val is not None:\n",
    "        diff = val - prev_val\n",
    "        diffs.append(diff)\n",
    "    prev_val = val\n",
    "\n",
    "print(diffs)"
   ]
  },
  {
   "cell_type": "code",
   "execution_count": null,
   "id": "68af3572",
   "metadata": {},
   "outputs": [],
   "source": []
  },
  {
   "cell_type": "code",
   "execution_count": 10,
   "id": "89e9cb04",
   "metadata": {},
   "outputs": [],
   "source": [
    "symp_list = [711]\n",
    "result = 711\n",
    "for i in diffs:\n",
    "    result += i\n",
    "    symp_list.append(result)"
   ]
  },
  {
   "cell_type": "code",
   "execution_count": 11,
   "id": "17b4d81e",
   "metadata": {},
   "outputs": [],
   "source": [
    "values = list(asymp_data.values()) + symp_list"
   ]
  },
  {
   "cell_type": "code",
   "execution_count": 16,
   "id": "e6200608",
   "metadata": {},
   "outputs": [
    {
     "data": {
      "text/plain": [
       "[0,\n",
       " 10,\n",
       " 42,\n",
       " 53,\n",
       " 66,\n",
       " 89,\n",
       " 98,\n",
       " 119,\n",
       " 161,\n",
       " 188,\n",
       " 212,\n",
       " 245,\n",
       " 256,\n",
       " 259,\n",
       " 281,\n",
       " 294,\n",
       " 300,\n",
       " 326,\n",
       " 352,\n",
       " 359,\n",
       " 360,\n",
       " 363,\n",
       " 367,\n",
       " 372,\n",
       " 384,\n",
       " 386,\n",
       " 397,\n",
       " 410,\n",
       " 435,\n",
       " 477,\n",
       " 478,\n",
       " 486,\n",
       " 491,\n",
       " 501,\n",
       " 511,\n",
       " 516,\n",
       " 523,\n",
       " 538,\n",
       " 553,\n",
       " 561,\n",
       " 569,\n",
       " 581,\n",
       " 592,\n",
       " 595,\n",
       " 598,\n",
       " 600,\n",
       " 607,\n",
       " 612,\n",
       " 623,\n",
       " 632,\n",
       " 693,\n",
       " 697,\n",
       " 710,\n",
       " 711,\n",
       " 715,\n",
       " 723,\n",
       " 738,\n",
       " 756,\n",
       " 778,\n",
       " 792,\n",
       " 800,\n",
       " 818,\n",
       " 824,\n",
       " 829,\n",
       " 848,\n",
       " 868,\n",
       " 879,\n",
       " 887,\n",
       " 911,\n",
       " 914,\n",
       " 931,\n",
       " 944,\n",
       " 956,\n",
       " 982,\n",
       " 992,\n",
       " 996,\n",
       " 998,\n",
       " 1003,\n",
       " 1014,\n",
       " 1019,\n",
       " 1022,\n",
       " 1024,\n",
       " 1026,\n",
       " 1057,\n",
       " 1082,\n",
       " 1092,\n",
       " 1109,\n",
       " 1112,\n",
       " 1117,\n",
       " 1123,\n",
       " 1130,\n",
       " 1139,\n",
       " 1143,\n",
       " 1147,\n",
       " 1151,\n",
       " 1166,\n",
       " 1172,\n",
       " 1181,\n",
       " 1188,\n",
       " 1198,\n",
       " 1214,\n",
       " 1231,\n",
       " 1238,\n",
       " 1244,\n",
       " 1249,\n",
       " 1269,\n",
       " 1288,\n",
       " 1318,\n",
       " 1322,\n",
       " 1387,\n",
       " 1393,\n",
       " 1400]"
      ]
     },
     "execution_count": 16,
     "metadata": {},
     "output_type": "execute_result"
    }
   ],
   "source": [
    "values"
   ]
  },
  {
   "cell_type": "code",
   "execution_count": 17,
   "id": "de565255",
   "metadata": {},
   "outputs": [
    {
     "data": {
      "text/plain": [
       "112"
      ]
     },
     "execution_count": 17,
     "metadata": {},
     "output_type": "execute_result"
    }
   ],
   "source": [
    "len(values)"
   ]
  },
  {
   "cell_type": "code",
   "execution_count": null,
   "id": "ddf4ff32",
   "metadata": {},
   "outputs": [],
   "source": []
  },
  {
   "cell_type": "code",
   "execution_count": 25,
   "id": "10cda891",
   "metadata": {},
   "outputs": [
    {
     "data": {
      "text/plain": [
       "11"
      ]
     },
     "execution_count": 25,
     "metadata": {},
     "output_type": "execute_result"
    }
   ],
   "source": [
    "values[::-1].index(1214)\n"
   ]
  },
  {
   "cell_type": "code",
   "execution_count": null,
   "id": "b2a5a0ea",
   "metadata": {},
   "outputs": [],
   "source": []
  },
  {
   "cell_type": "code",
   "execution_count": 28,
   "id": "4b4c2639",
   "metadata": {},
   "outputs": [
    {
     "name": "stdout",
     "output_type": "stream",
     "text": [
      "83\n"
     ]
    }
   ],
   "source": [
    "items = list(symp_data.items())  # convert the dictionary to a list of key-value pairs\n",
    "key = items[-11][0]      # access the key at the 11th index from the end\n",
    "print(key)  "
   ]
  },
  {
   "cell_type": "code",
   "execution_count": null,
   "id": "82ec2a40",
   "metadata": {},
   "outputs": [],
   "source": [
    "index = values[::-1].index(nearest_bigger_value)    \n",
    "items = list(symp_data.items())  \n",
    "key = items[-index][0] "
   ]
  },
  {
   "cell_type": "code",
   "execution_count": null,
   "id": "605196e5",
   "metadata": {},
   "outputs": [],
   "source": []
  },
  {
   "cell_type": "code",
   "execution_count": null,
   "id": "188aa9ff",
   "metadata": {},
   "outputs": [],
   "source": []
  },
  {
   "cell_type": "code",
   "execution_count": null,
   "id": "5a33691f",
   "metadata": {},
   "outputs": [],
   "source": []
  },
  {
   "cell_type": "code",
   "execution_count": null,
   "id": "5c47a0da",
   "metadata": {},
   "outputs": [],
   "source": []
  },
  {
   "cell_type": "code",
   "execution_count": null,
   "id": "72e8b517",
   "metadata": {},
   "outputs": [],
   "source": []
  },
  {
   "cell_type": "code",
   "execution_count": 8,
   "id": "0064e24b",
   "metadata": {},
   "outputs": [],
   "source": [
    "def split(images, labels, val_size=0.15):\n",
    "    with open(\"symp_data.json\", \"r\") as fp:\n",
    "        symp_data = json.load(fp)\n",
    "    with open(\"asymp_data.json\", \"r\") as fp:\n",
    "        asymp_data = json.load(fp)\n",
    "        \n",
    "    diffs = []\n",
    "    prev_val = None\n",
    "    for key in sorted(symp_data.keys(), key=int):\n",
    "        val = symp_data[key]\n",
    "        if prev_val is not None:\n",
    "            diff = val - prev_val\n",
    "            diffs.append(diff)\n",
    "        prev_val = val\n",
    "\n",
    "\n",
    "    symp_list = [711]\n",
    "    result = 711\n",
    "    for i in diffs:\n",
    "        result += i\n",
    "        symp_list.append(result)\n",
    "        \n",
    "    values = list(asymp_data.values()) + symp_list\n",
    "        \n",
    "    length = images.shape[0]\n",
    "    num = round(length * (1 - val_size))\n",
    "\n",
    "    nearest_bigger_value = None\n",
    "    for value in values:\n",
    "        if value > num:\n",
    "            if nearest_bigger_value is None or value < nearest_bigger_value:\n",
    "                nearest_bigger_value = value\n",
    "\n",
    "    index = values.index(nearest_bigger_value) \n",
    "\n",
    "    X_train = images[0:values[index]] \n",
    "    y_train = labels[0:values[index]]\n",
    "    X_val = images[values[index]:]\n",
    "    y_val = labels[values[index]:]\n",
    "    \n",
    "    return X_train, X_val, y_train, y_val"
   ]
  },
  {
   "cell_type": "code",
   "execution_count": 9,
   "id": "f63a8400",
   "metadata": {},
   "outputs": [],
   "source": [
    "#X, y = shuffle(images, labels, random_state=0)\n",
    "#X_train, X_val, y_train, y_val = split(X, y, val_size=0.15)"
   ]
  },
  {
   "cell_type": "code",
   "execution_count": null,
   "id": "f6fc8020",
   "metadata": {},
   "outputs": [],
   "source": []
  },
  {
   "cell_type": "code",
   "execution_count": null,
   "id": "19ec73bf",
   "metadata": {},
   "outputs": [],
   "source": []
  },
  {
   "cell_type": "code",
   "execution_count": 10,
   "id": "a30a5332",
   "metadata": {},
   "outputs": [
    {
     "data": {
      "text/plain": [
       "(1214, 28, 28, 1)"
      ]
     },
     "execution_count": 10,
     "metadata": {},
     "output_type": "execute_result"
    }
   ],
   "source": [
    "X_train.shape"
   ]
  },
  {
   "cell_type": "code",
   "execution_count": 11,
   "id": "ff967e8c",
   "metadata": {},
   "outputs": [
    {
     "data": {
      "text/plain": [
       "(1214, 28, 28, 1)"
      ]
     },
     "execution_count": 11,
     "metadata": {},
     "output_type": "execute_result"
    }
   ],
   "source": [
    "y_train.shape"
   ]
  },
  {
   "cell_type": "code",
   "execution_count": 12,
   "id": "65ed3bdb",
   "metadata": {},
   "outputs": [
    {
     "data": {
      "text/plain": [
       "(203, 28, 28, 1)"
      ]
     },
     "execution_count": 12,
     "metadata": {},
     "output_type": "execute_result"
    }
   ],
   "source": [
    "X_val.shape"
   ]
  },
  {
   "cell_type": "code",
   "execution_count": 13,
   "id": "4980a51f",
   "metadata": {},
   "outputs": [
    {
     "data": {
      "text/plain": [
       "(203, 28, 28, 1)"
      ]
     },
     "execution_count": 13,
     "metadata": {},
     "output_type": "execute_result"
    }
   ],
   "source": [
    "y_val.shape"
   ]
  },
  {
   "cell_type": "code",
   "execution_count": null,
   "id": "f9e90fe0",
   "metadata": {},
   "outputs": [],
   "source": []
  },
  {
   "cell_type": "code",
   "execution_count": null,
   "id": "a77327de",
   "metadata": {},
   "outputs": [],
   "source": []
  },
  {
   "cell_type": "code",
   "execution_count": 12,
   "id": "8a78fc40",
   "metadata": {},
   "outputs": [
    {
     "name": "stderr",
     "output_type": "stream",
     "text": [
      "/home/jiehyun.kim001/miniconda3/envs/O/lib/python3.9/site-packages/sklearn/metrics/_classification.py:1464: UndefinedMetricWarning: F-score is ill-defined and being set to 0.0 in labels with no true nor predicted samples. Use `zero_division` parameter to control this behavior.\n",
      "  _warn_prf(\n"
     ]
    },
    {
     "name": "stdout",
     "output_type": "stream",
     "text": [
      "run 0 acc 0.009852216748768473 f1 0.1049247490742525\n",
      "test run 0 acc 0.0014114326040931546 f1 0.12057295209793417\n"
     ]
    },
    {
     "name": "stderr",
     "output_type": "stream",
     "text": [
      "/home/jiehyun.kim001/miniconda3/envs/O/lib/python3.9/site-packages/sklearn/metrics/_classification.py:1464: UndefinedMetricWarning: F-score is ill-defined and being set to 0.0 in labels with no true nor predicted samples. Use `zero_division` parameter to control this behavior.\n",
      "  _warn_prf(\n"
     ]
    },
    {
     "name": "stdout",
     "output_type": "stream",
     "text": [
      "run 1 acc 0.009852216748768473 f1 0.10367785001158772\n",
      "test run 1 acc 0.0014114326040931546 f1 0.1117132169914147\n"
     ]
    },
    {
     "name": "stderr",
     "output_type": "stream",
     "text": [
      "/home/jiehyun.kim001/miniconda3/envs/O/lib/python3.9/site-packages/sklearn/metrics/_classification.py:1464: UndefinedMetricWarning: F-score is ill-defined and being set to 0.0 in labels with no true nor predicted samples. Use `zero_division` parameter to control this behavior.\n",
      "  _warn_prf(\n"
     ]
    },
    {
     "name": "stdout",
     "output_type": "stream",
     "text": [
      "run 2 acc 0.0 f1 0.09960909094077437\n",
      "test run 2 acc 0.0014114326040931546 f1 0.11933557513823785\n"
     ]
    },
    {
     "name": "stderr",
     "output_type": "stream",
     "text": [
      "/home/jiehyun.kim001/miniconda3/envs/O/lib/python3.9/site-packages/sklearn/metrics/_classification.py:1464: UndefinedMetricWarning: F-score is ill-defined and being set to 0.0 in labels with no true nor predicted samples. Use `zero_division` parameter to control this behavior.\n",
      "  _warn_prf(\n"
     ]
    },
    {
     "name": "stdout",
     "output_type": "stream",
     "text": [
      "run 3 acc 0.009852216748768473 f1 0.1008088594913108\n",
      "test run 3 acc 0.0014114326040931546 f1 0.11992845996081726\n"
     ]
    },
    {
     "name": "stderr",
     "output_type": "stream",
     "text": [
      "/home/jiehyun.kim001/miniconda3/envs/O/lib/python3.9/site-packages/sklearn/metrics/_classification.py:1464: UndefinedMetricWarning: F-score is ill-defined and being set to 0.0 in labels with no true nor predicted samples. Use `zero_division` parameter to control this behavior.\n",
      "  _warn_prf(\n"
     ]
    },
    {
     "name": "stdout",
     "output_type": "stream",
     "text": [
      "run 4 acc 0.0 f1 0.1031949862143782\n",
      "test run 4 acc 0.0014114326040931546 f1 0.12586153746539866\n"
     ]
    },
    {
     "name": "stderr",
     "output_type": "stream",
     "text": [
      "/home/jiehyun.kim001/miniconda3/envs/O/lib/python3.9/site-packages/sklearn/metrics/_classification.py:1464: UndefinedMetricWarning: F-score is ill-defined and being set to 0.0 in labels with no true nor predicted samples. Use `zero_division` parameter to control this behavior.\n",
      "  _warn_prf(\n"
     ]
    },
    {
     "name": "stdout",
     "output_type": "stream",
     "text": [
      "run 5 acc 0.0049261083743842365 f1 0.09983670241348042\n",
      "test run 5 acc 0.0014114326040931546 f1 0.11481687075587241\n"
     ]
    },
    {
     "name": "stderr",
     "output_type": "stream",
     "text": [
      "/home/jiehyun.kim001/miniconda3/envs/O/lib/python3.9/site-packages/sklearn/metrics/_classification.py:1464: UndefinedMetricWarning: F-score is ill-defined and being set to 0.0 in labels with no true nor predicted samples. Use `zero_division` parameter to control this behavior.\n",
      "  _warn_prf(\n"
     ]
    },
    {
     "name": "stdout",
     "output_type": "stream",
     "text": [
      "run 6 acc 0.0049261083743842365 f1 0.09968715427546371\n",
      "test run 6 acc 0.0014114326040931546 f1 0.10956156113567754\n"
     ]
    },
    {
     "name": "stderr",
     "output_type": "stream",
     "text": [
      "/home/jiehyun.kim001/miniconda3/envs/O/lib/python3.9/site-packages/sklearn/metrics/_classification.py:1464: UndefinedMetricWarning: F-score is ill-defined and being set to 0.0 in labels with no true nor predicted samples. Use `zero_division` parameter to control this behavior.\n",
      "  _warn_prf(\n"
     ]
    },
    {
     "name": "stdout",
     "output_type": "stream",
     "text": [
      "run 7 acc 0.0 f1 0.10485425331662075\n",
      "test run 7 acc 0.0014114326040931546 f1 0.11807531362385641\n"
     ]
    },
    {
     "name": "stderr",
     "output_type": "stream",
     "text": [
      "/home/jiehyun.kim001/miniconda3/envs/O/lib/python3.9/site-packages/sklearn/metrics/_classification.py:1464: UndefinedMetricWarning: F-score is ill-defined and being set to 0.0 in labels with no true nor predicted samples. Use `zero_division` parameter to control this behavior.\n",
      "  _warn_prf(\n"
     ]
    },
    {
     "name": "stdout",
     "output_type": "stream",
     "text": [
      "run 8 acc 0.009852216748768473 f1 0.10120003130573342\n",
      "test run 8 acc 0.0014114326040931546 f1 0.12668380957055622\n"
     ]
    },
    {
     "name": "stderr",
     "output_type": "stream",
     "text": [
      "/home/jiehyun.kim001/miniconda3/envs/O/lib/python3.9/site-packages/sklearn/metrics/_classification.py:1464: UndefinedMetricWarning: F-score is ill-defined and being set to 0.0 in labels with no true nor predicted samples. Use `zero_division` parameter to control this behavior.\n",
      "  _warn_prf(\n"
     ]
    },
    {
     "name": "stdout",
     "output_type": "stream",
     "text": [
      "run 9 acc 0.0 f1 0.09566906945511348\n",
      "test run 9 acc 0.0014114326040931546 f1 0.11869784812388223\n"
     ]
    }
   ],
   "source": [
    "train_f1 = []\n",
    "test_f1 = []\n",
    "for i in range(10):\n",
    "    X, y = shuffle(images, labels, random_state=0)\n",
    "    X_train, X_val, y_train, y_val = split(X, y, val_size=0.15)\n",
    "    rf = RandomForestClassifier(n_estimators=100)\n",
    "    \n",
    "    X_train_raveled = X_train.reshape(X_train.shape[0], X_train.shape[1]*X_train.shape[2])\n",
    "    X_val_raveled = X_val.reshape(X_val.shape[0], X_val.shape[1]*X_val.shape[2])\n",
    "    y_train_raveled = y_train.reshape(y_train.shape[0], y_train.shape[1]*y_train.shape[2])\n",
    "    y_val_raveled = y_val.reshape(y_val.shape[0], y_val.shape[1]*y_val.shape[2])\n",
    "\n",
    "\n",
    "    fitted = rf.fit(X_train_raveled, y_train_raveled)\n",
    "    \n",
    "    y_pred = rf.predict(X_val_raveled)\n",
    "    \n",
    "    \n",
    "    f1 = sklearn.metrics.f1_score(y_val_raveled, y_pred, average='macro')\n",
    "    train_f1.append(f1)\n",
    "    print('run', i, 'acc', sklearn.metrics.accuracy_score(y_val_raveled, y_pred), 'f1', f1)\n",
    "    \n",
    "    asymp_img_test = np.load('/raid/mpsych/CACTAS/DATA/ESUS/asymp_cropped.npy')\n",
    "    symp_img_test = np.load('/raid/mpsych/CACTAS/DATA/ESUS/symp_cropped.npy')\n",
    "    asymp_label_test = np.load('/raid/mpsych/CACTAS/DATA/ESUS/asymp_labels_cropped.npy')\n",
    "    symp_label_test = np.load('/raid/mpsych/CACTAS/DATA/ESUS/symp_labels_cropped.npy')\n",
    "\n",
    "    labels_test = np.concatenate((asymp_label_test, symp_label_test))\n",
    "    images_test = np.concatenate((asymp_img_test, symp_img_test))\n",
    "    \n",
    "    X_test, y_test = shuffle(images_test, labels_test, random_state=0)\n",
    "    \n",
    "    X_test_raveled = X_test.reshape(X_test.shape[0], X_test.shape[1]*X_test.shape[2])\n",
    "    y_test_raveled = y_test.reshape(y_test.shape[0], y_test.shape[1]*y_test.shape[2])\n",
    "    \n",
    "    y_pred = rf.predict(X_test_raveled)\n",
    "    \n",
    "    test_acc = sklearn.metrics.accuracy_score(y_test_raveled, y_pred)\n",
    "    c_test_f1 = sklearn.metrics.f1_score(y_test_raveled, y_pred, average='macro')\n",
    "    print('test run', i, 'acc', test_acc, 'f1', c_test_f1)\n",
    "    \n",
    "    test_f1.append(c_test_f1)\n"
   ]
  },
  {
   "cell_type": "code",
   "execution_count": null,
   "id": "e1880f44",
   "metadata": {},
   "outputs": [],
   "source": []
  },
  {
   "cell_type": "code",
   "execution_count": 13,
   "id": "0b33254f",
   "metadata": {},
   "outputs": [],
   "source": [
    "def boxplot(all_data, labels, y_label='Time [s]', y_lim_min=0, y_lim=1000, title=None, outputdir='/home/jiehyun.kim001/CACTAS/_EXPERIMENTS/'):\n",
    "    matplotlib.rcParams.update({'font.size': 32})\n",
    "    plt.rc('axes', labelsize=65)    # fontsize of the x and y labels\n",
    "    plt.rc('legend', fontsize=32)   \n",
    "    plt.rc('xtick', labelsize=42) \n",
    "\n",
    "    # fig, (ax1, ax2) = plt.subplots(nrows=1, ncols=1, figsize=(9, 4))\n",
    "    fig = plt.figure(figsize=(7, 13))\n",
    "    ax = fig.gca()\n",
    "    # ax1 = plt.gcf()\n",
    "    boxprops = dict(color=\"black\",linewidth=1.5)\n",
    "    medianprops = dict(color=\"black\",linewidth=1.5)\n",
    "    # rectangular box plot\n",
    "    bplot1 = plt.boxplot(all_data,\n",
    "                         vert=True,  # vertical box alignment\n",
    "                         patch_artist=True,  # fill with color\n",
    "                         labels=labels,\n",
    "                         boxprops=boxprops,\n",
    "                         medianprops=medianprops)  # will be used to label x-ticks\n",
    "\n",
    "    # fill with colors\n",
    "    colors = ['#af8dc3', '#7fbf7b']\n",
    "    # for bplot in (bplot1, bplot2):\n",
    "    for patch, color in zip(bplot1['boxes'], colors):\n",
    "        patch.set_facecolor(color)\n",
    "\n",
    "    ax.set_ylabel(y_label)\n",
    "    ax.set_ylim(y_lim_min,y_lim)\n",
    "\n",
    "    titleb = title\n",
    "    if not title:\n",
    "        titleb = 'figure.pdf'\n",
    "\n",
    "\n",
    "\n",
    "    filename_pdf = outputdir+'/'+titleb.replace(' ','_').replace(',','')+'.pdf'\n",
    "    filename_png = outputdir+'/'+titleb.replace(' ','_').replace(',','')+'.png'\n",
    "    plt.savefig(filename_pdf,bbox_inches='tight')\n",
    "    plt.savefig(filename_png,bbox_inches='tight')\n",
    "\n",
    "    if title:\n",
    "        plt.title(title)\n",
    "\n",
    "\n",
    "    plt.show()\n",
    "\n",
    "\n",
    "\n",
    "    print(labels[0], np.mean(all_data[0]),'+/-', np.std(all_data[0]))\n",
    "    print(labels[1], np.mean(all_data[1]),'+/-', np.std(all_data[1]))\n",
    "\n",
    "    ttest = stats.ttest_ind(all_data[0],all_data[1])\n",
    "\n",
    "    print('t_'+str(len(all_data[0]+all_data[1])), '=', str(round(ttest[0],3)), ',p=',str(round(ttest[1],2)))"
   ]
  },
  {
   "cell_type": "code",
   "execution_count": 14,
   "id": "e8972475",
   "metadata": {},
   "outputs": [
    {
     "data": {
      "image/png": "[encoded data removed]",
      "text/plain": [
       "<Figure size 504x936 with 1 Axes>"
      ]
     },
     "metadata": {
      "needs_background": "light"
     },
     "output_type": "display_data"
    },
    {
     "name": "stdout",
     "output_type": "stream",
     "text": [
      "Train 0.10134627464987153 +/- 0.0027304858291698373\n",
      "Test 0.11852471448636474 +/- 0.005176270233661181\n",
      "t_20 = -8.806 ,p= 0.0\n"
     ]
    }
   ],
   "source": [
    "data = [train_f1, test_f1]\n",
    "labels = ['Train', 'Test']\n",
    "boxplot(data, labels, y_lim=1, y_label='F1 Score', outputdir='/home/jiehyun.kim001/CACTAS/_EXPERIMENTS/')"
   ]
  },
  {
   "cell_type": "code",
   "execution_count": null,
   "id": "d00afb48",
   "metadata": {},
   "outputs": [],
   "source": []
  },
  {
   "cell_type": "code",
   "execution_count": null,
   "id": "78c58fbd",
   "metadata": {},
   "outputs": [],
   "source": []
  },
  {
   "cell_type": "code",
   "execution_count": null,
   "id": "7c21c8a5",
   "metadata": {},
   "outputs": [],
   "source": []
  }
 ],
 "metadata": {
  "kernelspec": {
   "display_name": "Python 3 (ipykernel)",
   "language": "python",
   "name": "python3"
  },
  "language_info": {
   "codemirror_mode": {
    "name": "ipython",
    "version": 3
   },
   "file_extension": ".py",
   "mimetype": "text/x-python",
   "name": "python",
   "nbconvert_exporter": "python",
   "pygments_lexer": "ipython3",
   "version": "3.9.7"
  }
 },
 "nbformat": 4,
 "nbformat_minor": 5
}
