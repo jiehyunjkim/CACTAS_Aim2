{
 "cells": [
  {
   "cell_type": "code",
   "execution_count": 1,
   "id": "3b1ad3bd",
   "metadata": {},
   "outputs": [
    {
     "name": "stdout",
     "output_type": "stream",
     "text": [
      "Populating the interactive namespace from numpy and matplotlib\n"
     ]
    }
   ],
   "source": [
    "%pylab inline\n",
    "import os\n",
    "import mahotas as mh\n",
    "import nrrd"
   ]
  },
  {
   "cell_type": "code",
   "execution_count": 2,
   "id": "8df56475",
   "metadata": {},
   "outputs": [],
   "source": [
    "DATAPATH = '/raid/mpsych/CACTAS/DATA/ESUS/'"
   ]
  },
  {
   "cell_type": "code",
   "execution_count": 3,
   "id": "51e1603d",
   "metadata": {},
   "outputs": [],
   "source": [
    "selected = []\n",
    "plaque_count = 0\n",
    "voxel_count_plaque = 0\n",
    "voxel_count = 0\n",
    "casecount = 0\n",
    "image = []\n",
    "label = []\n",
    "image_name = []\n",
    "label_name = []"
   ]
  },
  {
   "cell_type": "code",
   "execution_count": 4,
   "id": "a6e14ea8",
   "metadata": {},
   "outputs": [],
   "source": [
    "for f in os.listdir(DATAPATH):\n",
    "    if f.endswith('img.nrrd'):\n",
    "        image_data, image_header = nrrd.read(DATAPATH + f)\n",
    "        #print(f)\n",
    "        image_name.append(f)\n",
    "        image.append(image_data)\n",
    "        \n",
    "    if f.endswith('seg.nrrd'):\n",
    "        label_data, label_header = nrrd.read(DATAPATH + f)\n",
    "        #print(f)\n",
    "        label_name.append(f)\n",
    "        label.append(label_data)"
   ]
  },
  {
   "cell_type": "code",
   "execution_count": 5,
   "id": "2e50a28d",
   "metadata": {},
   "outputs": [
    {
     "data": {
      "text/plain": [
       "(64, 64)"
      ]
     },
     "execution_count": 5,
     "metadata": {},
     "output_type": "execute_result"
    }
   ],
   "source": [
    "len(image), len(label)"
   ]
  },
  {
   "cell_type": "code",
   "execution_count": 6,
   "id": "b2c9b330",
   "metadata": {},
   "outputs": [],
   "source": [
    "for i in range(len(image)):\n",
    "    relabel, obj = mh.label(label[i])\n",
    "\n",
    "    plaque_count += relabel.max()\n",
    "    voxel_count_plaque += np.count_nonzero(relabel)\n",
    "    voxel_count += image[i].shape[0] * image[i].shape[1] * image[i].shape[2]\n",
    "\n",
    "    casecount += 1"
   ]
  },
  {
   "cell_type": "code",
   "execution_count": 7,
   "id": "4b545412",
   "metadata": {},
   "outputs": [
    {
     "data": {
      "text/plain": [
       "(270, 38500, 3904110592, 64)"
      ]
     },
     "execution_count": 7,
     "metadata": {},
     "output_type": "execute_result"
    }
   ],
   "source": [
    "plaque_count, voxel_count_plaque, voxel_count, casecount"
   ]
  },
  {
   "cell_type": "code",
   "execution_count": 8,
   "id": "136438cc",
   "metadata": {},
   "outputs": [],
   "source": [
    "#AVERAGE\n",
    "avg = voxel_count / casecount"
   ]
  },
  {
   "cell_type": "code",
   "execution_count": 9,
   "id": "44f588e0",
   "metadata": {},
   "outputs": [
    {
     "data": {
      "text/plain": [
       "61001728.0"
      ]
     },
     "execution_count": 9,
     "metadata": {},
     "output_type": "execute_result"
    }
   ],
   "source": [
    "avg"
   ]
  },
  {
   "cell_type": "code",
   "execution_count": 10,
   "id": "8e43b88a",
   "metadata": {},
   "outputs": [
    {
     "data": {
      "text/plain": [
       "64"
      ]
     },
     "execution_count": 10,
     "metadata": {},
     "output_type": "execute_result"
    }
   ],
   "source": [
    "len(image_name)"
   ]
  },
  {
   "cell_type": "code",
   "execution_count": 11,
   "id": "de833d7d",
   "metadata": {},
   "outputs": [],
   "source": [
    "close = {}\n",
    "for i, f in enumerate(image_name):\n",
    "    voxel_count = image[i].shape[0] * image[i].shape[1] * image[i].shape[2]\n",
    "    num = abs(voxel_count - avg)\n",
    "    close[f] = num\n",
    "    sorted_dict = sorted(close.items(), key=lambda x:x[1])\n",
    "    #close.sort()\n",
    "    #print(close)"
   ]
  },
  {
   "cell_type": "code",
   "execution_count": 12,
   "id": "e5309382",
   "metadata": {},
   "outputs": [
    {
     "data": {
      "text/plain": [
       "[('69.img.nrrd', 184320.0),\n",
       " ('21.img.nrrd', 184320.0),\n",
       " ('10.img.nrrd', 339968.0),\n",
       " ('72.img.nrrd', 446464.0),\n",
       " ('86.img.nrrd', 602112.0),\n",
       " ('46.img.nrrd', 602112.0),\n",
       " ('52.img.nrrd', 708608.0),\n",
       " ('96.img.nrrd', 708608.0),\n",
       " ('57.img.nrrd', 864256.0),\n",
       " ('82.img.nrrd', 864256.0),\n",
       " ('64.img.nrrd', 1126400.0),\n",
       " ('16.img.nrrd', 1126400.0),\n",
       " ('25.img.nrrd', 1126400.0),\n",
       " ('92.img.nrrd', 1232896.0),\n",
       " ('45.img.nrrd', 1650688.0),\n",
       " ('35.img.nrrd', 1650688.0),\n",
       " ('53.img.nrrd', 1650688.0),\n",
       " ('29.img.nrrd', 1757184.0),\n",
       " ('26.img.nrrd', 1912832.0),\n",
       " ('75.img.nrrd', 1912832.0),\n",
       " ('9.img.nrrd', 2174976.0),\n",
       " ('66.img.nrrd', 2174976.0),\n",
       " ('32.img.nrrd', 2174976.0),\n",
       " ('2.img.nrrd', 2437120.0),\n",
       " ('12.img.nrrd', 2805760.0),\n",
       " ('36.img.nrrd', 3067904.0),\n",
       " ('40.img.nrrd', 3067904.0),\n",
       " ('24.img.nrrd', 3223552.0),\n",
       " ('50.img.nrrd', 3223552.0),\n",
       " ('39.img.nrrd', 3223552.0),\n",
       " ('93.img.nrrd', 3854336.0),\n",
       " ('97.img.nrrd', 4116480.0),\n",
       " ('27.img.nrrd', 4378624.0),\n",
       " ('90.img.nrrd', 4378624.0),\n",
       " ('13.img.nrrd', 4534272.0),\n",
       " ('23.img.nrrd', 4640768.0),\n",
       " ('88.img.nrrd', 5165056.0),\n",
       " ('49.img.nrrd', 5582848.0),\n",
       " ('18.img.nrrd', 5689344.0),\n",
       " ('14.img.nrrd', 5844992.0),\n",
       " ('73.img.nrrd', 5844992.0),\n",
       " ('7.img.nrrd', 5951488.0),\n",
       " ('71.img.nrrd', 6213632.0),\n",
       " ('33.img.nrrd', 6631424.0),\n",
       " ('87.img.nrrd', 7417856.0),\n",
       " ('83.img.nrrd', 8204288.0),\n",
       " ('79.img.nrrd', 8204288.0),\n",
       " ('5.img.nrrd', 8310784.0),\n",
       " ('94.img.nrrd', 8572928.0),\n",
       " ('62.img.nrrd', 9252864.0),\n",
       " ('77.img.nrrd', 10145792.0),\n",
       " ('47.img.nrrd', 10407936.0),\n",
       " ('6.img.nrrd', 12136448.0),\n",
       " ('41.img.nrrd', 12505088.0),\n",
       " ('31.img.nrrd', 13815808.0),\n",
       " ('63.img.nrrd', 14077952.0),\n",
       " ('91.img.nrrd', 14864384.0),\n",
       " ('22.img.nrrd', 14864384.0),\n",
       " ('17.img.nrrd', 15806464.0),\n",
       " ('84.img.nrrd', 16437248.0),\n",
       " ('15.img.nrrd', 16699392.0),\n",
       " ('51.img.nrrd', 41234432.0),\n",
       " ('61.img.nrrd', 42127360.0),\n",
       " ('48.img.nrrd', 76623872.0)]"
      ]
     },
     "execution_count": 12,
     "metadata": {},
     "output_type": "execute_result"
    }
   ],
   "source": [
    "sorted_dict"
   ]
  },
  {
   "cell_type": "code",
   "execution_count": null,
   "id": "2d757b8d",
   "metadata": {},
   "outputs": [],
   "source": []
  }
 ],
 "metadata": {
  "kernelspec": {
   "display_name": "Python 3",
   "language": "python",
   "name": "python3"
  },
  "language_info": {
   "codemirror_mode": {
    "name": "ipython",
    "version": 3
   },
   "file_extension": ".py",
   "mimetype": "text/x-python",
   "name": "python",
   "nbconvert_exporter": "python",
   "pygments_lexer": "ipython3",
   "version": "3.10.6 (main, Aug 30 2022, 04:58:14) [Clang 13.1.6 (clang-1316.0.21.2.5)]"
  },
  "vscode": {
   "interpreter": {
    "hash": "b0fa6594d8f4cbf19f97940f81e996739fb7646882a419484c72d19e05852a7e"
   }
  }
 },
 "nbformat": 4,
 "nbformat_minor": 5
}
